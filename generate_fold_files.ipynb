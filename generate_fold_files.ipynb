{
 "cells": [
  {
   "cell_type": "markdown",
   "metadata": {},
   "source": [
    "# Notebook to generate fold text files for the mturk task\n",
    "\n",
    "This notebook generates fold.txt files for each element in the canva_scarping2 dataset.\n",
    "\n",
    "Each fold.txt will contain 5-10 image names from the canva_scraping2 dataset. The image names will be links to Dropbox, as the canva_scraping2 dataset is hosted there.\n",
    "\n",
    "Folds can be built with a mix of multiple classes in each one of them, as to avoid having only book-covers or web-ads in each fold.\n",
    "\n",
    "Example structure of a fold.txt file: \n",
    "\n",
    "https://www.dropbox.com/s/gp9snrmlc54d3vo/certificates_1_18_MACS_ooy31s.png?raw=1\n",
    "https://www.dropbox.com/s/c32nwr8y37sw3or/certificates_1_10_MACTFpwVtmk.png?raw=1\n",
    "\n",
    ".\n",
    ".\n",
    ".\n",
    ".\n",
    "\n",
    "\n"
   ]
  },
  {
   "cell_type": "code",
   "execution_count": 31,
   "metadata": {},
   "outputs": [],
   "source": [
    "# Imports\n",
    "import numpy as np\n",
    "import os\n",
    "import matplotlib.pyplot as plt\n",
    "import pandas as pd"
   ]
  },
  {
   "cell_type": "code",
   "execution_count": 23,
   "metadata": {},
   "outputs": [],
   "source": [
    "# Constants\n",
    "USE_FULL_DATASET = True\n",
    "CLASSES_TO_USE = None\n",
    "WITH_TEXT = True\n",
    "FILES_PER_FOLD = 10\n",
    "DATASET_PATH = '../canva_scraping2'\n",
    "FOLD_OUTPUT_DIR = './files'"
   ]
  },
  {
   "cell_type": "markdown",
   "metadata": {},
   "source": [
    "## Dataset stats"
   ]
  },
  {
   "cell_type": "code",
   "execution_count": 24,
   "metadata": {},
   "outputs": [
    {
     "name": "stdout",
     "output_type": "stream",
     "text": [
      "Data folders in canva_scraping2: ['book-covers', 'cd-covers', 'certificates', 'coupons', 'flyers', 'infographics', 'magazine-covers', 'posters', 'social-graphics', 'web-ads']\n",
      "Number of elements in folder book-covers: 799\n",
      "Number of elements in folder cd-covers: 447\n",
      "Number of elements in folder certificates: 270\n",
      "Number of elements in folder coupons: 579\n",
      "Number of elements in folder flyers: 1526\n",
      "Number of elements in folder infographics: 282\n",
      "Number of elements in folder magazine-covers: 868\n",
      "Number of elements in folder posters: 2255\n",
      "Number of elements in folder social-graphics: 1384\n",
      "Number of elements in folder web-ads: 567\n",
      "Num elems in full dataset: 8977\n"
     ]
    }
   ],
   "source": [
    "# Get statistics on canva_scraping2\n",
    "\n",
    "# Get folder names\n",
    "canva_scraping2_folders = [f for f in os.listdir(DATASET_PATH) if '_' not in f and '.' not in f and os.path.isdir(os.path.join(DATASET_PATH,f))]\n",
    "print('Data folders in canva_scraping2:', canva_scraping2_folders)\n",
    "\n",
    "num_elems_in_full_dataset = 0\n",
    "\n",
    "# Get number of elements in folders\n",
    "for fol in canva_scraping2_folders:\n",
    "    num_elems = len([p for p in os.listdir(os.path.join(DATASET_PATH, fol, 'png')) if p.endswith('png')])\n",
    "    print('Number of elements in folder %s: %d' % (fol, num_elems))\n",
    "    num_elems_in_full_dataset += num_elems\n",
    "    \n",
    "print('Num elems in full dataset:', num_elems_in_full_dataset)"
   ]
  },
  {
   "cell_type": "markdown",
   "metadata": {},
   "source": [
    "## Generate fold files"
   ]
  },
  {
   "cell_type": "code",
   "execution_count": 29,
   "metadata": {},
   "outputs": [],
   "source": [
    "## Helper functions\n",
    "def get_all_design_names(data_path, classes_to_use):    \n",
    "    names_dict = {}\n",
    "    \n",
    "    for cl in classes_to_use:\n",
    "        names_dict[cl] = []\n",
    "    \n",
    "    \n",
    "    for cl in classes_to_use: \n",
    "        names_dict[cl] = [p for p in os.listdir(os.path.join(data_path, cl, 'png')) if p.endswith('png')]\n",
    "        \n",
    "    return names_dict\n",
    "\n",
    "## Generate fold files\n",
    "def generate_fold_files(data_path, output_dir, classes_to_use=None, files_per_fold = 10, mix_classes=True, files_to_generate=2, verbose=True):\n",
    "    \n",
    "    if not classes_to_use:\n",
    "        classes_to_use = [f for f in os.listdir(DATASET_PATH) if '_' not in f and '.' not in f and os.path.isdir(os.path.join(DATASET_PATH,f))]\n",
    "\n",
    "    \n",
    "    num_folds_generated=0\n",
    "    unused_design_names = get_all_design_names(data_path, classes_to_use)\n",
    "    \n",
    "    while unused_design_names and num_folds_generated<files_to_generate:\n",
    "        fold_txt_name = 'fold'+str(num_folds_generated)+'.txt'\n",
    "        fold_path = os.path.join(output_dir, fold_txt_name)\n",
    "        \n",
    "        generate_one_fold_file(fold_path, unused_design_names, files_per_fold)\n",
    "        \n",
    "        num_folds_generated +=1\n",
    "        \n",
    "        if verbose:\n",
    "            print('Fold %s generated. %d files generated so far.' % (fold_txt_name, num_folds_generated))\n",
    "        \n",
    "    print('Done.')    \n",
    "        \n",
    "            \n",
    "def generate_one_fold_file(fold_path, unused_design_names, files_per_fold):\n",
    "    \n",
    "    with open(fold_path, 'w+') as f:\n",
    "        for _ in range(files_per_fold):\n",
    "            # Sample a class\n",
    "            cl = np.random.choice(list(unused_design_names.keys()))\n",
    "            print('chosen class:', cl)\n",
    "\n",
    "            # Get a design name from that class\n",
    "            design = np.random.choice(unused_design_names[cl])\n",
    "            link = get_dropbox_link(design)\n",
    "\n",
    "            # Add to fold\n",
    "            f.write(link+'\\n')\n",
    "\n",
    "            # Remove that design from the list of usable designs\n",
    "            unused_design_names[cl].remove(design)\n",
    "            if not unused_design_names[cl]:\n",
    "                del unused_design_names[cl]\n",
    "            \n",
    "    return unused_design_names\n",
    "\n",
    "\n",
    "def get_dropbox_link(design):\n",
    "    \n",
    "    ## TODO: Finish this function\n",
    "    return 'https://www.dropbox.com/s/'+str(design)"
   ]
  },
  {
   "cell_type": "code",
   "execution_count": 30,
   "metadata": {},
   "outputs": [
    {
     "name": "stdout",
     "output_type": "stream",
     "text": [
      "chosen class: cd-covers\n",
      "chosen class: cd-covers\n",
      "chosen class: flyers\n",
      "chosen class: posters\n",
      "chosen class: book-covers\n",
      "chosen class: magazine-covers\n",
      "chosen class: certificates\n",
      "chosen class: coupons\n",
      "chosen class: coupons\n",
      "chosen class: book-covers\n",
      "Fold fold0.txt generated. 1 files generated so far.\n",
      "chosen class: cd-covers\n",
      "chosen class: web-ads\n",
      "chosen class: certificates\n",
      "chosen class: web-ads\n",
      "chosen class: certificates\n",
      "chosen class: flyers\n",
      "chosen class: cd-covers\n",
      "chosen class: magazine-covers\n",
      "chosen class: certificates\n",
      "chosen class: flyers\n",
      "Fold fold1.txt generated. 2 files generated so far.\n",
      "Done.\n"
     ]
    }
   ],
   "source": [
    "generate_fold_files(data_path=DATASET_PATH, \n",
    "                    output_dir=FOLD_OUTPUT_DIR, \n",
    "                    classes_to_use=None, #all classes will be used\n",
    "                    files_per_fold = 10, \n",
    "                    mix_classes=True, \n",
    "                    files_to_generate=2)"
   ]
  },
  {
   "cell_type": "code",
   "execution_count": null,
   "metadata": {},
   "outputs": [],
   "source": []
  }
 ],
 "metadata": {
  "kernelspec": {
   "display_name": "Python 3",
   "language": "python",
   "name": "python3"
  },
  "language_info": {
   "codemirror_mode": {
    "name": "ipython",
    "version": 3
   },
   "file_extension": ".py",
   "mimetype": "text/x-python",
   "name": "python",
   "nbconvert_exporter": "python",
   "pygments_lexer": "ipython3",
   "version": "3.6.6"
  }
 },
 "nbformat": 4,
 "nbformat_minor": 2
}
