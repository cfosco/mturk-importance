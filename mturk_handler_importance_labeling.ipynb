{
 "cells": [
  {
   "cell_type": "markdown",
   "metadata": {},
   "source": [
    "# Setup"
   ]
  },
  {
   "cell_type": "code",
   "execution_count": 10,
   "metadata": {},
   "outputs": [],
   "source": [
    "# path to the config file (see example). \n",
    "# will work with a config file for https://github.com/kimberli/mturk-template, \n",
    "# but a minimal example is included.\n",
    "# Also supports an additional feature, the \"variants\" key, which is a list of dictionaries. \n",
    "# If \"variants\" is specified, for each dictionary it contains, those keys will be meshed with the \"hitCreation\"\n",
    "# key and one task will be made per variant. Else, config[\"hitCreation\"][\"numTasks\"] versions of the same\n",
    "# task will be launched. \n",
    "CONFIG_PATH = \"./config.json\"\n",
    "\n",
    "# where to save downloaded results \n",
    "SAVE_PATH = \"./result.csv\" "
   ]
  },
  {
   "cell_type": "code",
   "execution_count": 11,
   "metadata": {},
   "outputs": [
    {
     "name": "stdout",
     "output_type": "stream",
     "text": [
      "USING SANDBOX\n",
      "TASK URL: https://cfosco.github.io/mturk-importance/?url=fold1.txt\n"
     ]
    }
   ],
   "source": [
    "from boto3 import client\n",
    "import json\n",
    "import copy\n",
    "\n",
    "_USING_PROD = None\n",
    "\n",
    "with open(CONFIG_PATH, 'r') as f:\n",
    "    config = json.loads(f.read())\n",
    "    hit_config = config['hitCreation']\n",
    "\n",
    "if hit_config['production']:\n",
    "    print(\"USING PROD\")\n",
    "    _USING_PROD = True\n",
    "    endpoint_url = 'https://mturk-requester.us-east-1.amazonaws.com'\n",
    "else:\n",
    "    print(\"USING SANDBOX\")\n",
    "    _USING_PROD = False\n",
    "    endpoint_url = 'https://mturk-requester-sandbox.us-east-1.amazonaws.com'\n",
    "        \n",
    "cl = client('mturk', region_name='us-east-1', endpoint_url=endpoint_url)\n",
    "\n",
    "print(\"TASK URL: \" + hit_config['taskUrl'])\n"
   ]
  },
  {
   "cell_type": "markdown",
   "metadata": {},
   "source": [
    "# Make new HIT"
   ]
  },
  {
   "cell_type": "code",
   "execution_count": 12,
   "metadata": {},
   "outputs": [],
   "source": [
    "# Safety flags that prevent you from accidentally messing up your HITs. \n",
    "# Set to False except when you are performing these specific tasks. \n",
    "ALLOW_HIT_CREATION = True\n",
    "ALLOW_ASSIGNMENT_ADDITION = False\n",
    "ALLOW_CREATE_QUAL = False\n",
    "ALLOW_UPDATE_EXPIRATION = False"
   ]
  },
  {
   "cell_type": "code",
   "execution_count": 13,
   "metadata": {},
   "outputs": [],
   "source": [
    "# List of qualifications that you will use to filter potential workers. \n",
    "# These require that workers come from the US and have an approval rating >= 95%\n",
    "QUALS = [\n",
    "       {\n",
    "           'QualificationTypeId': '00000000000000000071',\n",
    "           'Comparator': 'EqualTo',\n",
    "           'LocaleValues': [{\n",
    "               'Country': 'US',\n",
    "           }],\n",
    "       },\n",
    "        \n",
    "       {\n",
    "           'QualificationTypeId': '000000000000000000L0',\n",
    "           'Comparator': 'GreaterThanOrEqualTo',\n",
    "           'IntegerValues': [\n",
    "               95\n",
    "           ],\n",
    "       },\n",
    "    ]"
   ]
  },
  {
   "cell_type": "code",
   "execution_count": 14,
   "metadata": {},
   "outputs": [],
   "source": [
    "# creates a HIT in the form of an External Question inside an iFrame\n",
    "def create_hit(task):\n",
    "    questionText = \"<ExternalQuestion xmlns=\\\"http://mechanicalturk.amazonaws.com/AWSMechanicalTurkDataSchemas/\"\n",
    "    questionText += \"2006-07-14/ExternalQuestion.xsd\\\">\\n<ExternalURL>\" + task['taskUrl']\n",
    "    questionText += \"</ExternalURL>\\n  <FrameHeight>700</FrameHeight>\\n</ExternalQuestion>\"\n",
    "\n",
    "    response = cl.create_hit(\n",
    "        MaxAssignments=task['numAssignments'],\n",
    "        AutoApprovalDelayInSeconds=604800,\n",
    "        LifetimeInSeconds=task['lifetime'],\n",
    "        AssignmentDurationInSeconds=task['duration'],\n",
    "        Reward=task['rewardAmount'],\n",
    "        Title=task['title'],\n",
    "        Keywords=task['keywords'],\n",
    "        Description=task['description'],\n",
    "        Question=questionText,\n",
    "        QualificationRequirements=QUALS,\n",
    "    )\n",
    "\n",
    "    print(response)\n",
    "    print(\"\\n\")"
   ]
  },
  {
   "cell_type": "code",
   "execution_count": 15,
   "metadata": {},
   "outputs": [
    {
     "name": "stdout",
     "output_type": "stream",
     "text": [
      "creating 1 tasks\n",
      "{'HIT': {'HITId': '34OWYT6U3WYOOSNPHXAHGEJEZ5CI9C', 'HITTypeId': '33VSRLCQV1I71CR6MVQQ5U0SMIPXC7', 'HITGroupId': '3GBCJUK5C2I2RARWHU21Q3KS7CZPKT', 'CreationTime': datetime.datetime(2018, 11, 27, 14, 27, 18, tzinfo=tzlocal()), 'Title': 'Importance labeling', 'Description': 'Highlight the important parts of an image.', 'Question': '<ExternalQuestion xmlns=\"http://mechanicalturk.amazonaws.com/AWSMechanicalTurkDataSchemas/2006-07-14/ExternalQuestion.xsd\">\\n<ExternalURL>https://cfosco.github.io/mturk-importance/?url=fold1.txt</ExternalURL>\\n  <FrameHeight>700</FrameHeight>\\n</ExternalQuestion>', 'Keywords': 'labeling, importance, highlighting', 'HITStatus': 'Assignable', 'MaxAssignments': 2000, 'Reward': '0.00', 'AutoApprovalDelayInSeconds': 604800, 'Expiration': datetime.datetime(2018, 11, 28, 14, 27, 18, tzinfo=tzlocal()), 'AssignmentDurationInSeconds': 1200, 'QualificationRequirements': [{'QualificationTypeId': '00000000000000000071', 'Comparator': 'EqualTo', 'LocaleValues': [{'Country': 'US'}], 'RequiredToPreview': False, 'ActionsGuarded': 'Accept'}, {'QualificationTypeId': '000000000000000000L0', 'Comparator': 'GreaterThanOrEqualTo', 'IntegerValues': [95], 'RequiredToPreview': False, 'ActionsGuarded': 'Accept'}], 'HITReviewStatus': 'NotReviewed', 'NumberOfAssignmentsPending': 0, 'NumberOfAssignmentsAvailable': 2000, 'NumberOfAssignmentsCompleted': 0}, 'ResponseMetadata': {'RequestId': '77293a32-7143-4b3e-85a8-6046f4d27b1d', 'HTTPStatusCode': 200, 'HTTPHeaders': {'x-amzn-requestid': '77293a32-7143-4b3e-85a8-6046f4d27b1d', 'content-type': 'application/x-amz-json-1.1', 'content-length': '1221', 'date': 'Tue, 27 Nov 2018 19:27:17 GMT'}, 'RetryAttempts': 0}}\n",
      "\n",
      "\n"
     ]
    }
   ],
   "source": [
    "if ALLOW_HIT_CREATION: \n",
    "    if config.get('variants', None): \n",
    "        print(\"creating \" + str(len(config['variants'])) + \" variants\")\n",
    "        for var in config['variants']: \n",
    "            task = copy.deepcopy(config)\n",
    "            task.update(var)\n",
    "            create_hit(task)\n",
    "    else: \n",
    "      print(\"creating \" + str(hit_config['numTasks']) + \" tasks\")\n",
    "      for i in range(hit_config['numTasks']):\n",
    "          create_hit(hit_config)"
   ]
  },
  {
   "cell_type": "markdown",
   "metadata": {},
   "source": [
    "# HIT monitoring helpers"
   ]
  },
  {
   "cell_type": "code",
   "execution_count": 4,
   "metadata": {},
   "outputs": [],
   "source": [
    "MAX_RESULTS = 10 # set equal to the number of outstanding hits you have \n",
    "\n",
    "hits = cl.list_hits(MaxResults=MAX_RESULTS)['HITs']"
   ]
  },
  {
   "cell_type": "code",
   "execution_count": 5,
   "metadata": {},
   "outputs": [],
   "source": [
    "# Gets all assignments created for a HIT\n",
    "def get_all_assignments(hitid): \n",
    "    assignments = []\n",
    "    should_continue = True\n",
    "    next_token = False\n",
    "    while (should_continue): \n",
    "        args = {\n",
    "            'HITId': hitid, \n",
    "            'MaxResults': 100\n",
    "        }\n",
    "        if (next_token): \n",
    "            args['NextToken'] = next_token\n",
    "        r = cl.list_assignments_for_hit(**args)\n",
    "        next_token = r.get('NextToken', False)\n",
    "        assignments.extend(r[\"Assignments\"])\n",
    "        should_continue = len(r[\"Assignments\"]) > 0\n",
    "    return assignments"
   ]
  },
  {
   "cell_type": "code",
   "execution_count": 6,
   "metadata": {},
   "outputs": [],
   "source": [
    "import datetime\n",
    "\n",
    "# Summarizes all hits in `hits` in a human-readable way \n",
    "def summarize_hits(hits): \n",
    "    print(len(hits))\n",
    "    ret = \"\"\n",
    "    for hit in hits: \n",
    "        expiration = hit['Expiration'].replace(tzinfo=None)\n",
    "        is_expired = expiration < datetime.datetime.now()\n",
    "        description = (\"Title: {title}\\n\" \n",
    "        \"ID: {hid}\\n\"\n",
    "        \"\\tAssignments left: {left}\\n\"\n",
    "        \"\\tAssignments completed: {complete}\\n\"\n",
    "        \"\\tAssignments pending: {pending}\\n\"\n",
    "        \"\\tExpired: {exp}\\n\\n\").format(\n",
    "            title=hit['Title'], \n",
    "            hid=hit['HITId'], \n",
    "            left=hit['NumberOfAssignmentsAvailable'], \n",
    "            complete=hit['NumberOfAssignmentsCompleted'], \n",
    "            pending=hit['NumberOfAssignmentsPending'],\n",
    "            exp=str(is_expired)\n",
    "        )\n",
    "        ret += description\n",
    "    print(ret)"
   ]
  },
  {
   "cell_type": "code",
   "execution_count": 7,
   "metadata": {},
   "outputs": [],
   "source": [
    "# Summarizes all pending/submitted/approved assignments for all hits in `hits`\n",
    "def summarize_assignments(hits):\n",
    "    ret = \"\"\n",
    "    for hit in hits: \n",
    "        hid = hit['HITId']\n",
    "        title =  hit['Title']\n",
    "        name = \"HIT %s: %s\" % (hid, title)\n",
    "        ret += name + \"\\n\"\n",
    "        assignments = get_all_assignments(hid)\n",
    "        for a in assignments: \n",
    "            desc = \"\\tAssignment {aid}\\n\\t\\tStatus: {status}\\n\".format(aid=a['AssignmentId'], status=a['AssignmentStatus'])\n",
    "            ret += desc\n",
    "    print(ret)"
   ]
  },
  {
   "cell_type": "code",
   "execution_count": 8,
   "metadata": {},
   "outputs": [],
   "source": [
    "def refresh_hits(): \n",
    "    global hits \n",
    "    global MAX_RESULTS\n",
    "    hits = cl.list_hits(MaxResults=MAX_RESULTS)['HITs']"
   ]
  },
  {
   "cell_type": "markdown",
   "metadata": {},
   "source": [
    "# HIT monitoring"
   ]
  },
  {
   "cell_type": "code",
   "execution_count": 40,
   "metadata": {},
   "outputs": [],
   "source": [
    "refresh_hits()\n",
    "pass"
   ]
  },
  {
   "cell_type": "code",
   "execution_count": 1,
   "metadata": {},
   "outputs": [
    {
     "ename": "NameError",
     "evalue": "name 'refresh_hits' is not defined",
     "output_type": "error",
     "traceback": [
      "\u001b[1;31m---------------------------------------------------------------------------\u001b[0m",
      "\u001b[1;31mNameError\u001b[0m                                 Traceback (most recent call last)",
      "\u001b[1;32m<ipython-input-1-cc6b6a14a757>\u001b[0m in \u001b[0;36m<module>\u001b[1;34m\u001b[0m\n\u001b[1;32m----> 1\u001b[1;33m \u001b[0mrefresh_hits\u001b[0m\u001b[1;33m(\u001b[0m\u001b[1;33m)\u001b[0m\u001b[1;33m\u001b[0m\u001b[0m\n\u001b[0m\u001b[0;32m      2\u001b[0m \u001b[1;33m\u001b[0m\u001b[0m\n\u001b[0;32m      3\u001b[0m \u001b[0msummarize_hits\u001b[0m\u001b[1;33m(\u001b[0m\u001b[0mhits\u001b[0m\u001b[1;33m)\u001b[0m\u001b[1;33m\u001b[0m\u001b[0m\n",
      "\u001b[1;31mNameError\u001b[0m: name 'refresh_hits' is not defined"
     ]
    }
   ],
   "source": [
    "refresh_hits()\n",
    "\n",
    "summarize_hits(hits)"
   ]
  },
  {
   "cell_type": "code",
   "execution_count": 9,
   "metadata": {},
   "outputs": [
    {
     "name": "stdout",
     "output_type": "stream",
     "text": [
      "HIT 3WRKFXQBOBO3PTVXP92XFVC58COYI4: Marking important regions in a graphic design\n",
      "\tAssignment 3KGTPGBS6Y2LJJVKG7PIEEVSVUTU2M\n",
      "\t\tStatus: Submitted\n",
      "HIT 3KG2UQJ0MJ5MUSF2VFYV7H5KV21NQ6: Marking important regions in a graphic design\n",
      "HIT 3MVY4USGB646T7JOQ3A8X9O4RRSSIK: Marking important regions in a graphic design\n",
      "HIT 3VMHWJRYHVXUFX3XJ5AATKS4QE2XF6: Marking important regions in a graphic design\n",
      "\tAssignment 3RUIQRXJBC5O1FUYHZFM2NYIO3RLL8\n",
      "\t\tStatus: Approved\n",
      "HIT 37SDSEDIN9JDAH8H4YJXOJ7HYVA818: Marking important regions in a graphic design\n",
      "HIT 3BKZLF990ZGG6RJG2H76OX3RZM4YQ6: Marking important regions in a graphic design\n",
      "HIT 31J7RYECZL78POS0YNS1TOTNIV91LN: Marking important regions in a graphic design\n",
      "HIT 356ZPKYPUHYV6FI124SHOSDHUQIYPF: Marking important regions in a graphic design\n",
      "HIT 3W0XM68YZPCX5IAIDNG0EOG8TV41KK: Marking important regions in a graphic design\n",
      "HIT 3WRKFXQBOBO3PTVXP92XFVC58CNIYN: Marking important regions in a graphic design\n",
      "HIT 3ZQA3IO31B8GV9VXBF8TL5XHD0DO1Q: Marking important regions in a graphic design\n",
      "HIT 3B9J25CZ25UFG4XOYTEMM6Q9EM7SCH: Marking important regions in a graphic design\n",
      "HIT 3HFWPF5AK90R3415503LT3MF89US3J: Marking important regions in a graphic design\n",
      "HIT 3MD8CKRQZZ4QN33HTWV3J0Y8I3FJRE: Marking important regions in a graphic design\n",
      "HIT 3KTCJ4SCVGISV6ALYZTGT18CIZGM1P: Marking important regions in a graphic design\n",
      "HIT 3CRWSLD91KLDRYHM41RR5XLKBAQOME: Marking important regions in a graphic design\n",
      "HIT 3ICOHX7ENCSUCTXQLI1X2OKT45JE0P: Marking important regions in a graphic design\n",
      "HIT 3IYI9285WSHMH1EYBZ58U5ZMI2CJC8: Marking important regions in a graphic design\n",
      "HIT 3OEWW2KGQJSAN4B9R8SOM7YQ2WYODW: Marking important regions in a graphic design\n",
      "HIT 3ZTE0JGGCE90IC5VRCXD21G8HWMOCW: Marking important regions in a graphic design\n",
      "HIT 30Y6N4AHYPDDKH3PJ09SG23VDJIDRU: Marking important regions in a graphic design\n",
      "HIT 3LN50BUKPVSB6GB2JP3RUKBLLAWLPQ: Marking important regions in a graphic design\n",
      "HIT 35JDMRECC4QRNX8BZKQ0NG79BM7GET: Marking important regions in a graphic design\n",
      "HIT 3DGDV62G7OQ55UPU9JLMFOCCFA42PH: Marking important regions in a graphic design\n",
      "HIT 3L55D8AUFAECCQ9XXZ6B4SEAV6JYCF: Marking important regions in a graphic design\n",
      "HIT 3AXFSPQOYQFTKDY821V92BKPFE0JFD: Marking important regions in a graphic design\n",
      "HIT 3EHIMLB7F7GOESTV6NMIG6NOFIJ8HG: Marking important regions in a graphic design\n",
      "HIT 30EMX9PEVK0XZ29CQ6VKAP3HJTTSK3: Marking important regions in a graphic design\n",
      "HIT 31N9JPQXIPZ9HZGZCPB1Y3DJ4DCHN7: Marking important regions in a graphic design\n",
      "HIT 3D06DR52250OPUNLUIM9421FMSCAMP: Marking important regions in a graphic design\n",
      "HIT 3UOMW19E6DNEA2ZDMX1ETVGH0075CW: Marking important regions in a graphic design\n",
      "HIT 3P7RGTLO6EUTZ6NI969TPP9BXNHAKK: Marking important regions in a graphic design\n",
      "HIT 3AQN9REUTFXMHIFBXV1MOYWSG5MYD4: Marking important regions in a graphic design\n",
      "HIT 3D1TUISJWIHM8KBSF858CA6SCMIIUR: Marking important regions in a graphic design\n",
      "HIT 3VDI8GSXAFAAEWYKMH40V6BN0IY8G9: Marking important regions in a graphic design\n",
      "HIT 3TKSOBLOHLXXPDOG97WWLXARSBRBBU: Marking important regions in a graphic design\n",
      "HIT 3WGZLY9VCH372COTKR3SPL8QNQI8DZ: Marking important regions in a graphic design\n",
      "HIT 3TD33TP5DLJS63JO3TW0QMQLAT6BAZ: Marking important regions in a graphic design\n",
      "HIT 3IKDQS3DQEHQMQUSTHK8I4KM5MBICH: Marking important regions in a graphic design\n",
      "HIT 3MDWE879UHJE1K9JBNI0URF14BOB9K: Marking important regions in a graphic design\n",
      "HIT 3BVS8WK9Q0C7CL2MFHOD7KE4N1BIBA: Marking important regions in a graphic design\n",
      "\n"
     ]
    }
   ],
   "source": [
    "refresh_hits()\n",
    "summarize_assignments(hits)\n",
    "pass"
   ]
  },
  {
   "cell_type": "markdown",
   "metadata": {},
   "source": [
    "# Approve HITs"
   ]
  },
  {
   "cell_type": "code",
   "execution_count": 10,
   "metadata": {},
   "outputs": [],
   "source": [
    "# Approves all outstanding hits created for the HITs in hits \n",
    "def approve_all(hits): \n",
    "    num_approved = 0\n",
    "    for hit in hits: \n",
    "        # make sure you keep getting assignments \n",
    "        assignments = get_all_assignments(hit[\"HITId\"])\n",
    "        #print(assignments)\n",
    "        for a in assignments: \n",
    "            if a['AssignmentStatus'] != 'Approved':\n",
    "                print(\"Approving assignment\")\n",
    "                num_approved += 1\n",
    "                cl.approve_assignment(AssignmentId=a['AssignmentId'])\n",
    "    print(\"Approved %d assignments\" % num_approved)"
   ]
  },
  {
   "cell_type": "code",
   "execution_count": 15,
   "metadata": {
    "scrolled": true
   },
   "outputs": [
    {
     "name": "stdout",
     "output_type": "stream",
     "text": [
      "Approving assignment\n",
      "Approved 1 assignments\n"
     ]
    }
   ],
   "source": [
    "refresh_hits()\n",
    "approve_all(hits)"
   ]
  },
  {
   "cell_type": "markdown",
   "metadata": {},
   "source": [
    "# Update expiration or num tasks"
   ]
  },
  {
   "cell_type": "code",
   "execution_count": 16,
   "metadata": {},
   "outputs": [],
   "source": [
    "import datetime \n",
    "\n",
    "# changes the expiration date on a HIT to days_from_now days in the future\n",
    "def update_expiration(hitid, days_from_now): \n",
    "    if ALLOW_UPDATE_EXPIRATION: \n",
    "        days = days_from_now*datetime.timedelta(days=1)\n",
    "        expire_time = datetime.datetime.now() + days\n",
    "\n",
    "        response = cl.update_expiration_for_hit(HITId=hitid, ExpireAt=expire_time)\n",
    "        print(response)\n",
    "        return response\n",
    "    else: \n",
    "        raise RuntimeException(\"This action is not currently enabled; set `ALLOW_UPDATE_EXPIRATION` to true to proceed with this action\")\n",
    "    \n",
    "def expire_hit(hit): \n",
    "    return update_expiration(hit, -10)"
   ]
  },
  {
   "cell_type": "code",
   "execution_count": 17,
   "metadata": {},
   "outputs": [],
   "source": [
    "def add_assignments(hitid, num_assignments): \n",
    "    if ALLOW_ASSIGNMENT_ADDITION: \n",
    "        response = cl.create_additional_assignments_for_hit(\n",
    "            HITId=hitid,\n",
    "            NumberOfAdditionalAssignments=num_assignments\n",
    "        )\n",
    "        print(response)\n",
    "        return response\n",
    "    else: \n",
    "        raise RuntimException(\"This action is not currently enabled; set `ALLOW_ASSIGNMENT_ADDITION` to true to proceed with this action\")"
   ]
  },
  {
   "cell_type": "markdown",
   "metadata": {},
   "source": [
    "# Add custom qualifications "
   ]
  },
  {
   "cell_type": "markdown",
   "metadata": {},
   "source": [
    "## Add a qualification to disqualify workers who have done work before\n",
    "\n",
    "- uses \"negative qualification\" method from https://github.com/cloudyr/MturkR/wiki/qualifications-as-blocks\n",
    "\n",
    "### NOTE: quals are kept separate for the sandbox and prod. Make sure you are creating and assigning your quals in prod. "
   ]
  },
  {
   "cell_type": "code",
   "execution_count": null,
   "metadata": {},
   "outputs": [],
   "source": [
    "# structure of a new qualification \n",
    "NEW_QUAL = {\n",
    "    'Name': 'qualName',\n",
    "    'Keywords': 'Keywords for qual',\n",
    "    'Description': 'What is this qual, and why are you assigning it?',\n",
    "    'QualificationTypeStatus': 'Active',\n",
    "    'AutoGranted': False\n",
    "}"
   ]
  },
  {
   "cell_type": "code",
   "execution_count": null,
   "metadata": {},
   "outputs": [],
   "source": [
    "def create_qual(new_qual):\n",
    "    if ALLOW_CREATE_QUAL: \n",
    "        response = cl.create_qualification_type(**new_qual)\n",
    "        print(response)\n",
    "        Id = response['QualificationTypeId']\n",
    "        print(\"id\", Id)\n",
    "        return Id\n",
    "    else: \n",
    "        raise RuntimException(\"This action is not currently enabled; set `ALLOW_CREATE_QUAL` to true to proceed with this action\")"
   ]
  },
  {
   "cell_type": "code",
   "execution_count": null,
   "metadata": {},
   "outputs": [],
   "source": [
    "# Gets all the custom quals you have created. \n",
    "def list_quals(): \n",
    "    response = cl.list_qualification_types(\n",
    "            Query='hasCompletedVisualGraphRecallTask',\n",
    "            MustBeRequestable=False\n",
    "    )\n",
    "    print(response)\n",
    "\n",
    "list_quals()"
   ]
  },
  {
   "cell_type": "code",
   "execution_count": null,
   "metadata": {},
   "outputs": [],
   "source": [
    "def assign_qual(qual_id, worker_ids): \n",
    "    for worker in worker_ids: \n",
    "        response = cl.associate_qualification_with_worker(\n",
    "                QualificationTypeId=qual_id, \n",
    "                WorkerId=worker,\n",
    "                IntegerValue=1,\n",
    "                SendNotification=False\n",
    "        )\n",
    "        print(response)\n",
    "        assert response\n",
    "        \n",
    "def get_workers_for_hit(hitid): \n",
    "    a = get_all_assignments(hitid)\n",
    "    workers = [a_['WorkerId'] for a_ in a]\n",
    "    return workers\n",
    "    \n",
    "def confirm_quals(qual_id, worker_ids): \n",
    "    for w in worker_ids: \n",
    "        response = cl.get_qualification_score(\n",
    "                QualificationTypeId=qual_id,\n",
    "                WorkerId=w\n",
    "        )\n",
    "        response = response['Qualification']\n",
    "        assert response['Status'] == 'Granted'\n",
    "        assert response['IntegerValue'] == 1\n",
    "        \n",
    "# Assigns qual with `qual_id` to every worker who has completed an assignment for the hit with `hitid`\n",
    "def assign_qual_for_hit(hitid, qual_id): \n",
    "    workers = get_workers_for_hit(hitid)\n",
    "    print(\"got workers\")\n",
    "    assign_qual(qual_id, workers)\n",
    "    print(\"assigned qual\")\n",
    "    confirm_quals(qual_id, workers)\n",
    "    print(\"confirmed qual\")"
   ]
  },
  {
   "cell_type": "markdown",
   "metadata": {},
   "source": [
    "# Download data"
   ]
  },
  {
   "cell_type": "code",
   "execution_count": 11,
   "metadata": {},
   "outputs": [],
   "source": [
    "from bs4 import BeautifulSoup as bs \n",
    "import pprint\n",
    "\n",
    "def pretty_print(obj):\n",
    "    pp = pprint.PrettyPrinter(indent=4)\n",
    "    pp.pprint(obj)\n",
    "    pp = None\n",
    "\n",
    "# Downloads all the assignments completed for `hits` as a list of dictionaries. \n",
    "# If a download_path is given, also saves that data as json \n",
    "def get_assignment_content(hits, download_path=\"\", should_print=False): \n",
    "    all_responses = []\n",
    "    for hit in hits: \n",
    "        hitid = hit['HITId']\n",
    "        assignments = get_all_assignments(hitid)\n",
    "        print(hitid)\n",
    "        print(assignments)\n",
    "        for a in assignments:\n",
    "            print(a)\n",
    "            a_xml = a['Answer']\n",
    "            #print(a_xml)\n",
    "            soup = bs(a_xml, \"lxml\")\n",
    "            answers = soup.find_all(\"answer\")\n",
    "            #print(answers)\n",
    "            results = {'HITId': hitid}\n",
    "            for ans in answers: \n",
    "                identifier = ans.find('questionidentifier').string\n",
    "                answer = ans.find('freetext').string\n",
    "                try: \n",
    "                    results[identifier] = json.loads(answer)\n",
    "                except:\n",
    "                    results[identifier] = answer\n",
    "            all_responses.append(results)\n",
    "    if should_print: \n",
    "        pretty_print(all_responses)\n",
    "    if download_path: \n",
    "        with open(download_path, 'w') as outfile: \n",
    "            json.dump(all_responses, outfile)\n",
    "    return all_responses\n",
    "            "
   ]
  },
  {
   "cell_type": "code",
   "execution_count": 14,
   "metadata": {},
   "outputs": [
    {
     "name": "stdout",
     "output_type": "stream",
     "text": [
      "3WRKFXQBOBO3PTVXP92XFVC58COYI4\n",
      "[{'AssignmentId': '3KGTPGBS6Y2LJJVKG7PIEEVSVUTU2M', 'WorkerId': 'ACUP2HVXGZY46', 'HITId': '3WRKFXQBOBO3PTVXP92XFVC58COYI4', 'AssignmentStatus': 'Submitted', 'AutoApprovalTime': datetime.datetime(2018, 11, 29, 18, 37, 45, tzinfo=tzlocal()), 'AcceptTime': datetime.datetime(2018, 11, 22, 18, 37, 13, tzinfo=tzlocal()), 'SubmitTime': datetime.datetime(2018, 11, 22, 18, 37, 45, tzinfo=tzlocal()), 'Answer': '<?xml version=\"1.0\" encoding=\"ASCII\"?><QuestionFormAnswers xmlns=\"http://mechanicalturk.amazonaws.com/AWSMechanicalTurkDataSchemas/2005-10-01/QuestionFormAnswers.xsd\"><Answer><QuestionIdentifier>workerId</QuestionIdentifier><FreeText>ACUP2HVXGZY46</FreeText></Answer><Answer><QuestionIdentifier>results</QuestionIdentifier><FreeText>{\"inputs\":{\"1\":[\"get_flash_player.gif\",\"demo.gif\"],\"2\":[\"get_flash_player.gif\",\"get_flash_player.gif\"]},\"outputs\":[[\"240,600,./infographics_1_0_free.png:3,2,1,121,22,118,23,115,26,112,28,108,33,106,38,103,43,101,48,100,53,100,58,100,62,100,67,101,72,106,77,111,81,117,83,123,83,128,86,133,87,137,87,141,87,145,87,146,86,153,77,156,73,157,68,157,63,158,58,158,53,158,47,158,42,158,36,158,32,156,28,155,26,152,23,151,23,148,22,146,21,143,18,141,18,140,18,137,18,136,18,;\",\"464,600,./magazine-covers_14_31_free.png:3,2,1,50,78,50,80,51,83,51,93,51,108,51,125,51,141,51,158,52,171,53,180,55,188,55,195,55,200,56,203,56,205,57,205,66,203,82,203,111,201,146,198,186,198,232,195,278,191,321,188,356,186,383,186,398,186,406,186,410,185,410,183,411,183,412,183,415,181,416,181,416,180,417,180,418,180,421,178,423,176,427,176,431,176,436,176,438,176,441,176,443,176,445,176,446,176,447,176,448,176,451,176,452,176,452,175,452,173,452,166,452,153,452,138,452,118,451,101,451,86,448,76,448,66,446,61,446,56,446,51,446,46,446,45,;\",\"377,600,./magazine-covers_14_32_free.png:3,2,1,82,93,83,93,86,93,91,91,96,91,105,91,115,91,131,91,151,93,176,96,203,98,227,101,246,103,262,103,273,103,281,103,286,103,292,103,298,103,305,103,312,103,322,101,330,101,336,101,340,101,340,100,338,98,337,98,336,96,332,93,330,91,326,88,323,85,321,81,318,80,318,78,317,78,316,78,316,76,315,76,313,76,313,75,313,73,;\"]],\"feedback\":\"\"}</FreeText></Answer><Answer><QuestionIdentifier>feedback</QuestionIdentifier><FreeText/></Answer></QuestionFormAnswers>'}]\n",
      "{'AssignmentId': '3KGTPGBS6Y2LJJVKG7PIEEVSVUTU2M', 'WorkerId': 'ACUP2HVXGZY46', 'HITId': '3WRKFXQBOBO3PTVXP92XFVC58COYI4', 'AssignmentStatus': 'Submitted', 'AutoApprovalTime': datetime.datetime(2018, 11, 29, 18, 37, 45, tzinfo=tzlocal()), 'AcceptTime': datetime.datetime(2018, 11, 22, 18, 37, 13, tzinfo=tzlocal()), 'SubmitTime': datetime.datetime(2018, 11, 22, 18, 37, 45, tzinfo=tzlocal()), 'Answer': '<?xml version=\"1.0\" encoding=\"ASCII\"?><QuestionFormAnswers xmlns=\"http://mechanicalturk.amazonaws.com/AWSMechanicalTurkDataSchemas/2005-10-01/QuestionFormAnswers.xsd\"><Answer><QuestionIdentifier>workerId</QuestionIdentifier><FreeText>ACUP2HVXGZY46</FreeText></Answer><Answer><QuestionIdentifier>results</QuestionIdentifier><FreeText>{\"inputs\":{\"1\":[\"get_flash_player.gif\",\"demo.gif\"],\"2\":[\"get_flash_player.gif\",\"get_flash_player.gif\"]},\"outputs\":[[\"240,600,./infographics_1_0_free.png:3,2,1,121,22,118,23,115,26,112,28,108,33,106,38,103,43,101,48,100,53,100,58,100,62,100,67,101,72,106,77,111,81,117,83,123,83,128,86,133,87,137,87,141,87,145,87,146,86,153,77,156,73,157,68,157,63,158,58,158,53,158,47,158,42,158,36,158,32,156,28,155,26,152,23,151,23,148,22,146,21,143,18,141,18,140,18,137,18,136,18,;\",\"464,600,./magazine-covers_14_31_free.png:3,2,1,50,78,50,80,51,83,51,93,51,108,51,125,51,141,51,158,52,171,53,180,55,188,55,195,55,200,56,203,56,205,57,205,66,203,82,203,111,201,146,198,186,198,232,195,278,191,321,188,356,186,383,186,398,186,406,186,410,185,410,183,411,183,412,183,415,181,416,181,416,180,417,180,418,180,421,178,423,176,427,176,431,176,436,176,438,176,441,176,443,176,445,176,446,176,447,176,448,176,451,176,452,176,452,175,452,173,452,166,452,153,452,138,452,118,451,101,451,86,448,76,448,66,446,61,446,56,446,51,446,46,446,45,;\",\"377,600,./magazine-covers_14_32_free.png:3,2,1,82,93,83,93,86,93,91,91,96,91,105,91,115,91,131,91,151,93,176,96,203,98,227,101,246,103,262,103,273,103,281,103,286,103,292,103,298,103,305,103,312,103,322,101,330,101,336,101,340,101,340,100,338,98,337,98,336,96,332,93,330,91,326,88,323,85,321,81,318,80,318,78,317,78,316,78,316,76,315,76,313,76,313,75,313,73,;\"]],\"feedback\":\"\"}</FreeText></Answer><Answer><QuestionIdentifier>feedback</QuestionIdentifier><FreeText/></Answer></QuestionFormAnswers>'}\n",
      "3KG2UQJ0MJ5MUSF2VFYV7H5KV21NQ6\n",
      "[]\n",
      "3MVY4USGB646T7JOQ3A8X9O4RRSSIK\n",
      "[]\n",
      "3VMHWJRYHVXUFX3XJ5AATKS4QE2XF6\n",
      "[{'AssignmentId': '3RUIQRXJBC5O1FUYHZFM2NYIO3RLL8', 'WorkerId': 'ACUP2HVXGZY46', 'HITId': '3VMHWJRYHVXUFX3XJ5AATKS4QE2XF6', 'AssignmentStatus': 'Approved', 'AutoApprovalTime': datetime.datetime(2018, 11, 29, 17, 23, 2, tzinfo=tzlocal()), 'AcceptTime': datetime.datetime(2018, 11, 22, 17, 22, tzinfo=tzlocal()), 'SubmitTime': datetime.datetime(2018, 11, 22, 17, 23, 2, tzinfo=tzlocal()), 'ApprovalTime': datetime.datetime(2018, 11, 22, 17, 25, 1, tzinfo=tzlocal()), 'Answer': '<?xml version=\"1.0\" encoding=\"ASCII\"?><QuestionFormAnswers xmlns=\"http://mechanicalturk.amazonaws.com/AWSMechanicalTurkDataSchemas/2005-10-01/QuestionFormAnswers.xsd\"><Answer><QuestionIdentifier>workerId</QuestionIdentifier><FreeText>ACUP2HVXGZY46</FreeText></Answer><Answer><QuestionIdentifier>results</QuestionIdentifier><FreeText>{\"inputs\":{\"1\":[\"get_flash_player.gif\",\"demo.gif\"],\"2\":[\"get_flash_player.gif\",\"get_flash_player.gif\"]},\"outputs\":[[\"240,600,./infographics_1_0_free.png:3,2,1,118,22,117,22,116,25,115,28,111,30,107,33,106,38,102,40,101,45,101,48,101,50,101,53,103,57,105,58,107,60,111,63,112,65,116,65,117,67,121,67,122,68,126,68,130,70,131,70,136,70,137,70,141,70,143,70,146,68,148,68,151,65,155,63,156,60,157,60,158,58,160,55,161,53,161,48,161,43,161,38,161,33,161,32,158,30,156,28,153,28,151,27,148,27,146,27,145,27,142,25,141,25,140,25,138,25,;3,2,1,36,83,36,85,36,88,38,92,38,97,38,100,40,105,40,107,40,108,41,108,42,108,45,107,50,105,56,103,63,100,71,100,80,98,91,98,103,98,118,98,136,98,150,100,161,100,172,100,181,102,187,103,193,103,197,103,201,103,206,103,208,103,211,103,216,103,218,103,220,103,220,102,218,100,216,95,216,92,215,87,215,85,215,82,;\",\"464,600,./magazine-covers_14_31_free.png:3,2,1,50,67,51,68,51,77,51,87,51,97,50,108,48,120,46,130,46,137,45,143,43,150,43,155,43,160,43,163,43,167,43,170,43,173,45,177,46,180,46,183,47,187,48,190,50,193,51,195,51,197,53,198,56,200,56,203,57,205,58,205,61,205,66,207,75,208,87,208,111,208,137,208,167,210,200,210,228,210,253,210,275,210,292,210,308,210,325,210,337,210,351,210,366,210,382,210,397,210,411,208,420,208,423,208,426,208,426,207,431,205,435,203,440,200,442,200,446,197,448,195,452,193,455,190,457,188,461,185,463,180,465,175,466,170,466,163,466,153,465,140,461,125,458,112,456,102,455,93,455,87,455,83,455,78,455,75,455,72,455,70,455,68,455,67,455,65,;\",\"377,600,./magazine-covers_14_32_free.png:3,2,1,98,245,98,247,98,250,98,255,98,260,98,265,97,268,97,272,96,277,96,280,95,287,93,292,92,297,91,303,91,307,91,312,91,318,90,323,90,328,88,335,87,340,87,345,86,350,86,355,86,358,86,362,86,365,86,368,86,370,86,373,86,377,86,378,86,380,87,380,88,380,91,380,92,380,96,380,97,380,101,378,105,378,107,377,111,377,115,375,117,375,121,373,125,373,130,373,136,372,146,372,156,372,167,370,180,370,188,370,196,370,205,370,211,370,221,372,231,373,241,373,251,373,260,373,268,373,276,373,283,375,287,375,291,375,292,375,293,375,296,375,298,375,300,375,301,375,303,373,305,373,307,372,307,370,307,368,307,365,307,360,310,350,310,342,311,333,312,325,313,318,315,313,315,305,316,298,316,290,317,282,318,275,320,268,320,265,320,260,321,258,321,255,321,253,321,247,321,245,;\"]]}</FreeText></Answer><Answer><QuestionIdentifier>feedback</QuestionIdentifier><FreeText>TESTINGG</FreeText></Answer></QuestionFormAnswers>'}]\n",
      "{'AssignmentId': '3RUIQRXJBC5O1FUYHZFM2NYIO3RLL8', 'WorkerId': 'ACUP2HVXGZY46', 'HITId': '3VMHWJRYHVXUFX3XJ5AATKS4QE2XF6', 'AssignmentStatus': 'Approved', 'AutoApprovalTime': datetime.datetime(2018, 11, 29, 17, 23, 2, tzinfo=tzlocal()), 'AcceptTime': datetime.datetime(2018, 11, 22, 17, 22, tzinfo=tzlocal()), 'SubmitTime': datetime.datetime(2018, 11, 22, 17, 23, 2, tzinfo=tzlocal()), 'ApprovalTime': datetime.datetime(2018, 11, 22, 17, 25, 1, tzinfo=tzlocal()), 'Answer': '<?xml version=\"1.0\" encoding=\"ASCII\"?><QuestionFormAnswers xmlns=\"http://mechanicalturk.amazonaws.com/AWSMechanicalTurkDataSchemas/2005-10-01/QuestionFormAnswers.xsd\"><Answer><QuestionIdentifier>workerId</QuestionIdentifier><FreeText>ACUP2HVXGZY46</FreeText></Answer><Answer><QuestionIdentifier>results</QuestionIdentifier><FreeText>{\"inputs\":{\"1\":[\"get_flash_player.gif\",\"demo.gif\"],\"2\":[\"get_flash_player.gif\",\"get_flash_player.gif\"]},\"outputs\":[[\"240,600,./infographics_1_0_free.png:3,2,1,118,22,117,22,116,25,115,28,111,30,107,33,106,38,102,40,101,45,101,48,101,50,101,53,103,57,105,58,107,60,111,63,112,65,116,65,117,67,121,67,122,68,126,68,130,70,131,70,136,70,137,70,141,70,143,70,146,68,148,68,151,65,155,63,156,60,157,60,158,58,160,55,161,53,161,48,161,43,161,38,161,33,161,32,158,30,156,28,153,28,151,27,148,27,146,27,145,27,142,25,141,25,140,25,138,25,;3,2,1,36,83,36,85,36,88,38,92,38,97,38,100,40,105,40,107,40,108,41,108,42,108,45,107,50,105,56,103,63,100,71,100,80,98,91,98,103,98,118,98,136,98,150,100,161,100,172,100,181,102,187,103,193,103,197,103,201,103,206,103,208,103,211,103,216,103,218,103,220,103,220,102,218,100,216,95,216,92,215,87,215,85,215,82,;\",\"464,600,./magazine-covers_14_31_free.png:3,2,1,50,67,51,68,51,77,51,87,51,97,50,108,48,120,46,130,46,137,45,143,43,150,43,155,43,160,43,163,43,167,43,170,43,173,45,177,46,180,46,183,47,187,48,190,50,193,51,195,51,197,53,198,56,200,56,203,57,205,58,205,61,205,66,207,75,208,87,208,111,208,137,208,167,210,200,210,228,210,253,210,275,210,292,210,308,210,325,210,337,210,351,210,366,210,382,210,397,210,411,208,420,208,423,208,426,208,426,207,431,205,435,203,440,200,442,200,446,197,448,195,452,193,455,190,457,188,461,185,463,180,465,175,466,170,466,163,466,153,465,140,461,125,458,112,456,102,455,93,455,87,455,83,455,78,455,75,455,72,455,70,455,68,455,67,455,65,;\",\"377,600,./magazine-covers_14_32_free.png:3,2,1,98,245,98,247,98,250,98,255,98,260,98,265,97,268,97,272,96,277,96,280,95,287,93,292,92,297,91,303,91,307,91,312,91,318,90,323,90,328,88,335,87,340,87,345,86,350,86,355,86,358,86,362,86,365,86,368,86,370,86,373,86,377,86,378,86,380,87,380,88,380,91,380,92,380,96,380,97,380,101,378,105,378,107,377,111,377,115,375,117,375,121,373,125,373,130,373,136,372,146,372,156,372,167,370,180,370,188,370,196,370,205,370,211,370,221,372,231,373,241,373,251,373,260,373,268,373,276,373,283,375,287,375,291,375,292,375,293,375,296,375,298,375,300,375,301,375,303,373,305,373,307,372,307,370,307,368,307,365,307,360,310,350,310,342,311,333,312,325,313,318,315,313,315,305,316,298,316,290,317,282,318,275,320,268,320,265,320,260,321,258,321,255,321,253,321,247,321,245,;\"]]}</FreeText></Answer><Answer><QuestionIdentifier>feedback</QuestionIdentifier><FreeText>TESTINGG</FreeText></Answer></QuestionFormAnswers>'}\n",
      "37SDSEDIN9JDAH8H4YJXOJ7HYVA818\n",
      "[]\n",
      "3BKZLF990ZGG6RJG2H76OX3RZM4YQ6\n",
      "[]\n",
      "31J7RYECZL78POS0YNS1TOTNIV91LN\n",
      "[]\n"
     ]
    },
    {
     "name": "stdout",
     "output_type": "stream",
     "text": [
      "356ZPKYPUHYV6FI124SHOSDHUQIYPF\n",
      "[]\n",
      "3W0XM68YZPCX5IAIDNG0EOG8TV41KK\n",
      "[]\n",
      "3WRKFXQBOBO3PTVXP92XFVC58CNIYN\n",
      "[]\n",
      "3ZQA3IO31B8GV9VXBF8TL5XHD0DO1Q\n",
      "[]\n",
      "3B9J25CZ25UFG4XOYTEMM6Q9EM7SCH\n",
      "[]\n",
      "3HFWPF5AK90R3415503LT3MF89US3J\n",
      "[]\n",
      "3MD8CKRQZZ4QN33HTWV3J0Y8I3FJRE\n",
      "[]\n",
      "3KTCJ4SCVGISV6ALYZTGT18CIZGM1P\n",
      "[]\n",
      "3CRWSLD91KLDRYHM41RR5XLKBAQOME\n",
      "[]\n",
      "3ICOHX7ENCSUCTXQLI1X2OKT45JE0P\n",
      "[]\n",
      "3IYI9285WSHMH1EYBZ58U5ZMI2CJC8\n",
      "[]\n",
      "3OEWW2KGQJSAN4B9R8SOM7YQ2WYODW\n",
      "[]\n",
      "3ZTE0JGGCE90IC5VRCXD21G8HWMOCW\n",
      "[]\n",
      "30Y6N4AHYPDDKH3PJ09SG23VDJIDRU\n",
      "[]\n",
      "3LN50BUKPVSB6GB2JP3RUKBLLAWLPQ\n",
      "[]\n",
      "35JDMRECC4QRNX8BZKQ0NG79BM7GET\n",
      "[]\n",
      "3DGDV62G7OQ55UPU9JLMFOCCFA42PH\n",
      "[]\n",
      "3L55D8AUFAECCQ9XXZ6B4SEAV6JYCF\n",
      "[]\n",
      "3AXFSPQOYQFTKDY821V92BKPFE0JFD\n",
      "[]\n",
      "3EHIMLB7F7GOESTV6NMIG6NOFIJ8HG\n",
      "[]\n",
      "30EMX9PEVK0XZ29CQ6VKAP3HJTTSK3\n",
      "[]\n",
      "31N9JPQXIPZ9HZGZCPB1Y3DJ4DCHN7\n",
      "[]\n",
      "3D06DR52250OPUNLUIM9421FMSCAMP\n",
      "[]\n",
      "3UOMW19E6DNEA2ZDMX1ETVGH0075CW\n",
      "[]\n",
      "3P7RGTLO6EUTZ6NI969TPP9BXNHAKK\n",
      "[]\n",
      "3AQN9REUTFXMHIFBXV1MOYWSG5MYD4\n",
      "[]\n",
      "3D1TUISJWIHM8KBSF858CA6SCMIIUR\n",
      "[]\n",
      "3VDI8GSXAFAAEWYKMH40V6BN0IY8G9\n",
      "[]\n",
      "3TKSOBLOHLXXPDOG97WWLXARSBRBBU\n",
      "[]\n",
      "3WGZLY9VCH372COTKR3SPL8QNQI8DZ\n",
      "[]\n",
      "3TD33TP5DLJS63JO3TW0QMQLAT6BAZ\n",
      "[]\n",
      "3IKDQS3DQEHQMQUSTHK8I4KM5MBICH\n",
      "[]\n",
      "3MDWE879UHJE1K9JBNI0URF14BOB9K\n",
      "[]\n",
      "3BVS8WK9Q0C7CL2MFHOD7KE4N1BIBA\n",
      "[]\n"
     ]
    },
    {
     "data": {
      "text/plain": [
       "2"
      ]
     },
     "execution_count": 14,
     "metadata": {},
     "output_type": "execute_result"
    }
   ],
   "source": [
    "responses = get_assignment_content(hits, download_path=SAVE_PATH, should_print=False)\n",
    "len(responses)"
   ]
  },
  {
   "cell_type": "code",
   "execution_count": null,
   "metadata": {},
   "outputs": [],
   "source": []
  }
 ],
 "metadata": {
  "kernelspec": {
   "display_name": "Python 3",
   "language": "python",
   "name": "python3"
  },
  "language_info": {
   "codemirror_mode": {
    "name": "ipython",
    "version": 3
   },
   "file_extension": ".py",
   "mimetype": "text/x-python",
   "name": "python",
   "nbconvert_exporter": "python",
   "pygments_lexer": "ipython3",
   "version": "3.6.6"
  }
 },
 "nbformat": 4,
 "nbformat_minor": 2
}
