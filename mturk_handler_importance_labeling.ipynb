{
 "cells": [
  {
   "cell_type": "markdown",
   "metadata": {},
   "source": [
    "# Setup"
   ]
  },
  {
   "cell_type": "code",
   "execution_count": 39,
   "metadata": {},
   "outputs": [],
   "source": [
    "# path to the config file (see example). \n",
    "# will work with a config file for https://github.com/kimberli/mturk-template, \n",
    "# but a minimal example is included.\n",
    "# Also supports an additional feature, the \"variants\" key, which is a list of dictionaries. \n",
    "# If \"variants\" is specified, for each dictionary it contains, those keys will be meshed with the \"hitCreation\"\n",
    "# key and one task will be made per variant. Else, config[\"hitCreation\"][\"numTasks\"] versions of the same\n",
    "# task will be launched. \n",
    "CONFIG_PATH = \"./config.json\"\n",
    "\n",
    "# where to save downloaded results \n",
    "SAVE_PATH = \"./result.csv\" \n",
    "\n",
    "# Whether to launch a hit per fold.txt in folder \"files\"\n",
    "LAUNCH_HITS_FOR_ALL_FOLDS = False"
   ]
  },
  {
   "cell_type": "markdown",
   "metadata": {},
   "source": [
    "## Define folds to use in the hit\n",
    "The folds are txt files containing paths to the images to be used in the hit. This notebooks allows for creation of multiple hits, each with a different fold.txt .\n",
    "In the folder \"files\", multiple txt files (folds) can be found. Each one contains 10 images, and there are no repeats among folds. Each fold has a piece of the full canva_scraping2 dataset."
   ]
  },
  {
   "cell_type": "code",
   "execution_count": 48,
   "metadata": {},
   "outputs": [
    {
     "name": "stdout",
     "output_type": "stream",
     "text": [
      "USING SANDBOX\n",
      "TASK URL: https://cfosco.github.io/mturk-importance/?url=fold2_dropbox.txt\n"
     ]
    }
   ],
   "source": [
    "from boto3 import client\n",
    "import json\n",
    "import copy\n",
    "\n",
    "_USING_PROD = None\n",
    "\n",
    "with open(CONFIG_PATH, 'r') as f:\n",
    "    config = json.loads(f.read())\n",
    "    hit_config = config['hitCreation']\n",
    "\n",
    "if hit_config['production']:\n",
    "    print(\"USING PROD\")\n",
    "    _USING_PROD = True\n",
    "    endpoint_url = 'https://mturk-requester.us-east-1.amazonaws.com'\n",
    "else:\n",
    "    print(\"USING SANDBOX\")\n",
    "    _USING_PROD = False\n",
    "    endpoint_url = 'https://mturk-requester-sandbox.us-east-1.amazonaws.com'\n",
    "        \n",
    "cl = client('mturk', region_name='us-east-1', endpoint_url=endpoint_url)\n",
    "\n",
    "if hit_config['fold']:\n",
    "    hit_config['taskUrl'] = hit_config['taskUrl'] + \"?url=%s\" % hit_config['fold']\n",
    "\n",
    "if LAUNCH_HITS_FOR_ALL_FOLDS:\n",
    "    all_folds = os.listdir('./all_folds')        \n",
    "    \n",
    "print(\"TASK URL:\", hit_config['taskUrl'])\n"
   ]
  },
  {
   "cell_type": "markdown",
   "metadata": {},
   "source": [
    "# Make new HIT"
   ]
  },
  {
   "cell_type": "code",
   "execution_count": 49,
   "metadata": {},
   "outputs": [],
   "source": [
    "# Safety flags that prevent you from accidentally messing up your HITs. \n",
    "# Set to False except when you are performing these specific tasks. \n",
    "ALLOW_HIT_CREATION = True\n",
    "ALLOW_ASSIGNMENT_ADDITION = False\n",
    "ALLOW_CREATE_QUAL = False\n",
    "ALLOW_UPDATE_EXPIRATION = False"
   ]
  },
  {
   "cell_type": "code",
   "execution_count": 50,
   "metadata": {},
   "outputs": [],
   "source": [
    "# List of qualifications that you will use to filter potential workers. \n",
    "# These require that workers come from the US and have an approval rating >= 95%\n",
    "QUALS = [\n",
    "       {\n",
    "           'QualificationTypeId': '00000000000000000071',\n",
    "           'Comparator': 'EqualTo',\n",
    "           'LocaleValues': [{\n",
    "               'Country': 'US',\n",
    "           }],\n",
    "       },\n",
    "        \n",
    "       {\n",
    "           'QualificationTypeId': '000000000000000000L0',\n",
    "           'Comparator': 'GreaterThanOrEqualTo',\n",
    "           'IntegerValues': [\n",
    "               95\n",
    "           ],\n",
    "       },\n",
    "    ]"
   ]
  },
  {
   "cell_type": "code",
   "execution_count": 51,
   "metadata": {},
   "outputs": [],
   "source": [
    "# creates a HIT in the form of an External Question inside an iFrame\n",
    "def create_hit(task):\n",
    "    questionText = \"<ExternalQuestion xmlns=\\\"http://mechanicalturk.amazonaws.com/AWSMechanicalTurkDataSchemas/\"\n",
    "    questionText += \"2006-07-14/ExternalQuestion.xsd\\\">\\n<ExternalURL>\" + task['taskUrl']\n",
    "    questionText += \"</ExternalURL>\\n  <FrameHeight>700</FrameHeight>\\n</ExternalQuestion>\"\n",
    "\n",
    "    response = cl.create_hit(\n",
    "        MaxAssignments=task['numAssignments'],\n",
    "        AutoApprovalDelayInSeconds=604800,\n",
    "        LifetimeInSeconds=task['lifetime'],\n",
    "        AssignmentDurationInSeconds=task['duration'],\n",
    "        Reward=task['rewardAmount'],\n",
    "        Title=task['title'],\n",
    "        Keywords=task['keywords'],\n",
    "        Description=task['description'],\n",
    "        Question=questionText,\n",
    "        QualificationRequirements=QUALS,\n",
    "    )\n",
    "\n",
    "    print(response)\n",
    "    print(\"\\n\")"
   ]
  },
  {
   "cell_type": "code",
   "execution_count": 52,
   "metadata": {},
   "outputs": [
    {
     "name": "stdout",
     "output_type": "stream",
     "text": [
      "creating 1 tasks\n",
      "{'HIT': {'HITId': '3U18MJKL1U3I0R5JQXX0NCG3SJZCNI', 'HITTypeId': '33VSRLCQV1I71CR6MVQQ5U0SMIPXC7', 'HITGroupId': '3GBCJUK5C2I2RARWHU21Q3KS7CZPKT', 'CreationTime': datetime.datetime(2019, 1, 27, 6, 49, 23, tzinfo=tzlocal()), 'Title': 'Importance labeling', 'Description': 'Highlight the important parts of an image.', 'Question': '<ExternalQuestion xmlns=\"http://mechanicalturk.amazonaws.com/AWSMechanicalTurkDataSchemas/2006-07-14/ExternalQuestion.xsd\">\\n<ExternalURL>https://cfosco.github.io/mturk-importance/?url=fold2_dropbox.txt</ExternalURL>\\n  <FrameHeight>700</FrameHeight>\\n</ExternalQuestion>', 'Keywords': 'labeling, importance, highlighting', 'HITStatus': 'Assignable', 'MaxAssignments': 2000, 'Reward': '0.00', 'AutoApprovalDelayInSeconds': 604800, 'Expiration': datetime.datetime(2019, 1, 28, 6, 49, 23, tzinfo=tzlocal()), 'AssignmentDurationInSeconds': 1200, 'QualificationRequirements': [{'QualificationTypeId': '00000000000000000071', 'Comparator': 'EqualTo', 'LocaleValues': [{'Country': 'US'}], 'RequiredToPreview': False, 'ActionsGuarded': 'Accept'}, {'QualificationTypeId': '000000000000000000L0', 'Comparator': 'GreaterThanOrEqualTo', 'IntegerValues': [95], 'RequiredToPreview': False, 'ActionsGuarded': 'Accept'}], 'HITReviewStatus': 'NotReviewed', 'NumberOfAssignmentsPending': 0, 'NumberOfAssignmentsAvailable': 2000, 'NumberOfAssignmentsCompleted': 0}, 'ResponseMetadata': {'RequestId': 'c743cd01-3a32-445e-80ab-fbaa59b26f5a', 'HTTPStatusCode': 200, 'HTTPHeaders': {'x-amzn-requestid': 'c743cd01-3a32-445e-80ab-fbaa59b26f5a', 'content-type': 'application/x-amz-json-1.1', 'content-length': '1229', 'date': 'Sun, 27 Jan 2019 11:49:23 GMT'}, 'RetryAttempts': 0}}\n",
      "\n",
      "\n"
     ]
    }
   ],
   "source": [
    "if ALLOW_HIT_CREATION: \n",
    "    if config.get('variants', None): \n",
    "        print(\"creating \" + str(len(config['variants'])) + \" variants\")\n",
    "        for var in config['variants']: \n",
    "            task = copy.deepcopy(config)\n",
    "            task.update(var)\n",
    "            create_hit(task)\n",
    "    \n",
    "    elif LAUNCH_HITS_FOR_ALL_FOLDS:\n",
    "        print(\"creating\", len(all_folds), \"tasks\")\n",
    "        for fold in all_folds:\n",
    "            hit_config['taskUrl'] = hit_config['taskUrl'] + \"?url=%s\" % fold\n",
    "            create_hit(hit_config)\n",
    "    else:\n",
    "        print(\"creating \" + str(hit_config['numTasks']) + \" tasks\")\n",
    "        for i in range(hit_config['numTasks']):\n",
    "            create_hit(hit_config)"
   ]
  },
  {
   "cell_type": "markdown",
   "metadata": {},
   "source": [
    "# HIT monitoring helpers"
   ]
  },
  {
   "cell_type": "code",
   "execution_count": 22,
   "metadata": {},
   "outputs": [],
   "source": [
    "MAX_RESULTS = 10 # set equal to the number of outstanding hits you have \n",
    "\n",
    "hits = cl.list_hits(MaxResults=MAX_RESULTS)['HITs']"
   ]
  },
  {
   "cell_type": "code",
   "execution_count": 23,
   "metadata": {},
   "outputs": [],
   "source": [
    "# Gets all assignments created for a HIT\n",
    "def get_all_assignments(hitid): \n",
    "    assignments = []\n",
    "    should_continue = True\n",
    "    next_token = False\n",
    "    while (should_continue): \n",
    "        args = {\n",
    "            'HITId': hitid, \n",
    "            'MaxResults': 100\n",
    "        }\n",
    "        if (next_token): \n",
    "            args['NextToken'] = next_token\n",
    "        r = cl.list_assignments_for_hit(**args)\n",
    "        next_token = r.get('NextToken', False)\n",
    "        assignments.extend(r[\"Assignments\"])\n",
    "        should_continue = len(r[\"Assignments\"]) > 0\n",
    "    return assignments"
   ]
  },
  {
   "cell_type": "code",
   "execution_count": 24,
   "metadata": {},
   "outputs": [],
   "source": [
    "import datetime\n",
    "\n",
    "# Summarizes all hits in `hits` in a human-readable way \n",
    "def summarize_hits(hits): \n",
    "    print(len(hits))\n",
    "    ret = \"\"\n",
    "    for hit in hits: \n",
    "        expiration = hit['Expiration'].replace(tzinfo=None)\n",
    "        is_expired = expiration < datetime.datetime.now()\n",
    "        description = (\"Title: {title}\\n\" \n",
    "        \"ID: {hid}\\n\"\n",
    "        \"\\tAssignments left: {left}\\n\"\n",
    "        \"\\tAssignments completed: {complete}\\n\"\n",
    "        \"\\tAssignments pending: {pending}\\n\"\n",
    "        \"\\tExpired: {exp}\\n\\n\").format(\n",
    "            title=hit['Title'], \n",
    "            hid=hit['HITId'], \n",
    "            left=hit['NumberOfAssignmentsAvailable'], \n",
    "            complete=hit['NumberOfAssignmentsCompleted'], \n",
    "            pending=hit['NumberOfAssignmentsPending'],\n",
    "            exp=str(is_expired)\n",
    "        )\n",
    "        ret += description\n",
    "    print(ret)"
   ]
  },
  {
   "cell_type": "code",
   "execution_count": 25,
   "metadata": {},
   "outputs": [],
   "source": [
    "# Summarizes all pending/submitted/approved assignments for all hits in `hits`\n",
    "def summarize_assignments(hits):\n",
    "    ret = \"\"\n",
    "    for hit in hits: \n",
    "        hid = hit['HITId']\n",
    "        title =  hit['Title']\n",
    "        name = \"HIT %s: %s\" % (hid, title)\n",
    "        ret += name + \"\\n\"\n",
    "        assignments = get_all_assignments(hid)\n",
    "        for a in assignments: \n",
    "            desc = \"\\tAssignment {aid}\\n\\t\\tStatus: {status}\\n\".format(aid=a['AssignmentId'], status=a['AssignmentStatus'])\n",
    "            ret += desc\n",
    "    print(ret)"
   ]
  },
  {
   "cell_type": "code",
   "execution_count": 26,
   "metadata": {},
   "outputs": [],
   "source": [
    "def refresh_hits(): \n",
    "    global hits \n",
    "    global MAX_RESULTS\n",
    "    hits = cl.list_hits(MaxResults=MAX_RESULTS)['HITs']"
   ]
  },
  {
   "cell_type": "markdown",
   "metadata": {},
   "source": [
    "# HIT monitoring"
   ]
  },
  {
   "cell_type": "code",
   "execution_count": 27,
   "metadata": {},
   "outputs": [],
   "source": [
    "refresh_hits()\n",
    "pass"
   ]
  },
  {
   "cell_type": "code",
   "execution_count": 28,
   "metadata": {},
   "outputs": [
    {
     "name": "stdout",
     "output_type": "stream",
     "text": [
      "10\n",
      "Title: Importance labeling\n",
      "ID: 3S37Y8CWI8H5SH1IPJI50XH6TIDW47\n",
      "\tAssignments left: 1999\n",
      "\tAssignments completed: 0\n",
      "\tAssignments pending: 0\n",
      "\tExpired: False\n",
      "\n",
      "Title: Importance labeling\n",
      "ID: 3PR3LXCWSFGLENCKGJAIJO6TOCXX9X\n",
      "\tAssignments left: 2000\n",
      "\tAssignments completed: 0\n",
      "\tAssignments pending: 0\n",
      "\tExpired: False\n",
      "\n",
      "Title: Importance labeling\n",
      "ID: 3S8A4GJRD3K6SF5RIX6OBTI6I0HV6H\n",
      "\tAssignments left: 1999\n",
      "\tAssignments completed: 0\n",
      "\tAssignments pending: 0\n",
      "\tExpired: False\n",
      "\n",
      "Title: Importance labeling\n",
      "ID: 3W3RSPVVGS8OYLJY0B2L4QYKUOXULZ\n",
      "\tAssignments left: 1999\n",
      "\tAssignments completed: 0\n",
      "\tAssignments pending: 0\n",
      "\tExpired: False\n",
      "\n",
      "Title: Importance labeling\n",
      "ID: 3DFYDSXB2WHI3VVYXQQ8OBLSQZSJUM\n",
      "\tAssignments left: 2000\n",
      "\tAssignments completed: 0\n",
      "\tAssignments pending: 0\n",
      "\tExpired: False\n",
      "\n",
      "Title: Importance labeling\n",
      "ID: 3CMV9YRYP3IFK584OCY7XOP9D8ZJLS\n",
      "\tAssignments left: 1999\n",
      "\tAssignments completed: 0\n",
      "\tAssignments pending: 0\n",
      "\tExpired: False\n",
      "\n",
      "Title: Importance labeling\n",
      "ID: 3LG268AV38NICNHPFVKCMKLGD5MERB\n",
      "\tAssignments left: 2000\n",
      "\tAssignments completed: 0\n",
      "\tAssignments pending: 0\n",
      "\tExpired: True\n",
      "\n",
      "Title: Importance labeling\n",
      "ID: 3M67TQBQQH59IA4R59I4ZGVVM4IA9P\n",
      "\tAssignments left: 2000\n",
      "\tAssignments completed: 0\n",
      "\tAssignments pending: 0\n",
      "\tExpired: True\n",
      "\n",
      "Title: Marking important regions in a graphic design\n",
      "ID: 3126F2F5F8KX0A1A23GNHPL1CNYEPJ\n",
      "\tAssignments left: 10\n",
      "\tAssignments completed: 0\n",
      "\tAssignments pending: 0\n",
      "\tExpired: True\n",
      "\n",
      "Title: Importance labeling\n",
      "ID: 34OWYT6U3WYOOSNPHXAHGEJEZ5CI9C\n",
      "\tAssignments left: 2000\n",
      "\tAssignments completed: 0\n",
      "\tAssignments pending: 0\n",
      "\tExpired: True\n",
      "\n",
      "\n"
     ]
    }
   ],
   "source": [
    "refresh_hits()\n",
    "\n",
    "summarize_hits(hits)"
   ]
  },
  {
   "cell_type": "code",
   "execution_count": 31,
   "metadata": {},
   "outputs": [
    {
     "name": "stdout",
     "output_type": "stream",
     "text": [
      "HIT 34OWYT6U3WYOOSNPHXAHGEJEZ5CI9C: Importance labeling\n",
      "HIT 3WGCNLZJKFPPRC48L6UDABLI9M91D9: Importance labeling\n",
      "\tAssignment 3NPI0JQDAPM2BDH1I0AK5VHJNRFPTG\n",
      "\t\tStatus: Submitted\n",
      "HIT 3W1K7D6QSBYT7BRWFLCZ7FHUJG9ZBO: Marking important regions in a graphic design\n",
      "HIT 32TZXEA1OL1CRGLFSVTK77RCW9G14W: Marking important regions in a graphic design\n",
      "HIT 3WUVMVA7OBKOO1M497C3C4XO1YOZAT: Marking important regions in a graphic design\n",
      "\tAssignment 37UQDCYH6YCSIZHQR9GI6REJKI97VR\n",
      "\t\tStatus: Submitted\n",
      "HIT 31KSVEGZ349CTN3G0VEI8QSGK08WR8: Marking important regions in a graphic design\n",
      "\tAssignment 32KTQ2V7REWD6VBASEDBXRMCOFL9MO\n",
      "\t\tStatus: Submitted\n",
      "HIT 3IZVJEBJ6A1N1ZA1JUVRWZV25FYZ63: Marking important regions in a graphic design\n",
      "HIT 3WRKFXQBOBO3PTVXP92XFVC58COYI4: Marking important regions in a graphic design\n",
      "\tAssignment 3KGTPGBS6Y2LJJVKG7PIEEVSVUTU2M\n",
      "\t\tStatus: Submitted\n",
      "HIT 3KG2UQJ0MJ5MUSF2VFYV7H5KV21NQ6: Marking important regions in a graphic design\n",
      "\tAssignment 31IBVUNM9TG5XSWW9SEUUJR0I68FVJ\n",
      "\t\tStatus: Submitted\n",
      "HIT 3MVY4USGB646T7JOQ3A8X9O4RRSSIK: Marking important regions in a graphic design\n",
      "\n"
     ]
    }
   ],
   "source": [
    "refresh_hits()\n",
    "summarize_assignments(hits)\n",
    "pass"
   ]
  },
  {
   "cell_type": "markdown",
   "metadata": {},
   "source": [
    "# Approve HITs"
   ]
  },
  {
   "cell_type": "code",
   "execution_count": 29,
   "metadata": {},
   "outputs": [],
   "source": [
    "# Approves all outstanding hits created for the HITs in hits \n",
    "def approve_all(hits): \n",
    "    num_approved = 0\n",
    "    for hit in hits: \n",
    "        # make sure you keep getting assignments \n",
    "        assignments = get_all_assignments(hit[\"HITId\"])\n",
    "        #print(assignments)\n",
    "        for a in assignments: \n",
    "            if a['AssignmentStatus'] != 'Approved':\n",
    "                print(\"Approving assignment\")\n",
    "                num_approved += 1\n",
    "                cl.approve_assignment(AssignmentId=a['AssignmentId'])\n",
    "    print(\"Approved %d assignments\" % num_approved)"
   ]
  },
  {
   "cell_type": "code",
   "execution_count": 30,
   "metadata": {
    "scrolled": true
   },
   "outputs": [
    {
     "name": "stdout",
     "output_type": "stream",
     "text": [
      "Approving assignment\n",
      "Approving assignment\n",
      "Approving assignment\n",
      "Approving assignment\n",
      "Approved 4 assignments\n"
     ]
    }
   ],
   "source": [
    "refresh_hits()\n",
    "approve_all(hits)"
   ]
  },
  {
   "cell_type": "markdown",
   "metadata": {},
   "source": [
    "# Update expiration or num tasks"
   ]
  },
  {
   "cell_type": "code",
   "execution_count": 31,
   "metadata": {},
   "outputs": [],
   "source": [
    "import datetime \n",
    "\n",
    "# changes the expiration date on a HIT to days_from_now days in the future\n",
    "def update_expiration(hitid, days_from_now): \n",
    "    if ALLOW_UPDATE_EXPIRATION: \n",
    "        days = days_from_now*datetime.timedelta(days=1)\n",
    "        expire_time = datetime.datetime.now() + days\n",
    "\n",
    "        response = cl.update_expiration_for_hit(HITId=hitid, ExpireAt=expire_time)\n",
    "        print(response)\n",
    "        return response\n",
    "    else: \n",
    "        raise RuntimeException(\"This action is not currently enabled; set `ALLOW_UPDATE_EXPIRATION` to true to proceed with this action\")\n",
    "    \n",
    "def expire_hit(hit): \n",
    "    return update_expiration(hit, -10)"
   ]
  },
  {
   "cell_type": "code",
   "execution_count": 32,
   "metadata": {},
   "outputs": [],
   "source": [
    "def add_assignments(hitid, num_assignments): \n",
    "    if ALLOW_ASSIGNMENT_ADDITION: \n",
    "        response = cl.create_additional_assignments_for_hit(\n",
    "            HITId=hitid,\n",
    "            NumberOfAdditionalAssignments=num_assignments\n",
    "        )\n",
    "        print(response)\n",
    "        return response\n",
    "    else: \n",
    "        raise RuntimException(\"This action is not currently enabled; set `ALLOW_ASSIGNMENT_ADDITION` to true to proceed with this action\")"
   ]
  },
  {
   "cell_type": "markdown",
   "metadata": {},
   "source": [
    "# Add custom qualifications "
   ]
  },
  {
   "cell_type": "markdown",
   "metadata": {},
   "source": [
    "## Add a qualification to disqualify workers who have done work before\n",
    "\n",
    "- uses \"negative qualification\" method from https://github.com/cloudyr/MturkR/wiki/qualifications-as-blocks\n",
    "\n",
    "### NOTE: quals are kept separate for the sandbox and prod. Make sure you are creating and assigning your quals in prod. "
   ]
  },
  {
   "cell_type": "code",
   "execution_count": 33,
   "metadata": {},
   "outputs": [],
   "source": [
    "# structure of a new qualification \n",
    "NEW_QUAL = {\n",
    "    'Name': 'qualName',\n",
    "    'Keywords': 'Keywords for qual',\n",
    "    'Description': 'What is this qual, and why are you assigning it?',\n",
    "    'QualificationTypeStatus': 'Active',\n",
    "    'AutoGranted': False\n",
    "}"
   ]
  },
  {
   "cell_type": "code",
   "execution_count": 34,
   "metadata": {},
   "outputs": [],
   "source": [
    "def create_qual(new_qual):\n",
    "    if ALLOW_CREATE_QUAL: \n",
    "        response = cl.create_qualification_type(**new_qual)\n",
    "        print(response)\n",
    "        Id = response['QualificationTypeId']\n",
    "        print(\"id\", Id)\n",
    "        return Id\n",
    "    else: \n",
    "        raise RuntimException(\"This action is not currently enabled; set `ALLOW_CREATE_QUAL` to true to proceed with this action\")"
   ]
  },
  {
   "cell_type": "code",
   "execution_count": 38,
   "metadata": {},
   "outputs": [
    {
     "name": "stdout",
     "output_type": "stream",
     "text": [
      "{'NumResults': 0, 'QualificationTypes': [], 'ResponseMetadata': {'RequestId': '4ff9cff9-32f4-49b2-b79a-0137726813e0', 'HTTPStatusCode': 200, 'HTTPHeaders': {'x-amzn-requestid': '4ff9cff9-32f4-49b2-b79a-0137726813e0', 'content-type': 'application/x-amz-json-1.1', 'content-length': '40', 'date': 'Tue, 27 Nov 2018 21:11:39 GMT'}, 'RetryAttempts': 0}}\n"
     ]
    }
   ],
   "source": [
    "# Gets all the custom quals you have created. \n",
    "def list_quals(): \n",
    "    response = cl.list_qualification_types(\n",
    "            Query='hasCompletedVisualGraphRecallTask',\n",
    "            MustBeRequestable=False\n",
    "    )\n",
    "    print(response)\n",
    "\n",
    "list_quals()"
   ]
  },
  {
   "cell_type": "code",
   "execution_count": 39,
   "metadata": {},
   "outputs": [],
   "source": [
    "def assign_qual(qual_id, worker_ids): \n",
    "    for worker in worker_ids: \n",
    "        response = cl.associate_qualification_with_worker(\n",
    "                QualificationTypeId=qual_id, \n",
    "                WorkerId=worker,\n",
    "                IntegerValue=1,\n",
    "                SendNotification=False\n",
    "        )\n",
    "        print(response)\n",
    "        assert response\n",
    "        \n",
    "def get_workers_for_hit(hitid): \n",
    "    a = get_all_assignments(hitid)\n",
    "    workers = [a_['WorkerId'] for a_ in a]\n",
    "    return workers\n",
    "    \n",
    "def confirm_quals(qual_id, worker_ids): \n",
    "    for w in worker_ids: \n",
    "        response = cl.get_qualification_score(\n",
    "                QualificationTypeId=qual_id,\n",
    "                WorkerId=w\n",
    "        )\n",
    "        response = response['Qualification']\n",
    "        assert response['Status'] == 'Granted'\n",
    "        assert response['IntegerValue'] == 1\n",
    "        \n",
    "# Assigns qual with `qual_id` to every worker who has completed an assignment for the hit with `hitid`\n",
    "def assign_qual_for_hit(hitid, qual_id): \n",
    "    workers = get_workers_for_hit(hitid)\n",
    "    print(\"got workers\")\n",
    "    assign_qual(qual_id, workers)\n",
    "    print(\"assigned qual\")\n",
    "    confirm_quals(qual_id, workers)\n",
    "    print(\"confirmed qual\")"
   ]
  },
  {
   "cell_type": "markdown",
   "metadata": {},
   "source": [
    "# Download data"
   ]
  },
  {
   "cell_type": "code",
   "execution_count": 35,
   "metadata": {},
   "outputs": [],
   "source": [
    "from bs4 import BeautifulSoup as bs \n",
    "import pprint\n",
    "\n",
    "def pretty_print(obj):\n",
    "    pp = pprint.PrettyPrinter(indent=4)\n",
    "    pp.pprint(obj)\n",
    "    pp = None\n",
    "\n",
    "# Downloads all the assignments completed for `hits` as a list of dictionaries. \n",
    "# If a download_path is given, also saves that data as json \n",
    "def get_assignment_content(hits, download_path=\"\", should_print=False): \n",
    "    all_responses = []\n",
    "    for hit in hits: \n",
    "        hitid = hit['HITId']\n",
    "        assignments = get_all_assignments(hitid)\n",
    "        print(hitid)\n",
    "        print(assignments)\n",
    "        for a in assignments:\n",
    "            #print(a)\n",
    "            a_xml = a['Answer']\n",
    "            #print(a_xml)\n",
    "            soup = bs(a_xml, \"lxml\")\n",
    "            answers = soup.find_all(\"answer\")\n",
    "            #print(answers)\n",
    "            results = {'HITId': hitid}\n",
    "            for ans in answers: \n",
    "                identifier = ans.find('questionidentifier').string\n",
    "                answer = ans.find('freetext').string\n",
    "                try: \n",
    "                    results[identifier] = json.loads(answer)\n",
    "                except:\n",
    "                    results[identifier] = answer\n",
    "            all_responses.append(results)\n",
    "    if should_print: \n",
    "        pretty_print(all_responses)\n",
    "    if download_path: \n",
    "        with open(download_path, 'w') as outfile: \n",
    "            json.dump(all_responses, outfile)\n",
    "    return all_responses\n",
    "            "
   ]
  },
  {
   "cell_type": "code",
   "execution_count": 36,
   "metadata": {},
   "outputs": [
    {
     "name": "stdout",
     "output_type": "stream",
     "text": [
      "3S37Y8CWI8H5SH1IPJI50XH6TIDW47\n",
      "[{'AssignmentId': '39GAF6DQWSHE7D2O2TZ95HN6H2A1V1', 'WorkerId': 'ACUP2HVXGZY46', 'HITId': '3S37Y8CWI8H5SH1IPJI50XH6TIDW47', 'AssignmentStatus': 'Approved', 'AutoApprovalTime': datetime.datetime(2019, 2, 1, 15, 11, 44, tzinfo=tzlocal()), 'AcceptTime': datetime.datetime(2019, 1, 25, 15, 10, 6, tzinfo=tzlocal()), 'SubmitTime': datetime.datetime(2019, 1, 25, 15, 11, 44, tzinfo=tzlocal()), 'ApprovalTime': datetime.datetime(2019, 1, 25, 15, 14, 41, tzinfo=tzlocal()), 'Answer': '<?xml version=\"1.0\" encoding=\"ASCII\"?><QuestionFormAnswers xmlns=\"http://mechanicalturk.amazonaws.com/AWSMechanicalTurkDataSchemas/2005-10-01/QuestionFormAnswers.xsd\"><Answer><QuestionIdentifier>workerId</QuestionIdentifier><FreeText>ACUP2HVXGZY46</FreeText></Answer><Answer><QuestionIdentifier>results</QuestionIdentifier><FreeText>{\"inputs\":[],\"outputs\":[[\"600,400,./files/certificates_1_13_MACS70yIlqs.png:3,2,1,258.35,117.5,258.35,118.35,258.35,120.85,258.35,123.35,258.35,128.35,258.35,130,258.35,132.5,258.35,135,258.35,137.5,258.35,140,258.35,145.85,260.85,150,260.85,155,260.85,160.85,260.85,165,260.85,170.85,260.85,175,260.85,178.35,260.85,185,260.85,190,260.85,193.35,262.5,198.35,263.35,203.35,265,205.85,265,208.35,265.85,208.35,265.85,213.35,265.85,215.85,265.85,218.35,265.85,222.5,265.85,225.85,265.85,230,265.85,235,265.85,240,265.85,243.35,265.85,245,265.85,248.35,265.85,250.85,265.85,255,265,258.35,263.35,260,263.35,263.35,263.35,265.85,262.5,268.35,260.85,270.85,260,273.35,260,275.85,260,278.35,258.35,282.5,258.35,283.35,258.35,285.85,258.35,288.35,258.35,290,258.35,290.85,258.35,292.5,258.35,293.35,260,293.35,262.5,295,263.35,295,265,295.85,265.85,295.85,267.5,295.85,268.35,295.85,270.85,295.85,272.5,295.85,275.85,295.85,280,295.85,283.35,295.85,287.5,295.85,290.85,295.85,293.35,295.85,298.35,295.85,310,295.85,320.85,295.85,325.85,295.85,342.5,298.35,365,300.85,380.85,305.85,393.35,307.5,405.85,310,413.35,310.85,415.85,310.85,417.5,310.85,418.35,310.85,420,310.85,420.85,310.85,420.85,310,422.5,308.35,422.5,307.5,422.5,305.85,422.5,303.35,423.35,302.5,423.35,298.35,425,293.35,425,288.35,425,283.35,425,277.5,425,270.85,425,265.85,425,263.35,425,260,425,258.35,425,257.5,425,255.85,425.85,255.85,428.35,255.85,430.85,255.85,435,255.85,445,255.85,453.35,255.85,462.5,255.85,468.35,255.85,473.35,255,477.5,255,480,255,482.5,255,483.35,255,485,253.35,485.85,252.5,488.35,252.5,490,252.5,490.85,250.85,493.35,250.85,495.85,250,495.85,248.35,495.85,245.85,495.85,240.85,495.85,235.85,495.85,230.85,495,220.85,493.35,215.85,492.5,210.85,490.85,208.35,488.35,205.85,488.35,203.35,487.5,203.35,485.85,203.35,483.35,203.35,480,203.35,475.85,203.35,468.35,205.85,465.85,205.85,460.85,205.85,458.35,205.85,455.85,207.5,455,207.5,453.35,207.5,450.85,208.35,450,208.35,447.5,208.35,445.85,208.35,443.35,210,440.85,210.85,438.35,210.85,437.5,210.85,435.85,210.85,435,210.85,433.35,210.85,432.5,210.85,430.85,210.85,430.85,210,430.85,208.35,428.35,205.85,428.35,203.35,427.5,200,425.85,195.85,425.85,193.35,425,190.85,425,188.35,425,185.85,425,182.5,425,180,425,175.85,425,175,425,173.35,425,170.85,425,170,425,167.5,427.5,165.85,428.35,165,430,165,430.85,163.35,432.5,163.35,435.85,162.5,438.35,160.85,443.35,160.85,448.35,160,455.85,158.35,460,158.35,463.35,157.5,468.35,155.85,470.85,155.85,472.5,155.85,473.35,155.85,475,155,475.85,153.35,475.85,150.85,475.85,145.85,475.85,142.5,473.35,133.35,473.35,128.35,472.5,127.5,472.5,125.85,472.5,125,470.85,123.35,470.85,122.5,470.85,120.85,470.85,120,470.85,118.35,;3,2,1,98.35,115.85,97.5,115,95.85,113.35,95.85,112.5,93.35,110.85,93.35,110,93.35,108.35,90.85,108.35,90,107.5,88.35,105.85,87.5,105.85,85.85,105.85,83.35,105.85,83.35,105,83.35,103.35,82.5,103.35,80.85,103.35,80,103.35,78.35,103.35,75.85,103.35,75,103.35,73.35,102.5,72.5,102.5,70.85,102.5,68.35,102.5,65.85,102.5,65,102.5,65,103.35,63.35,103.35,60.85,105,60,105,58.35,105,57.5,105.85,55.85,105.85,53.35,105.85,52.5,108.35,50.85,108.35,48.35,110,48.35,110.85,47.5,110.85,45.85,112.5,45.85,113.35,45,115,43.35,115.85,43.35,117.5,43.35,118.35,43.35,120,42.5,120.85,40.85,122.5,40.85,123.35,40.85,125.85,40.85,127.5,40.85,128.35,40.85,130,40.85,130.85,40.85,133.35,40.85,135,40.85,135.85,40.85,137.5,40.85,138.35,40.85,140.85,40.85,143.35,40.85,145,43.35,147.5,45,148.35,45.85,150,45.85,150.85,47.5,152.5,48.35,153.35,50,155,50.85,155.85,52.5,155.85,53.35,155.85,53.35,157.5,55,158.35,55.85,160,57.5,160,58.35,160.85,60,162.5,60.85,163.35,60.85,165,62.5,165,63.35,165.85,63.35,167.5,65,168.35,65.85,168.35,65.85,170,67.5,170,68.35,170.85,70,172.5,70,173.35,70.85,173.35,70.85,175,72.5,175,73.35,175,75,175.85,75.85,177.5,75.85,178.35,77.5,180,78.35,180.85,80.85,182.5,82.5,183.35,83.35,183.35,85,185.85,85.85,185.85,87.5,187.5,88.35,188.35,90,190,90.85,190.85,93.35,193.35,95,195,95.85,195.85,97.5,195.85,98.35,197.5,98.35,198.35,100,198.35,100.85,198.35,100.85,200,102.5,200,103.35,200,105.85,197.5,105.85,193.35,107.5,190.85,107.5,190,108.35,188.35,108.35,187.5,110,185.85,110.85,185.85,112.5,185,113.35,185,113.35,183.35,115,183.35,115.85,182.5,115.85,180.85,118.35,180.85,120,180,120.85,180,120.85,178.35,123.35,178.35,123.35,177.5,125.85,175.85,128.35,173.35,130.85,172.5,135,170.85,135.85,170.85,135.85,170,137.5,168.35,138.35,168.35,140,165.85,140.85,165.85,142.5,165,142.5,163.35,143.35,162.5,145,160.85,145.85,160.85,147.5,158.35,148.35,157.5,150,155.85,150.85,155,152.5,155,153.35,153.35,153.35,152.5,155.85,150.85,155.85,150,157.5,148.35,158.35,147.5,158.35,145,158.35,143.35,160,143.35,160.85,142.5,160.85,140.85,162.5,137.5,163.35,135.85,163.35,135,163.35,133.35,163.35,132.5,163.35,130.85,163.35,125.85,163.35,125,163.35,123.35,163.35,122.5,163.35,120,163.35,118.35,162.5,117.5,162.5,115.85,160.85,115.85,160.85,115,160,113.35,160,112.5,158.35,110.85,158.35,110,157.5,110,155.85,110,155,110,153.35,108.35,152.5,107.5,150.85,107.5,150.85,105.85,150,105.85,148.35,105.85,145.85,105,145,103.35,143.35,103.35,142.5,103.35,140.85,103.35,138.35,103.35,135.85,103.35,135,103.35,133.35,102.5,132.5,102.5,130.85,102.5,130,102.5,128.35,102.5,127.5,102.5,125.85,102.5,125,103.35,123.35,103.35,122.5,103.35,120.85,103.35,120,103.35,118.35,103.35,118.35,105,115.85,105,115.85,105.85,115,105.85,113.35,105.85,110.85,105.85,110.85,107.5,108.35,107.5,107.5,107.5,;3,2,1,97.5,23.35,97.5,25.85,100,28.35,100.85,30.85,100.85,32.5,100.85,33.35,103.35,35.85,105,37.5,105.85,38.35,107.5,38.35,110,40,110.85,40.85,112.5,40.85,113.35,40.85,115,40.85,115.85,42.5,118.35,43.35,118.35,45,120.85,45.85,125.85,47.5,127.5,48.35,128.35,48.35,130.85,48.35,133.35,48.35,135,50,135.85,50.85,137.5,50.85,138.35,52.5,140,53.35,140.85,55,145,55.85,145.85,57.5,145.85,58.35,147.5,60,148.35,60.85,150,62.5,150.85,63.35,152.5,63.35,153.35,65,153.35,65.85,153.35,67.5,155,68.35,155.85,68.35,157.5,68.35,158.35,68.35,160,68.35,163.35,68.35,167.5,68.35,170.85,68.35,173.35,70,175,70,177.5,70,178.35,70,180,70,180.85,70,183.35,70,187.5,68.35,188.35,68.35,190.85,65.85,192.5,65.85,193.35,65.85,195.85,65.85,197.5,65.85,198.35,65.85,200,65.85,202.5,65.85,203.35,65.85,205.85,65.85,207.5,65.85,208.35,65.85,210,65.85,210.85,65.85,213.35,65.85,215,65.85,215.85,68.35,218.35,70.85,218.35,73.35,218.35,75,218.35,75.85,218.35,77.5,218.35,78.35,218.35,80.85,220,83.35,220,87.5,220.85,90,220.85,90.85,220.85,92.5,220.85,93.35,220.85,97.5,220.85,100.85,222.5,103.35,222.5,105.85,223.35,105.85,223.35,107.5,223.35,110,223.35,110.85,223.35,113.35,220.85,115.85,220.85,118.35,220.85,120.85,220.85,123.35,218.35,125.85,218.35,127.5,218.35,128.35,217.5,130,217.5,130.85,218.35,130.85,220.85,132.5,220.85,133.35,222.5,133.35,223.35,135,223.35,135.85,223.35,137.5,225.85,140,227.5,140,230,140.85,230.85,142.5,233.35,143.35,235,143.35,235.85,143.35,235.85,145,235.85,145.85,235.85,147.5,235.85,148.35,235.85,150,235.85,152.5,235.85,155.85,235.85,157.5,235.85,160.85,237.5,160.85,237.5,162.5,238.35,165,238.35,165.85,238.35,168.35,238.35,170,240,170.85,240.85,173.35,240.85,175.85,242.5,175.85,242.5,177.5,242.5,178.35,243.35,183.35,245,183.35,245.85,183.35,245.85,185,245.85,185.85,245.85,188.35,245.85,190,245.85,190.85,247.5,193.35,248.35,195,248.35,195.85,248.35,197.5,248.35,198.35,248.35,200.85,248.35,203.35,250,207.5,250.85,208.35,250.85,210.85,250.85,212.5,250.85,215,250.85,215.85,250,220.85,248.35,223.35,248.35,225.85,245.85,228.35,245,230.85,245,233.35,243.35,235.85,240.85,240,240.85,242.5,240,243.35,240,245.85,238.35,247.5,238.35,248.35,237.5,250.85,237.5,253.35,237.5,255,237.5,255.85,235.85,260.85,235.85,262.5,235.85,263.35,235.85,265.85,235.85,268.35,235.85,270,235.85,272.5,235.85,275.85,235.85,277.5,235.85,278.35,235.85,280,235.85,282.5,235.85,283.35,235.85,287.5,235.85,288.35,235.85,290,235.85,290.85,235.85,293.35,235.85,295,235.85,297.5,235.85,298.35,235.85,300.85,235.85,303.35,235.85,305,235.85,305.85,235,305.85,235,307.5,235,308.35,235,310,235,310.85,235,313.35,235,315.85,235,318.35,235,320,235,320.85,235,322.5,235,323.35,233.35,323.35,233.35,325,232.5,325.85,232.5,327.5,232.5,328.35,232.5,330,232.5,330.85,230.85,332.5,232.5,333.35,233.35,335.85,233.35,338.35,233.35,340,233.35,340.85,235,340.85,235,342.5,235,343.35,235,345,235,345.85,235,348.35,235,350,235,350.85,233.35,350.85,230.85,352.5,230.85,353.35,230,353.35,228.35,355,225.85,355,225.85,355.85,225,355.85,223.35,355.85,222.5,355.85,220.85,355.85,220.85,357.5,218.35,358.35,215.85,358.35,215,358.35,213.35,358.35,212.5,358.35,210.85,360.85,210,360.85,208.35,360.85,207.5,360.85,205.85,360.85,203.35,360.85,202.5,360.85,200.85,360.85,198.35,360.85,195.85,360.85,195,360.85,192.5,360.85,190.85,360.85,188.35,360.85,185.85,360.85,185,360.85,183.35,360.85,180.85,360.85,178.35,360.85,177.5,360.85,175.85,360.85,173.35,360.85,172.5,360,170.85,360,170,360,168.35,360,165.85,360,165.85,358.35,165,358.35,163.35,358.35,162.5,358.35,160.85,358.35,160,357.5,158.35,357.5,155.85,357.5,153.35,357.5,152.5,357.5,150.85,357.5,150,357.5,148.35,357.5,145.85,357.5,143.35,357.5,140.85,357.5,140,357.5,137.5,357.5,135.85,357.5,133.35,357.5,132.5,357.5,130.85,357.5,130,357.5,128.35,357.5,125.85,357.5,125,357.5,123.35,357.5,122.5,357.5,120.85,358.35,118.35,358.35,117.5,358.35,113.35,360.85,110.85,360.85,110,360.85,108.35,360.85,107.5,360.85,105,362.5,103.35,362.5,102.5,362.5,100,362.5,98.35,362.5,95.85,363.35,92.5,363.35,90.85,363.35,88.35,363.35,87.5,363.35,85,363.35,83.35,363.35,80.85,363.35,80,363.35,78.35,363.35,77.5,363.35,75.85,363.35,73.35,363.35,72.5,363.35,70,363.35,68.35,363.35,67.5,362.5,65.85,360.85,63.35,360.85,62.5,360.85,60.85,360,60,360,57.5,358.35,55.85,358.35,55.85,357.5,53.35,357.5,52.5,355.85,50,355.85,47.5,355.85,45.85,355.85,45,355.85,43.35,355.85,42.5,355.85,40.85,355.85,38.35,355.85,37.5,355.85,35.85,355.85,35,355.85,32.5,355.85,30.85,355.85,28.35,355.85,25.85,355.85,23.35,355.85,20.85,355.85,20,355.85,18.35,355.85,15.85,355.85,13.35,355.85,12.5,355.85,10.85,355.85,10,355.85,8.35,355.85,7.5,355.85,5.85,355,5.85,353.35,5.85,352.5,5.85,350.85,5.85,350,5,348.35,5,347.5,5,345.85,5,345,5,343.35,5,342.5,5,340.85,5,338.35,5.85,337.5,5.85,335.85,5.85,335,5.85,333.35,5.85,330.85,5.85,330,5.85,328.35,5.85,327.5,8.35,325.85,8.35,323.35,8.35,320.85,8.35,320,8.35,318.35,8.35,315.85,8.35,312.5,8.35,310.85,8.35,310,8.35,308.35,8.35,305.85,7.5,305.85,7.5,305,7.5,303.35,7.5,302.5,7.5,300.85,7.5,298.35,7.5,297.5,8.35,295.85,10,295.85,10.85,293.35,10.85,290.85,10.85,290,10.85,287.5,10.85,285.85,10.85,285,10.85,283.35,10.85,282.5,10.85,280.85,10.85,280,10.85,278.35,10.85,277.5,10.85,275.85,10.85,273.35,7.5,270,3.35,265.85,3.35,263.35,2.5,260,0.85,258.35,0.85,257.5,0.85,255.85,0.85,205.85,0.85,205,0.85,203.35,0.85,200.85,0.85,200,0.85,198.35,0.85,197.5,2.5,195.85,2.5,193.35,3.35,190.85,5,188.35,5,187.5,5,185.85,5.85,185,5.85,183.35,7.5,180.85,8.35,180,8.35,178.35,8.35,177.5,8.35,175.85,8.35,175,8.35,173.35,10,172.5,10,170.85,10,170,10.85,168.35,10.85,167.5,10.85,163.35,10.85,162.5,10.85,160.85,10.85,160,12.5,155.85,12.5,155,12.5,153.35,12.5,152.5,12.5,150.85,12.5,147.5,10.85,143.35,10.85,142.5,10.85,140,10.85,138.35,10.85,137.5,10.85,135.85,10.85,130.85,10,128.35,8.35,127.5,8.35,125.85,7.5,125.85,5.85,125,5.85,120.85,5.85,120,5.85,118.35,5.85,117.5,5.85,115.85,5.85,113.35,5.85,112.5,5.85,110.85,5.85,110,5.85,108.35,5.85,107.5,5.85,105.85,5.85,103.35,5.85,100.85,5.85,98.35,5.85,95.85,5.85,95,5.85,93.35,5.85,92.5,5.85,90.85,5.85,90,5.85,88.35,5.85,87.5,5.85,83.35,5.85,80.85,5.85,80,5.85,78.35,7.5,77.5,7.5,75.85,7.5,73.35,8.35,72.5,8.35,70.85,8.35,70,8.35,68.35,10,68.35,10.85,68.35,12.5,67.5,12.5,65.85,13.35,65.85,15,65.85,15.85,65.85,18.35,65.85,20,65.85,20.85,65.85,22.5,65.85,23.35,65.85,25,65.85,25.85,65.85,27.5,65.85,28.35,65.85,30,65.85,30.85,65.85,32.5,65.85,33.35,65.85,35,65.85,35.85,65.85,37.5,65.85,38.35,65.85,40,65.85,40.85,65.85,43.35,65.85,45,65.85,45.85,65.85,47.5,65.85,48.35,65.85,50.85,65.85,52.5,65.85,;\",\"600,464,./files/certificates_1_11_MAB6rLXUI0U.png:3,2,1,80.85,123.35,82.5,123.35,82.5,125,82.5,125.85,82.5,127.5,82.5,128.35,82.5,130.85,82.5,133.35,80.85,133.35,80.85,135,80.85,135.85,80.85,138.35,80.85,140,80.85,140.85,80.85,142.5,80.85,143.35,80.85,145.85,80.85,147.5,80.85,148.35,80.85,150,80.85,150.85,80.85,152.5,83.35,152.5,85,152.5,85.85,152.5,85.85,150.85,88.35,150.85,90,150.85,92.5,150,93.35,150,93.35,148.35,95,148.35,95.85,148.35,97.5,148.35,98.35,148.35,102.5,148.35,103.35,148.35,105.85,148.35,108.35,148.35,110.85,148.35,113.35,148.35,115,148.35,115.85,148.35,118.35,148.35,120,148.35,120.85,150,123.35,150.85,125,150.85,125.85,150.85,128.35,150.85,130.85,150.85,132.5,150.85,133.35,150.85,137.5,150.85,138.35,150.85,140.85,150.85,143.35,153.35,145,153.35,147.5,153.35,150,153.35,152.5,153.35,155.85,155,157.5,155.85,160,155.85,160.85,155.85,162.5,155.85,163.35,155.85,165.85,157.5,168.35,157.5,170.85,157.5,173.35,158.35,175,158.35,177.5,158.35,178.35,158.35,180,158.35,180.85,158.35,182.5,158.35,183.35,158.35,185,158.35,185.85,158.35,187.5,158.35,190,158.35,190.85,158.35,193.35,158.35,195,158.35,195.85,158.35,198.35,158.35,200.85,158.35,202.5,158.35,205.85,158.35,207.5,158.35,210,158.35,213.35,158.35,215,158.35,218.35,158.35,220,158.35,220.85,158.35,223.35,158.35,225,158.35,225.85,158.35,228.35,158.35,230,158.35,232.5,158.35,235.85,158.35,237.5,158.35,238.35,158.35,240,158.35,240.85,158.35,242.5,158.35,243.35,158.35,245,158.35,245.85,158.35,248.35,158.35,250,158.35,250.85,158.35,253.35,158.35,255.85,158.35,258.35,158.35,260.85,158.35,262.5,158.35,263.35,158.35,265,158.35,265.85,158.35,270,158.35,270.85,158.35,273.35,158.35,275,158.35,275.85,158.35,277.5,158.35,278.35,158.35,280,158.35,280.85,158.35,282.5,158.35,285,158.35,287.5,158.35,290.85,158.35,293.35,158.35,295.85,158.35,297.5,158.35,298.35,158.35,300.85,158.35,302.5,158.35,305,158.35,307.5,158.35,308.35,158.35,310,158.35,310.85,158.35,313.35,158.35,315.85,158.35,318.35,158.35,320,158.35,320.85,157.5,323.35,157.5,325,157.5,327.5,155.85,330,155.85,330.85,155.85,333.35,155.85,335.85,155.85,337.5,155.85,338.35,155.85,340.85,155.85,342.5,155.85,343.35,155.85,345.85,155.85,348.35,155.85,350,155.85,353.35,155.85,355.85,155.85,358.35,155.85,360.85,155.85,363.35,155.85,365,155.85,365.85,155.85,367.5,155.85,368.35,155.85,370.85,155.85,372.5,155.85,373.35,155.85,375.85,155.85,378.35,155.85,380,155.85,380.85,155.85,383.35,155.85,385.85,155.85,387.5,155.85,388.35,155.85,390.85,155.85,393.35,155.85,397.5,155.85,398.35,155.85,400.85,155.85,402.5,155.85,403.35,155.85,405,155.85,405.85,155.85,408.35,155.85,408.35,157.5,410,157.5,410.85,158.35,412.5,158.35,413.35,158.35,415,158.35,415.85,158.35,418.35,158.35,420,158.35,422.5,158.35,425,157.5,427.5,157.5,428.35,157.5,430.85,155.85,432.5,155.85,433.35,155.85,435,155.85,437.5,155.85,438.35,153.35,440.85,153.35,442.5,153.35,443.35,153.35,445,153.35,445.85,153.35,448.35,153.35,450,153.35,450.85,153.35,452.5,153.35,453.35,153.35,455.85,153.35,457.5,153.35,460.85,153.35,463.35,155,468.35,155,470.85,155.85,475.85,155.85,480.85,157.5,483.35,157.5,483.35,158.35,485,158.35,485.85,158.35,487.5,158.35,488.35,158.35,490,158.35,490.85,158.35,492.5,158.35,495,158.35,495.85,158.35,498.35,158.35,500.85,158.35,503.35,158.35,505.85,158.35,508.35,158.35,510,158.35,512.5,158.35,513.35,158.35,515.85,158.35,517.5,158.35,518.35,158.35,520,158.35,520.85,158.35,522.5,158.35,523.35,158.35,525,157.5,527.5,157.5,528.35,157.5,530.85,155.85,533.35,155.85,535,155.85,535.85,155.85,537.5,155.85,538.35,155.85,540,155.85,540.85,155.85,542.5,155.85,543.35,155,543.35,153.35,545.85,153.35,545.85,150.85,548.35,150,550,148.35,550.85,145.85,550.85,145,550.85,143.35,550.85,140.85,550.85,138.35,550.85,137.5,550.85,135.85,550.85,133.35,550.85,132.5,550.85,130.85,550.85,130,550,130,548.35,128.35,547.5,128.35,545.85,128.35,545.85,127.5,545,127.5,543.35,127.5,543.35,125.85,542.5,125.85,540.85,125.85,540,125.85,538.35,125.85,;3,2,1,138.35,217.5,138.35,218.35,140,220,140.85,220,142.5,220.85,142.5,223.35,143.35,223.35,143.35,225.85,143.35,227.5,143.35,228.35,143.35,230,143.35,230.85,143.35,233.35,143.35,235,143.35,235.85,143.35,237.5,143.35,238.35,143.35,240.85,143.35,242.5,143.35,243.35,143.35,245,143.35,245.85,143.35,248.35,143.35,250,143.35,250.85,143.35,252.5,143.35,253.35,145,253.35,145.85,253.35,148.35,253.35,150,253.35,150.85,253.35,152.5,253.35,153.35,253.35,155,253.35,155.85,253.35,158.35,253.35,160.85,253.35,162.5,253.35,163.35,253.35,165,253.35,165.85,253.35,167.5,253.35,168.35,253.35,170,253.35,172.5,253.35,173.35,253.35,175,253.35,177.5,253.35,178.35,253.35,185.85,253.35,190,253.35,195.85,253.35,198.35,253.35,200,253.35,202.5,253.35,203.35,253.35,205,253.35,207.5,252.5,208.35,252.5,210,252.5,210.85,252.5,212.5,252.5,215,252.5,215.85,252.5,217.5,252.5,218.35,252.5,220,252.5,220.85,252.5,222.5,253.35,225,253.35,225.85,253.35,227.5,253.35,228.35,253.35,230,253.35,230.85,253.35,232.5,253.35,233.35,253.35,238.35,255,240,255,240.85,255,243.35,255,245,255,245.85,255,248.35,255,250.85,255.85,252.5,255.85,253.35,255.85,255.85,255.85,258.35,255.85,262.5,255.85,263.35,255.85,267.5,255.85,270.85,255.85,275.85,255.85,280,255.85,282.5,255.85,283.35,255.85,285,255.85,287.5,255.85,290,255.85,290.85,255.85,292.5,255.85,293.35,255.85,295,255.85,295.85,255.85,298.35,255.85,298.35,255,302.5,253.35,303.35,253.35,305.85,253.35,308.35,253.35,310,253.35,310.85,253.35,313.35,253.35,315,255,315.85,255.85,317.5,255.85,320.85,257.5,322.5,257.5,325.85,257.5,328.35,257.5,330,257.5,330.85,257.5,335,257.5,338.35,258.35,340,258.35,343.35,260.85,350,260.85,353.35,260.85,358.35,260.85,360.85,260.85,363.35,260.85,363.35,262.5,365,262.5,365.85,262.5,367.5,262.5,368.35,262.5,370.85,262.5,372.5,262.5,375,262.5,375.85,262.5,378.35,262.5,380.85,262.5,380.85,260.85,382.5,260.85,383.35,260.85,385,260.85,385.85,260.85,388.35,260.85,390,260.85,390.85,260.85,393.35,258.35,395,258.35,397.5,258.35,398.35,258.35,400.85,258.35,400.85,257.5,403.35,257.5,403.35,255.85,405,255.85,405.85,255.85,407.5,255.85,410,255.85,410.85,255.85,412.5,255.85,413.35,255.85,415,255.85,417.5,255.85,418.35,255.85,420.85,255.85,423.35,255.85,430,255.85,430.85,255.85,433.35,255.85,435.85,255.85,437.5,255.85,438.35,255,440.85,255,443.35,255,445,255,445.85,255,448.35,255,450,255,453.35,255,455.85,255,457.5,255,458.35,255,460,255,460.85,255,463.35,255,465,255,467.5,255,468.35,255,470.85,255,473.35,255.85,475,255.85,475.85,255.85,477.5,255.85,478.35,253.35,478.35,252.5,478.35,250.85,478.35,250,478.35,248.35,478.35,247.5,478.35,245.85,478.35,243.35,478.35,242.5,480,240.85,480,240,480,238.35,480,235.85,480,235,480,232.5,480,230.85,480.85,228.35,480.85,227.5,480.85,225.85,482.5,225,482.5,223.35,482.5,220.85,482.5,220,;3,2,1,195.85,313.35,195.85,315,195.85,315.85,195.85,317.5,195.85,318.35,195.85,320.85,193.35,322.5,193.35,323.35,193.35,325,193.35,325.85,193.35,328.35,193.35,330,193.35,330.85,195.85,333.35,198.35,333.35,200.85,335,203.35,335,208.35,335,212.5,335,215.85,335,220.85,335,222.5,335,225.85,335,228.35,335.85,230.85,335.85,233.35,335.85,235,337.5,235.85,337.5,237.5,337.5,238.35,337.5,240.85,337.5,243.35,337.5,245,337.5,245.85,337.5,248.35,337.5,250,337.5,250.85,335.85,253.35,335.85,255.85,335.85,258.35,335.85,260.85,335.85,262.5,335.85,263.35,335.85,265,335.85,265.85,335.85,267.5,335.85,268.35,335.85,270.85,335.85,275,335.85,275.85,335.85,280,335.85,283.35,335.85,285.85,335.85,288.35,335.85,290.85,335.85,292.5,335.85,295,335.85,295.85,335.85,297.5,335.85,298.35,335.85,300,335.85,300.85,335.85,302.5,335.85,303.35,335.85,305,335.85,305.85,335.85,307.5,335.85,308.35,335.85,310,335.85,310.85,335.85,312.5,335.85,313.35,335.85,315.85,335.85,318.35,335.85,320.85,335.85,323.35,335.85,325.85,335.85,327.5,335.85,328.35,335.85,330,335.85,330.85,335.85,332.5,335.85,333.35,335.85,335,335.85,335.85,335.85,337.5,335.85,338.35,335.85,340.85,335.85,342.5,335.85,345,335.85,345.85,335.85,348.35,335.85,350,335.85,352.5,335.85,353.35,335.85,355,335.85,355.85,335.85,357.5,335.85,360,335.85,363.35,335.85,365,335.85,368.35,335.85,370.85,335.85,372.5,335.85,375,335.85,375.85,335.85,378.35,335.85,380.85,335.85,383.35,335.85,385.85,335.85,388.35,335.85,392.5,335.85,395.85,335,398.35,335,400.85,335,402.5,335,403.35,335,405,335,405.85,335,408.35,335,410,335,410.85,335,413.35,335,413.35,333.35,415,333.35,415.85,333.35,417.5,333.35,418.35,333.35,420,333.35,420,332.5,420.85,332.5,423.35,330.85,423.35,330,423.35,328.35,423.35,327.5,423.35,325.85,423.35,325,423.35,322.5,423.35,320.85,423.35,320,423.35,318.35,423.35,317.5,423.35,315.85,423.35,315,423.35,313.35,423.35,312.5,;3,2,1,258.35,53.35,260.85,53.35,260.85,55,260.85,55.85,260,58.35,260,60,260,62.5,260,63.35,260,65,260,65.85,260,68.35,260,70.85,260,72.5,260,73.35,260,75,260,75.85,260,77.5,260,78.35,260.85,78.35,260.85,80.85,260.85,83.35,260.85,85,260.85,85.85,260.85,87.5,263.35,88.35,263.35,90,263.35,90.85,265,92.5,265.85,93.35,268.35,93.35,270.85,93.35,273.35,93.35,275.85,93.35,277.5,93.35,278.35,93.35,280.85,93.35,282.5,93.35,283.35,93.35,285,93.35,285.85,93.35,288.35,93.35,290,93.35,290.85,93.35,292.5,93.35,295.85,93.35,297.5,93.35,298.35,93.35,300.85,93.35,303.35,93.35,307.5,95.85,308.35,95.85,310.85,95.85,312.5,95.85,313.35,95.85,315,95.85,315.85,95.85,318.35,95.85,320,95.85,320.85,95.85,322.5,95.85,323.35,95.85,325.85,95.85,327.5,95.85,328.35,95.85,330,95.85,330.85,95.85,332.5,95.85,333.35,95.85,335,95.85,335.85,95.85,337.5,95.85,338.35,95.85,340.85,95.85,342.5,95.85,343.35,95.85,345,95.85,345.85,95.85,347.5,95.85,348.35,95.85,350,95.85,350.85,95.85,353.35,95.85,355,95.85,355.85,95,357.5,93.35,358.35,93.35,360,92.5,360.85,90.85,360.85,90,360.85,88.35,360.85,85.85,360.85,85,360.85,83.35,360.85,82.5,360.85,80.85,360.85,78.35,360.85,77.5,360.85,75.85,360.85,75,360.85,73.35,360.85,70.85,360.85,70,360.85,68.35,360.85,67.5,360.85,65.85,360.85,63.35,360.85,62.5,360.85,60.85,362.5,58.35,363.35,58.35,363.35,55.85,363.35,55,363.35,53.35,363.35,52.5,363.35,50.85,362.5,50.85,360.85,50.85,360,50.85,358.35,50.85,357.5,50.85,355.85,50.85,355.85,52.5,353.35,52.5,352.5,52.5,350.85,52.5,350,52.5,348.35,52.5,345.85,52.5,345,52.5,343.35,52.5,342.5,50.85,340.85,50.85,338.35,50.85,337.5,50.85,335.85,50.85,335,50,333.35,48.35,330.85,48.35,330,48.35,327.5,47.5,325.85,47.5,323.35,45.85,320.85,45.85,318.35,45.85,317.5,45.85,315.85,45.85,315,45.85,313.35,45.85,312.5,45.85,312.5,45,310,45,308.35,45,307.5,45,305.85,45,305,45,302.5,45,300.85,45,300,45,298.35,45,295.85,45,295,45,293.35,45,290.85,45,288.35,45,287.5,45,285.85,45,285,45.85,283.35,45.85,282.5,45.85,280.85,45.85,280,45.85,278.35,45.85,275.85,45.85,273.35,45.85,272.5,45.85,270.85,47.5,270.85,48.35,268.35,48.35,267.5,48.35,265.85,48.35,265,50,263.35,50,262.5,50.85,260.85,50.85,260,50.85,258.35,50.85,;\"]],\"feedback\":\"\"}</FreeText></Answer><Answer><QuestionIdentifier>feedback</QuestionIdentifier><FreeText/></Answer></QuestionFormAnswers>'}]\n",
      "3PR3LXCWSFGLENCKGJAIJO6TOCXX9X\n",
      "[]\n",
      "3S8A4GJRD3K6SF5RIX6OBTI6I0HV6H\n",
      "[{'AssignmentId': '392CY0QWG28QD6F7Q4JSOQ4FLKO4IK', 'WorkerId': 'ACUP2HVXGZY46', 'HITId': '3S8A4GJRD3K6SF5RIX6OBTI6I0HV6H', 'AssignmentStatus': 'Approved', 'AutoApprovalTime': datetime.datetime(2019, 2, 1, 15, 10, 1, tzinfo=tzlocal()), 'AcceptTime': datetime.datetime(2019, 1, 25, 15, 0, 6, tzinfo=tzlocal()), 'SubmitTime': datetime.datetime(2019, 1, 25, 15, 10, 1, tzinfo=tzlocal()), 'ApprovalTime': datetime.datetime(2019, 1, 25, 15, 14, 41, tzinfo=tzlocal()), 'Answer': '<?xml version=\"1.0\" encoding=\"ASCII\"?><QuestionFormAnswers xmlns=\"http://mechanicalturk.amazonaws.com/AWSMechanicalTurkDataSchemas/2005-10-01/QuestionFormAnswers.xsd\"><Answer><QuestionIdentifier>workerId</QuestionIdentifier><FreeText>ACUP2HVXGZY46</FreeText></Answer><Answer><QuestionIdentifier>results</QuestionIdentifier><FreeText>{\"inputs\":[],\"outputs\":[[\"600,400,./files/certificates_1_13_MACS70yIlqs.png:3,2,1,250.85,122.5,250.85,123.35,250.85,128.35,250.85,133.35,252.5,138.35,252.5,143.35,253.35,148.35,253.35,150.85,253.35,155.85,253.35,158.35,255,163.35,255,167.5,255.85,173.35,257.5,180.85,258.35,185,258.35,188.35,258.35,193.35,260.85,197.5,260.85,203.35,262.5,210,262.5,215,263.35,217.5,263.35,220.85,265,225,265,227.5,265.85,232.5,265.85,235.85,267.5,238.35,267.5,240,267.5,240.85,267.5,243.35,267.5,247.5,267.5,248.35,267.5,250.85,267.5,255.85,267.5,262.5,265,267.5,260.85,275.85,258.35,280,258.35,283.35,255.85,287.5,255.85,288.35,255.85,290.85,255,292.5,253.35,295.85,252.5,297.5,252.5,298.35,252.5,300,252.5,300.85,255.85,300.85,257.5,300.85,260,300.85,263.35,300.85,270,300.85,273.35,298.35,278.35,298.35,280.85,298.35,285,297.5,287.5,297.5,290.85,297.5,293.35,295.85,303.35,293.35,323.35,290.85,345.85,290.85,350.85,288.35,357.5,288.35,360.85,288.35,365,288.35,370.85,288.35,377.5,288.35,382.5,288.35,388.35,288.35,395.85,288.35,403.35,288.35,415.85,288.35,425,288.35,435,288.35,438.35,288.35,440.85,288.35,442.5,288.35,443.35,288.35,445,288.35,445.85,285.85,447.5,278.35,447.5,275,447.5,272.5,447.5,270.85,448.35,270,452.5,268.35,460.85,265.85,465,265,470.85,263.35,473.35,262.5,477.5,260.85,478.35,260.85,482.5,260.85,483.35,258.35,485.85,258.35,487.5,255.85,487.5,252.5,487.5,247.5,487.5,242.5,487.5,238.35,487.5,233.35,485.85,228.35,485.85,225.85,483.35,223.35,483.35,220.85,482.5,220.85,480.85,220,478.35,220,475,220,468.35,220,460.85,220,455.85,220,445.85,220,442.5,220,438.35,220.85,437.5,220.85,435,220.85,433.35,220.85,430.85,220.85,428.35,220.85,425.85,220.85,423.35,220,422.5,215,420.85,210.85,420.85,203.35,420.85,197.5,420.85,192.5,420.85,188.35,420.85,183.35,420.85,180.85,420.85,178.35,420.85,175,420.85,173.35,422.5,170.85,423.35,170.85,423.35,170,427.5,168.35,430.85,167.5,432.5,165.85,433.35,165.85,437.5,165.85,438.35,165.85,443.35,165.85,445.85,165.85,450,163.35,457.5,162.5,460.85,160.85,465.85,160.85,468.35,160,470,158.35,470.85,158.35,472.5,157.5,472.5,155.85,472.5,155,472.5,152.5,470.85,150.85,470,148.35,467.5,145.85,462.5,143.35,460,140.85,458.35,138.35,457.5,135,457.5,133.35,455.85,128.35,455.85,125.85,455,123.35,455,122.5,455,120.85,455,118.35,455.85,118.35,;\",\"600,464,./files/certificates_1_11_MAB6rLXUI0U.png:\"]],\"feedback\":\"\"}</FreeText></Answer><Answer><QuestionIdentifier>feedback</QuestionIdentifier><FreeText/></Answer></QuestionFormAnswers>'}]\n"
     ]
    },
    {
     "name": "stdout",
     "output_type": "stream",
     "text": [
      "3W3RSPVVGS8OYLJY0B2L4QYKUOXULZ\n",
      "[{'AssignmentId': '373ERPL3YPPNNQXGVSE9AQHYOFNRT6', 'WorkerId': 'ACUP2HVXGZY46', 'HITId': '3W3RSPVVGS8OYLJY0B2L4QYKUOXULZ', 'AssignmentStatus': 'Approved', 'AutoApprovalTime': datetime.datetime(2019, 2, 1, 14, 58, 18, tzinfo=tzlocal()), 'AcceptTime': datetime.datetime(2019, 1, 25, 14, 57, 59, tzinfo=tzlocal()), 'SubmitTime': datetime.datetime(2019, 1, 25, 14, 58, 18, tzinfo=tzlocal()), 'ApprovalTime': datetime.datetime(2019, 1, 25, 15, 14, 42, tzinfo=tzlocal()), 'Answer': '<?xml version=\"1.0\" encoding=\"ASCII\"?><QuestionFormAnswers xmlns=\"http://mechanicalturk.amazonaws.com/AWSMechanicalTurkDataSchemas/2005-10-01/QuestionFormAnswers.xsd\"><Answer><QuestionIdentifier>workerId</QuestionIdentifier><FreeText>ACUP2HVXGZY46</FreeText></Answer><Answer><QuestionIdentifier>results</QuestionIdentifier><FreeText>{\"inputs\":[],\"outputs\":[[\"240,600,./files/infographics_1_0_free.png:3,2,1,320.85,380.85,;\",\"464,600,./files/magazine-covers_14_31_free.png:\",\"377,600,./files/magazine-covers_14_32_free.png:\"]],\"feedback\":\"\"}</FreeText></Answer><Answer><QuestionIdentifier>feedback</QuestionIdentifier><FreeText/></Answer></QuestionFormAnswers>'}]\n",
      "3DFYDSXB2WHI3VVYXQQ8OBLSQZSJUM\n",
      "[]\n",
      "3CMV9YRYP3IFK584OCY7XOP9D8ZJLS\n",
      "[{'AssignmentId': '34BBWHLWHBS2M8YR0APBJIN65DMWIX', 'WorkerId': 'ACUP2HVXGZY46', 'HITId': '3CMV9YRYP3IFK584OCY7XOP9D8ZJLS', 'AssignmentStatus': 'Approved', 'AutoApprovalTime': datetime.datetime(2019, 2, 1, 14, 32, 57, tzinfo=tzlocal()), 'AcceptTime': datetime.datetime(2019, 1, 25, 14, 32, 9, tzinfo=tzlocal()), 'SubmitTime': datetime.datetime(2019, 1, 25, 14, 32, 57, tzinfo=tzlocal()), 'ApprovalTime': datetime.datetime(2019, 1, 25, 15, 14, 42, tzinfo=tzlocal()), 'Answer': '<?xml version=\"1.0\" encoding=\"ASCII\"?><QuestionFormAnswers xmlns=\"http://mechanicalturk.amazonaws.com/AWSMechanicalTurkDataSchemas/2005-10-01/QuestionFormAnswers.xsd\"><Answer><QuestionIdentifier>workerId</QuestionIdentifier><FreeText>ACUP2HVXGZY46</FreeText></Answer><Answer><QuestionIdentifier>results</QuestionIdentifier><FreeText>{\"inputs\":[],\"outputs\":[[\"240,600,./files/infographics_1_0_free.png:3,2,1,120.85,23.35,120.85,25,118.35,27.5,118.35,28.35,118.35,30,118.35,30.85,115.85,32.5,115.85,33.35,115.85,35,115.85,35.85,115.85,37.5,113.35,38.35,113.35,40,113.35,40.85,110.85,43.35,110.85,45,110.85,45.85,110.85,47.5,110.85,48.35,110.85,50,110.85,50.85,110.85,52.5,110.85,53.35,110.85,55.85,113.35,58.35,115.85,58.35,118.35,60,120.85,60.85,123.35,60.85,125.85,62.5,128.35,63.35,130.85,63.35,133.35,63.35,135.85,63.35,138.35,63.35,140.85,63.35,140.85,62.5,143.35,60.85,143.35,58.35,145.85,55.85,145.85,53.35,145.85,52.5,148.35,50,148.35,47.5,148.35,43.35,148.35,42.5,148.35,40.85,148.35,38.35,148.35,35.85,148.35,35,148.35,33.35,145.85,33.35,143.35,32.5,140.85,30.85,138.35,30.85,135.85,30.85,133.35,30.85,130.85,30.85,128.35,30.85,;3,2,1,30.85,83.35,33.35,83.35,40.85,85,48.35,85.85,55.85,87.5,63.35,88.35,70.85,90,75.85,90,80.85,90,85.85,90,88.35,90,90.85,90,93.35,90,98.35,90,100.85,90,103.35,90,110.85,90,120.85,90,125.85,90,135.85,90,140.85,90,145.85,90,150.85,90,153.35,90,158.35,90,163.35,90,165.85,90,170.85,90,173.35,90,178.35,90,180.85,90,183.35,90,185.85,90,188.35,90,193.35,90,195.85,90,200.85,90,203.35,90,205.85,90,208.35,90,210.85,90,213.35,90,215.85,90,215.85,90.85,218.35,90.85,220.85,90.85,223.35,90.85,223.35,92.5,223.35,93.35,223.35,95.85,223.35,97.5,223.35,98.35,223.35,100,223.35,100.85,223.35,102.5,223.35,103.35,220.85,103.35,218.35,105,215.85,105.85,213.35,105.85,210.85,105.85,208.35,105.85,205.85,108.35,200.85,108.35,193.35,108.35,183.35,108.35,173.35,108.35,168.35,108.35,160.85,108.35,158.35,108.35,153.35,108.35,148.35,110,145.85,110,140.85,110,135.85,110,130.85,110,123.35,110,113.35,110,105.85,110,103.35,110,100.85,110.85,98.35,110.85,95.85,110.85,93.35,110.85,88.35,110.85,83.35,110.85,78.35,110.85,75.85,110.85,73.35,110.85,68.35,110.85,65.85,110.85,63.35,110.85,60.85,110.85,55.85,110.85,53.35,110.85,48.35,110.85,45.85,110.85,43.35,110.85,40.85,110.85,35.85,110.85,33.35,110.85,30.85,110,30.85,108.35,28.35,108.35,28.35,107.5,;\",\"464,600,./files/magazine-covers_14_31_free.png:3,2,1,48.35,73.35,48.35,77.5,48.35,80.85,48.35,88.35,48.35,93.35,48.35,100.85,48.35,108.35,48.35,115.85,48.35,120.85,48.35,125.85,48.35,133.35,48.35,138.35,48.35,145.85,48.35,150.85,48.35,153.35,48.35,157.5,48.35,160.85,48.35,163.35,48.35,168.35,48.35,172.5,45.85,175.85,45.85,177.5,45.85,180,45.85,182.5,45.85,183.35,45.85,188.35,45.85,190.85,45.85,192.5,45.85,193.35,45.85,195,45.85,195.85,45.85,198.35,45.85,200.85,48.35,200.85,50.85,203.35,53.35,203.35,55.85,203.35,58.35,203.35,63.35,203.35,65.85,203.35,70.85,203.35,78.35,203.35,83.35,203.35,83.35,205,88.35,205,90.85,205,93.35,205,95.85,205,100.85,205,113.35,205,123.35,205,133.35,205,143.35,205,148.35,205,153.35,205,158.35,205,160.85,205,165.85,205,170.85,205,178.35,205,193.35,205,203.35,205,210.85,205,218.35,205,230.85,205,238.35,205,240.85,205,245.85,205,250.85,205,255.85,205,260.85,205,263.35,205,265.85,205,270.85,205,273.35,205,275.85,205,278.35,205,283.35,203.35,288.35,203.35,295.85,203.35,305.85,203.35,313.35,202.5,320.85,200.85,325.85,200.85,330.85,200.85,335.85,200,338.35,198.35,343.35,198.35,345.85,197.5,350.85,195.85,355.85,195.85,360.85,195.85,363.35,195.85,368.35,193.35,370.85,193.35,373.35,193.35,375.85,193.35,378.35,193.35,380.85,193.35,383.35,192.5,388.35,192.5,390.85,190.85,393.35,190.85,393.35,190,395.85,190,398.35,188.35,400.85,188.35,403.35,188.35,405.85,187.5,408.35,187.5,408.35,185.85,410.85,185.85,415.85,185,415.85,183.35,418.35,183.35,420.85,180.85,423.35,180.85,425.85,180,428.35,180,428.35,178.35,430.85,178.35,433.35,178.35,433.35,177.5,435.85,175.85,438.35,175.85,438.35,175,440.85,173.35,443.35,173.35,445.85,173.35,445.85,172.5,445.85,170.85,448.35,170.85,448.35,168.35,450.85,165.85,450.85,163.35,450.85,162.5,450.85,160.85,450.85,160,450.85,158.35,450.85,155,450.85,150.85,450.85,147.5,448.35,145.85,448.35,143.35,448.35,140,448.35,135.85,448.35,135,445.85,135,445.85,133.35,445.85,130.85,445.85,130,443.35,128.35,443.35,127.5,443.35,125.85,443.35,123.35,443.35,120.85,443.35,117.5,443.35,115.85,443.35,113.35,443.35,110.85,443.35,110,443.35,108.35,443.35,105,443.35,100.85,443.35,98.35,443.35,93.35,443.35,90.85,443.35,88.35,443.35,85.85,443.35,83.35,443.35,80.85,443.35,78.35,443.35,75.85,443.35,72.5,443.35,70.85,443.35,67.5,443.35,65.85,443.35,63.35,443.35,62.5,443.35,60.85,443.35,58.35,440.85,58.35,440.85,55.85,440.85,55,440.85,53.35,440.85,50.85,443.35,50,443.35,48.35,443.35,47.5,;\",\"377,600,./files/magazine-covers_14_32_free.png:3,2,1,93.35,235.85,93.35,237.5,93.35,238.35,93.35,245.85,100.85,255,100.85,258.35,103.35,270.85,103.35,278.35,105.85,285.85,108.35,293.35,108.35,300,108.35,307.5,110.85,315.85,113.35,323.35,113.35,330.85,113.35,337.5,113.35,345,113.35,350,115.85,355.85,115.85,360.85,115.85,365.85,118.35,368.35,118.35,370.85,118.35,373.35,118.35,375.85,118.35,377.5,118.35,378.35,120.85,378.35,123.35,378.35,130.85,377.5,135.85,375.85,145.85,373.35,148.35,373.35,153.35,372.5,163.35,372.5,188.35,372.5,205.85,372.5,225.85,372.5,248.35,372.5,253.35,372.5,258.35,372.5,260.85,372.5,265.85,372.5,270.85,372.5,273.35,372.5,275.85,372.5,280.85,370.85,283.35,370.85,285.85,370.85,288.35,370.85,290.85,370.85,295.85,370.85,298.35,370.85,300.85,370.85,300.85,367.5,303.35,360,303.35,352.5,305.85,340.85,308.35,330,310.85,322.5,313.35,315,313.35,305.85,313.35,298.35,310.85,292.5,308.35,285.85,308.35,278.35,303.35,273.35,300.85,265,295.85,255.85,295.85,253.35,295.85,250.85,293.35,250,293.35,247.5,293.35,245.85,293.35,243.35,293.35,242.5,;\"]],\"feedback\":\"\"}</FreeText></Answer><Answer><QuestionIdentifier>feedback</QuestionIdentifier><FreeText/></Answer></QuestionFormAnswers>'}]\n",
      "3LG268AV38NICNHPFVKCMKLGD5MERB\n",
      "[]\n",
      "3M67TQBQQH59IA4R59I4ZGVVM4IA9P\n",
      "[]\n",
      "3126F2F5F8KX0A1A23GNHPL1CNYEPJ\n",
      "[]\n",
      "34OWYT6U3WYOOSNPHXAHGEJEZ5CI9C\n",
      "[]\n"
     ]
    },
    {
     "data": {
      "text/plain": [
       "4"
      ]
     },
     "execution_count": 36,
     "metadata": {},
     "output_type": "execute_result"
    }
   ],
   "source": [
    "responses = get_assignment_content(hits, download_path='responses.json', should_print=False)\n",
    "len(responses)"
   ]
  },
  {
   "cell_type": "code",
   "execution_count": null,
   "metadata": {},
   "outputs": [],
   "source": []
  }
 ],
 "metadata": {
  "kernelspec": {
   "display_name": "Python 3",
   "language": "python",
   "name": "python3"
  },
  "language_info": {
   "codemirror_mode": {
    "name": "ipython",
    "version": 3
   },
   "file_extension": ".py",
   "mimetype": "text/x-python",
   "name": "python",
   "nbconvert_exporter": "python",
   "pygments_lexer": "ipython3",
   "version": "3.6.6"
  }
 },
 "nbformat": 4,
 "nbformat_minor": 2
}
