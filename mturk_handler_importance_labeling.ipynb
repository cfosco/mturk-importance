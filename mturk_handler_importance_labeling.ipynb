{
 "cells": [
  {
   "cell_type": "markdown",
   "metadata": {},
   "source": [
    "# Setup"
   ]
  },
  {
   "cell_type": "code",
   "execution_count": 2,
   "metadata": {},
   "outputs": [],
   "source": [
    "# path to the config file (see example). \n",
    "# will work with a config file for https://github.com/kimberli/mturk-template, \n",
    "# but a minimal example is included.\n",
    "# Also supports an additional feature, the \"variants\" key, which is a list of dictionaries. \n",
    "# If \"variants\" is specified, for each dictionary it contains, those keys will be meshed with the \"hitCreation\"\n",
    "# key and one task will be made per variant. Else, config[\"hitCreation\"][\"numTasks\"] versions of the same\n",
    "# task will be launched. \n",
    "CONFIG_PATH = \"./config.json\"\n",
    "\n",
    "# where to save downloaded results \n",
    "SAVE_PATH = \"./result.csv\" "
   ]
  },
  {
   "cell_type": "code",
   "execution_count": 3,
   "metadata": {},
   "outputs": [
    {
     "name": "stdout",
     "output_type": "stream",
     "text": [
      "USING SANDBOX\n",
      "TASK URL: https://cfosco.github.io/mturk-importance/?url=fold1.txt\n"
     ]
    }
   ],
   "source": [
    "from boto3 import client\n",
    "import json\n",
    "import copy\n",
    "\n",
    "_USING_PROD = None\n",
    "\n",
    "with open(CONFIG_PATH, 'r') as f:\n",
    "    config = json.loads(f.read())\n",
    "    hit_config = config['hitCreation']\n",
    "\n",
    "if hit_config['production']:\n",
    "    print(\"USING PROD\")\n",
    "    _USING_PROD = True\n",
    "    endpoint_url = 'https://mturk-requester.us-east-1.amazonaws.com'\n",
    "else:\n",
    "    print(\"USING SANDBOX\")\n",
    "    _USING_PROD = False\n",
    "    endpoint_url = 'https://mturk-requester-sandbox.us-east-1.amazonaws.com'\n",
    "        \n",
    "cl = client('mturk', region_name='us-east-1', endpoint_url=endpoint_url)\n",
    "\n",
    "print(\"TASK URL: \" + hit_config['taskUrl'])\n"
   ]
  },
  {
   "cell_type": "markdown",
   "metadata": {},
   "source": [
    "# Make new HIT"
   ]
  },
  {
   "cell_type": "code",
   "execution_count": 8,
   "metadata": {},
   "outputs": [],
   "source": [
    "# Safety flags that prevent you from accidentally messing up your HITs. \n",
    "# Set to False except when you are performing these specific tasks. \n",
    "ALLOW_HIT_CREATION = True\n",
    "ALLOW_ASSIGNMENT_ADDITION = False\n",
    "ALLOW_CREATE_QUAL = False\n",
    "ALLOW_UPDATE_EXPIRATION = False"
   ]
  },
  {
   "cell_type": "code",
   "execution_count": 9,
   "metadata": {},
   "outputs": [],
   "source": [
    "# List of qualifications that you will use to filter potential workers. \n",
    "# These require that workers come from the US and have an approval rating >= 95%\n",
    "QUALS = [\n",
    "       {\n",
    "           'QualificationTypeId': '00000000000000000071',\n",
    "           'Comparator': 'EqualTo',\n",
    "           'LocaleValues': [{\n",
    "               'Country': 'US',\n",
    "           }],\n",
    "       },\n",
    "        \n",
    "       {\n",
    "           'QualificationTypeId': '000000000000000000L0',\n",
    "           'Comparator': 'GreaterThanOrEqualTo',\n",
    "           'IntegerValues': [\n",
    "               95\n",
    "           ],\n",
    "       },\n",
    "    ]"
   ]
  },
  {
   "cell_type": "code",
   "execution_count": 12,
   "metadata": {},
   "outputs": [],
   "source": [
    "# creates a HIT in the form of an External Question inside an iFrame\n",
    "def create_hit(task):\n",
    "    questionText = \"<ExternalQuestion xmlns=\\\"http://mechanicalturk.amazonaws.com/AWSMechanicalTurkDataSchemas/\"\n",
    "    questionText += \"2006-07-14/ExternalQuestion.xsd\\\">\\n<ExternalURL>\" + task['taskUrl']\n",
    "    questionText += \"</ExternalURL>\\n  <FrameHeight>700</FrameHeight>\\n</ExternalQuestion>\"\n",
    "\n",
    "    response = cl.create_hit(\n",
    "        MaxAssignments=task['numAssignments'],\n",
    "        AutoApprovalDelayInSeconds=604800,\n",
    "        LifetimeInSeconds=task['lifetime'],\n",
    "        AssignmentDurationInSeconds=task['duration'],\n",
    "        Reward=task['rewardAmount'],\n",
    "        Title=task['title'],\n",
    "        Keywords=task['keywords'],\n",
    "        Description=task['description'],\n",
    "        Question=questionText,\n",
    "        QualificationRequirements=QUALS,\n",
    "    )\n",
    "\n",
    "    print(response)\n",
    "    print(\"\\n\")"
   ]
  },
  {
   "cell_type": "code",
   "execution_count": 15,
   "metadata": {},
   "outputs": [
    {
     "name": "stdout",
     "output_type": "stream",
     "text": [
      "creating 1 tasks\n",
      "{'HIT': {'HITId': '3PR3LXCWSFGLENCKGJAIJO6TOCXX9X', 'HITTypeId': '33VSRLCQV1I71CR6MVQQ5U0SMIPXC7', 'HITGroupId': '3GBCJUK5C2I2RARWHU21Q3KS7CZPKT', 'CreationTime': datetime.datetime(2019, 1, 25, 15, 0, 55, tzinfo=tzlocal()), 'Title': 'Importance labeling', 'Description': 'Highlight the important parts of an image.', 'Question': '<ExternalQuestion xmlns=\"http://mechanicalturk.amazonaws.com/AWSMechanicalTurkDataSchemas/2006-07-14/ExternalQuestion.xsd\">\\n<ExternalURL>https://cfosco.github.io/mturk-importance/?url=fold1.txt</ExternalURL>\\n  <FrameHeight>700</FrameHeight>\\n</ExternalQuestion>', 'Keywords': 'labeling, importance, highlighting', 'HITStatus': 'Assignable', 'MaxAssignments': 2000, 'Reward': '0.00', 'AutoApprovalDelayInSeconds': 604800, 'Expiration': datetime.datetime(2019, 1, 26, 15, 0, 55, tzinfo=tzlocal()), 'AssignmentDurationInSeconds': 1200, 'QualificationRequirements': [{'QualificationTypeId': '00000000000000000071', 'Comparator': 'EqualTo', 'LocaleValues': [{'Country': 'US'}], 'RequiredToPreview': False, 'ActionsGuarded': 'Accept'}, {'QualificationTypeId': '000000000000000000L0', 'Comparator': 'GreaterThanOrEqualTo', 'IntegerValues': [95], 'RequiredToPreview': False, 'ActionsGuarded': 'Accept'}], 'HITReviewStatus': 'NotReviewed', 'NumberOfAssignmentsPending': 0, 'NumberOfAssignmentsAvailable': 2000, 'NumberOfAssignmentsCompleted': 0}, 'ResponseMetadata': {'RequestId': 'bfb0766a-633b-4fa0-9935-a57ec1d796f6', 'HTTPStatusCode': 200, 'HTTPHeaders': {'x-amzn-requestid': 'bfb0766a-633b-4fa0-9935-a57ec1d796f6', 'content-type': 'application/x-amz-json-1.1', 'content-length': '1221', 'date': 'Fri, 25 Jan 2019 20:00:55 GMT'}, 'RetryAttempts': 0}}\n",
      "\n",
      "\n"
     ]
    }
   ],
   "source": [
    "if ALLOW_HIT_CREATION: \n",
    "    if config.get('variants', None): \n",
    "        print(\"creating \" + str(len(config['variants'])) + \" variants\")\n",
    "        for var in config['variants']: \n",
    "            task = copy.deepcopy(config)\n",
    "            task.update(var)\n",
    "            create_hit(task)\n",
    "    else: \n",
    "      print(\"creating \" + str(hit_config['numTasks']) + \" tasks\")\n",
    "      for i in range(hit_config['numTasks']):\n",
    "          create_hit(hit_config)"
   ]
  },
  {
   "cell_type": "markdown",
   "metadata": {},
   "source": [
    "# HIT monitoring helpers"
   ]
  },
  {
   "cell_type": "code",
   "execution_count": 7,
   "metadata": {},
   "outputs": [],
   "source": [
    "MAX_RESULTS = 10 # set equal to the number of outstanding hits you have \n",
    "\n",
    "hits = cl.list_hits(MaxResults=MAX_RESULTS)['HITs']"
   ]
  },
  {
   "cell_type": "code",
   "execution_count": 8,
   "metadata": {},
   "outputs": [],
   "source": [
    "# Gets all assignments created for a HIT\n",
    "def get_all_assignments(hitid): \n",
    "    assignments = []\n",
    "    should_continue = True\n",
    "    next_token = False\n",
    "    while (should_continue): \n",
    "        args = {\n",
    "            'HITId': hitid, \n",
    "            'MaxResults': 100\n",
    "        }\n",
    "        if (next_token): \n",
    "            args['NextToken'] = next_token\n",
    "        r = cl.list_assignments_for_hit(**args)\n",
    "        next_token = r.get('NextToken', False)\n",
    "        assignments.extend(r[\"Assignments\"])\n",
    "        should_continue = len(r[\"Assignments\"]) > 0\n",
    "    return assignments"
   ]
  },
  {
   "cell_type": "code",
   "execution_count": 26,
   "metadata": {},
   "outputs": [],
   "source": [
    "import datetime\n",
    "\n",
    "# Summarizes all hits in `hits` in a human-readable way \n",
    "def summarize_hits(hits): \n",
    "    print(len(hits))\n",
    "    ret = \"\"\n",
    "    for hit in hits: \n",
    "        expiration = hit['Expiration'].replace(tzinfo=None)\n",
    "        is_expired = expiration < datetime.datetime.now()\n",
    "        description = (\"Title: {title}\\n\" \n",
    "        \"ID: {hid}\\n\"\n",
    "        \"\\tAssignments left: {left}\\n\"\n",
    "        \"\\tAssignments completed: {complete}\\n\"\n",
    "        \"\\tAssignments pending: {pending}\\n\"\n",
    "        \"\\tExpired: {exp}\\n\\n\").format(\n",
    "            title=hit['Title'], \n",
    "            hid=hit['HITId'], \n",
    "            left=hit['NumberOfAssignmentsAvailable'], \n",
    "            complete=hit['NumberOfAssignmentsCompleted'], \n",
    "            pending=hit['NumberOfAssignmentsPending'],\n",
    "            exp=str(is_expired)\n",
    "        )\n",
    "        ret += description\n",
    "    print(ret)"
   ]
  },
  {
   "cell_type": "code",
   "execution_count": 27,
   "metadata": {},
   "outputs": [],
   "source": [
    "# Summarizes all pending/submitted/approved assignments for all hits in `hits`\n",
    "def summarize_assignments(hits):\n",
    "    ret = \"\"\n",
    "    for hit in hits: \n",
    "        hid = hit['HITId']\n",
    "        title =  hit['Title']\n",
    "        name = \"HIT %s: %s\" % (hid, title)\n",
    "        ret += name + \"\\n\"\n",
    "        assignments = get_all_assignments(hid)\n",
    "        for a in assignments: \n",
    "            desc = \"\\tAssignment {aid}\\n\\t\\tStatus: {status}\\n\".format(aid=a['AssignmentId'], status=a['AssignmentStatus'])\n",
    "            ret += desc\n",
    "    print(ret)"
   ]
  },
  {
   "cell_type": "code",
   "execution_count": 28,
   "metadata": {},
   "outputs": [],
   "source": [
    "def refresh_hits(): \n",
    "    global hits \n",
    "    global MAX_RESULTS\n",
    "    hits = cl.list_hits(MaxResults=MAX_RESULTS)['HITs']"
   ]
  },
  {
   "cell_type": "markdown",
   "metadata": {},
   "source": [
    "# HIT monitoring"
   ]
  },
  {
   "cell_type": "code",
   "execution_count": 29,
   "metadata": {},
   "outputs": [],
   "source": [
    "refresh_hits()\n",
    "pass"
   ]
  },
  {
   "cell_type": "code",
   "execution_count": 30,
   "metadata": {},
   "outputs": [
    {
     "name": "stdout",
     "output_type": "stream",
     "text": [
      "10\n",
      "Title: Importance labeling\n",
      "ID: 34OWYT6U3WYOOSNPHXAHGEJEZ5CI9C\n",
      "\tAssignments left: 2000\n",
      "\tAssignments completed: 0\n",
      "\tAssignments pending: 0\n",
      "\tExpired: False\n",
      "\n",
      "Title: Importance labeling\n",
      "ID: 3WGCNLZJKFPPRC48L6UDABLI9M91D9\n",
      "\tAssignments left: 1999\n",
      "\tAssignments completed: 0\n",
      "\tAssignments pending: 0\n",
      "\tExpired: True\n",
      "\n",
      "Title: Marking important regions in a graphic design\n",
      "ID: 3W1K7D6QSBYT7BRWFLCZ7FHUJG9ZBO\n",
      "\tAssignments left: 10\n",
      "\tAssignments completed: 0\n",
      "\tAssignments pending: 0\n",
      "\tExpired: False\n",
      "\n",
      "Title: Marking important regions in a graphic design\n",
      "ID: 32TZXEA1OL1CRGLFSVTK77RCW9G14W\n",
      "\tAssignments left: 10\n",
      "\tAssignments completed: 0\n",
      "\tAssignments pending: 0\n",
      "\tExpired: False\n",
      "\n",
      "Title: Marking important regions in a graphic design\n",
      "ID: 3WUVMVA7OBKOO1M497C3C4XO1YOZAT\n",
      "\tAssignments left: 9\n",
      "\tAssignments completed: 0\n",
      "\tAssignments pending: 0\n",
      "\tExpired: False\n",
      "\n",
      "Title: Marking important regions in a graphic design\n",
      "ID: 31KSVEGZ349CTN3G0VEI8QSGK08WR8\n",
      "\tAssignments left: 9\n",
      "\tAssignments completed: 0\n",
      "\tAssignments pending: 0\n",
      "\tExpired: False\n",
      "\n",
      "Title: Marking important regions in a graphic design\n",
      "ID: 3IZVJEBJ6A1N1ZA1JUVRWZV25FYZ63\n",
      "\tAssignments left: 10\n",
      "\tAssignments completed: 0\n",
      "\tAssignments pending: 0\n",
      "\tExpired: False\n",
      "\n",
      "Title: Marking important regions in a graphic design\n",
      "ID: 3WRKFXQBOBO3PTVXP92XFVC58COYI4\n",
      "\tAssignments left: 9\n",
      "\tAssignments completed: 0\n",
      "\tAssignments pending: 0\n",
      "\tExpired: False\n",
      "\n",
      "Title: Marking important regions in a graphic design\n",
      "ID: 3KG2UQJ0MJ5MUSF2VFYV7H5KV21NQ6\n",
      "\tAssignments left: 9\n",
      "\tAssignments completed: 0\n",
      "\tAssignments pending: 0\n",
      "\tExpired: False\n",
      "\n",
      "Title: Marking important regions in a graphic design\n",
      "ID: 3MVY4USGB646T7JOQ3A8X9O4RRSSIK\n",
      "\tAssignments left: 10\n",
      "\tAssignments completed: 0\n",
      "\tAssignments pending: 0\n",
      "\tExpired: False\n",
      "\n",
      "\n"
     ]
    }
   ],
   "source": [
    "refresh_hits()\n",
    "\n",
    "summarize_hits(hits)"
   ]
  },
  {
   "cell_type": "code",
   "execution_count": 31,
   "metadata": {},
   "outputs": [
    {
     "name": "stdout",
     "output_type": "stream",
     "text": [
      "HIT 34OWYT6U3WYOOSNPHXAHGEJEZ5CI9C: Importance labeling\n",
      "HIT 3WGCNLZJKFPPRC48L6UDABLI9M91D9: Importance labeling\n",
      "\tAssignment 3NPI0JQDAPM2BDH1I0AK5VHJNRFPTG\n",
      "\t\tStatus: Submitted\n",
      "HIT 3W1K7D6QSBYT7BRWFLCZ7FHUJG9ZBO: Marking important regions in a graphic design\n",
      "HIT 32TZXEA1OL1CRGLFSVTK77RCW9G14W: Marking important regions in a graphic design\n",
      "HIT 3WUVMVA7OBKOO1M497C3C4XO1YOZAT: Marking important regions in a graphic design\n",
      "\tAssignment 37UQDCYH6YCSIZHQR9GI6REJKI97VR\n",
      "\t\tStatus: Submitted\n",
      "HIT 31KSVEGZ349CTN3G0VEI8QSGK08WR8: Marking important regions in a graphic design\n",
      "\tAssignment 32KTQ2V7REWD6VBASEDBXRMCOFL9MO\n",
      "\t\tStatus: Submitted\n",
      "HIT 3IZVJEBJ6A1N1ZA1JUVRWZV25FYZ63: Marking important regions in a graphic design\n",
      "HIT 3WRKFXQBOBO3PTVXP92XFVC58COYI4: Marking important regions in a graphic design\n",
      "\tAssignment 3KGTPGBS6Y2LJJVKG7PIEEVSVUTU2M\n",
      "\t\tStatus: Submitted\n",
      "HIT 3KG2UQJ0MJ5MUSF2VFYV7H5KV21NQ6: Marking important regions in a graphic design\n",
      "\tAssignment 31IBVUNM9TG5XSWW9SEUUJR0I68FVJ\n",
      "\t\tStatus: Submitted\n",
      "HIT 3MVY4USGB646T7JOQ3A8X9O4RRSSIK: Marking important regions in a graphic design\n",
      "\n"
     ]
    }
   ],
   "source": [
    "refresh_hits()\n",
    "summarize_assignments(hits)\n",
    "pass"
   ]
  },
  {
   "cell_type": "markdown",
   "metadata": {},
   "source": [
    "# Approve HITs"
   ]
  },
  {
   "cell_type": "code",
   "execution_count": 32,
   "metadata": {},
   "outputs": [],
   "source": [
    "# Approves all outstanding hits created for the HITs in hits \n",
    "def approve_all(hits): \n",
    "    num_approved = 0\n",
    "    for hit in hits: \n",
    "        # make sure you keep getting assignments \n",
    "        assignments = get_all_assignments(hit[\"HITId\"])\n",
    "        #print(assignments)\n",
    "        for a in assignments: \n",
    "            if a['AssignmentStatus'] != 'Approved':\n",
    "                print(\"Approving assignment\")\n",
    "                num_approved += 1\n",
    "                cl.approve_assignment(AssignmentId=a['AssignmentId'])\n",
    "    print(\"Approved %d assignments\" % num_approved)"
   ]
  },
  {
   "cell_type": "code",
   "execution_count": 33,
   "metadata": {
    "scrolled": true
   },
   "outputs": [
    {
     "name": "stdout",
     "output_type": "stream",
     "text": [
      "Approving assignment\n",
      "Approving assignment\n",
      "Approving assignment\n",
      "Approving assignment\n",
      "Approving assignment\n",
      "Approved 5 assignments\n"
     ]
    }
   ],
   "source": [
    "refresh_hits()\n",
    "approve_all(hits)"
   ]
  },
  {
   "cell_type": "markdown",
   "metadata": {},
   "source": [
    "# Update expiration or num tasks"
   ]
  },
  {
   "cell_type": "code",
   "execution_count": 34,
   "metadata": {},
   "outputs": [],
   "source": [
    "import datetime \n",
    "\n",
    "# changes the expiration date on a HIT to days_from_now days in the future\n",
    "def update_expiration(hitid, days_from_now): \n",
    "    if ALLOW_UPDATE_EXPIRATION: \n",
    "        days = days_from_now*datetime.timedelta(days=1)\n",
    "        expire_time = datetime.datetime.now() + days\n",
    "\n",
    "        response = cl.update_expiration_for_hit(HITId=hitid, ExpireAt=expire_time)\n",
    "        print(response)\n",
    "        return response\n",
    "    else: \n",
    "        raise RuntimeException(\"This action is not currently enabled; set `ALLOW_UPDATE_EXPIRATION` to true to proceed with this action\")\n",
    "    \n",
    "def expire_hit(hit): \n",
    "    return update_expiration(hit, -10)"
   ]
  },
  {
   "cell_type": "code",
   "execution_count": 35,
   "metadata": {},
   "outputs": [],
   "source": [
    "def add_assignments(hitid, num_assignments): \n",
    "    if ALLOW_ASSIGNMENT_ADDITION: \n",
    "        response = cl.create_additional_assignments_for_hit(\n",
    "            HITId=hitid,\n",
    "            NumberOfAdditionalAssignments=num_assignments\n",
    "        )\n",
    "        print(response)\n",
    "        return response\n",
    "    else: \n",
    "        raise RuntimException(\"This action is not currently enabled; set `ALLOW_ASSIGNMENT_ADDITION` to true to proceed with this action\")"
   ]
  },
  {
   "cell_type": "markdown",
   "metadata": {},
   "source": [
    "# Add custom qualifications "
   ]
  },
  {
   "cell_type": "markdown",
   "metadata": {},
   "source": [
    "## Add a qualification to disqualify workers who have done work before\n",
    "\n",
    "- uses \"negative qualification\" method from https://github.com/cloudyr/MturkR/wiki/qualifications-as-blocks\n",
    "\n",
    "### NOTE: quals are kept separate for the sandbox and prod. Make sure you are creating and assigning your quals in prod. "
   ]
  },
  {
   "cell_type": "code",
   "execution_count": 36,
   "metadata": {},
   "outputs": [],
   "source": [
    "# structure of a new qualification \n",
    "NEW_QUAL = {\n",
    "    'Name': 'qualName',\n",
    "    'Keywords': 'Keywords for qual',\n",
    "    'Description': 'What is this qual, and why are you assigning it?',\n",
    "    'QualificationTypeStatus': 'Active',\n",
    "    'AutoGranted': False\n",
    "}"
   ]
  },
  {
   "cell_type": "code",
   "execution_count": 37,
   "metadata": {},
   "outputs": [],
   "source": [
    "def create_qual(new_qual):\n",
    "    if ALLOW_CREATE_QUAL: \n",
    "        response = cl.create_qualification_type(**new_qual)\n",
    "        print(response)\n",
    "        Id = response['QualificationTypeId']\n",
    "        print(\"id\", Id)\n",
    "        return Id\n",
    "    else: \n",
    "        raise RuntimException(\"This action is not currently enabled; set `ALLOW_CREATE_QUAL` to true to proceed with this action\")"
   ]
  },
  {
   "cell_type": "code",
   "execution_count": 38,
   "metadata": {},
   "outputs": [
    {
     "name": "stdout",
     "output_type": "stream",
     "text": [
      "{'NumResults': 0, 'QualificationTypes': [], 'ResponseMetadata': {'RequestId': '4ff9cff9-32f4-49b2-b79a-0137726813e0', 'HTTPStatusCode': 200, 'HTTPHeaders': {'x-amzn-requestid': '4ff9cff9-32f4-49b2-b79a-0137726813e0', 'content-type': 'application/x-amz-json-1.1', 'content-length': '40', 'date': 'Tue, 27 Nov 2018 21:11:39 GMT'}, 'RetryAttempts': 0}}\n"
     ]
    }
   ],
   "source": [
    "# Gets all the custom quals you have created. \n",
    "def list_quals(): \n",
    "    response = cl.list_qualification_types(\n",
    "            Query='hasCompletedVisualGraphRecallTask',\n",
    "            MustBeRequestable=False\n",
    "    )\n",
    "    print(response)\n",
    "\n",
    "list_quals()"
   ]
  },
  {
   "cell_type": "code",
   "execution_count": 39,
   "metadata": {},
   "outputs": [],
   "source": [
    "def assign_qual(qual_id, worker_ids): \n",
    "    for worker in worker_ids: \n",
    "        response = cl.associate_qualification_with_worker(\n",
    "                QualificationTypeId=qual_id, \n",
    "                WorkerId=worker,\n",
    "                IntegerValue=1,\n",
    "                SendNotification=False\n",
    "        )\n",
    "        print(response)\n",
    "        assert response\n",
    "        \n",
    "def get_workers_for_hit(hitid): \n",
    "    a = get_all_assignments(hitid)\n",
    "    workers = [a_['WorkerId'] for a_ in a]\n",
    "    return workers\n",
    "    \n",
    "def confirm_quals(qual_id, worker_ids): \n",
    "    for w in worker_ids: \n",
    "        response = cl.get_qualification_score(\n",
    "                QualificationTypeId=qual_id,\n",
    "                WorkerId=w\n",
    "        )\n",
    "        response = response['Qualification']\n",
    "        assert response['Status'] == 'Granted'\n",
    "        assert response['IntegerValue'] == 1\n",
    "        \n",
    "# Assigns qual with `qual_id` to every worker who has completed an assignment for the hit with `hitid`\n",
    "def assign_qual_for_hit(hitid, qual_id): \n",
    "    workers = get_workers_for_hit(hitid)\n",
    "    print(\"got workers\")\n",
    "    assign_qual(qual_id, workers)\n",
    "    print(\"assigned qual\")\n",
    "    confirm_quals(qual_id, workers)\n",
    "    print(\"confirmed qual\")"
   ]
  },
  {
   "cell_type": "markdown",
   "metadata": {},
   "source": [
    "# Download data"
   ]
  },
  {
   "cell_type": "code",
   "execution_count": 40,
   "metadata": {},
   "outputs": [],
   "source": [
    "from bs4 import BeautifulSoup as bs \n",
    "import pprint\n",
    "\n",
    "def pretty_print(obj):\n",
    "    pp = pprint.PrettyPrinter(indent=4)\n",
    "    pp.pprint(obj)\n",
    "    pp = None\n",
    "\n",
    "# Downloads all the assignments completed for `hits` as a list of dictionaries. \n",
    "# If a download_path is given, also saves that data as json \n",
    "def get_assignment_content(hits, download_path=\"\", should_print=False): \n",
    "    all_responses = []\n",
    "    for hit in hits: \n",
    "        hitid = hit['HITId']\n",
    "        assignments = get_all_assignments(hitid)\n",
    "        print(hitid)\n",
    "        print(assignments)\n",
    "        for a in assignments:\n",
    "            #print(a)\n",
    "            a_xml = a['Answer']\n",
    "            #print(a_xml)\n",
    "            soup = bs(a_xml, \"lxml\")\n",
    "            answers = soup.find_all(\"answer\")\n",
    "            #print(answers)\n",
    "            results = {'HITId': hitid}\n",
    "            for ans in answers: \n",
    "                identifier = ans.find('questionidentifier').string\n",
    "                answer = ans.find('freetext').string\n",
    "                try: \n",
    "                    results[identifier] = json.loads(answer)\n",
    "                except:\n",
    "                    results[identifier] = answer\n",
    "            all_responses.append(results)\n",
    "    if should_print: \n",
    "        pretty_print(all_responses)\n",
    "    if download_path: \n",
    "        with open(download_path, 'w') as outfile: \n",
    "            json.dump(all_responses, outfile)\n",
    "    return all_responses\n",
    "            "
   ]
  },
  {
   "cell_type": "code",
   "execution_count": 41,
   "metadata": {},
   "outputs": [
    {
     "name": "stdout",
     "output_type": "stream",
     "text": [
      "34OWYT6U3WYOOSNPHXAHGEJEZ5CI9C\n",
      "[]\n",
      "3WGCNLZJKFPPRC48L6UDABLI9M91D9\n",
      "[{'AssignmentId': '3NPI0JQDAPM2BDH1I0AK5VHJNRFPTG', 'WorkerId': 'ACUP2HVXGZY46', 'HITId': '3WGCNLZJKFPPRC48L6UDABLI9M91D9', 'AssignmentStatus': 'Approved', 'AutoApprovalTime': datetime.datetime(2018, 11, 29, 22, 26, 11, tzinfo=tzlocal()), 'AcceptTime': datetime.datetime(2018, 11, 22, 22, 25, 33, tzinfo=tzlocal()), 'SubmitTime': datetime.datetime(2018, 11, 22, 22, 26, 11, tzinfo=tzlocal()), 'ApprovalTime': datetime.datetime(2018, 11, 27, 16, 11, 28, tzinfo=tzlocal()), 'Answer': '<?xml version=\"1.0\" encoding=\"ASCII\"?><QuestionFormAnswers xmlns=\"http://mechanicalturk.amazonaws.com/AWSMechanicalTurkDataSchemas/2005-10-01/QuestionFormAnswers.xsd\"><Answer><QuestionIdentifier>workerId</QuestionIdentifier><FreeText>ACUP2HVXGZY46</FreeText></Answer><Answer><QuestionIdentifier>results</QuestionIdentifier><FreeText>{\"inputs\":[],\"outputs\":[[\"240,600,./infographics_1_0_free.png:3,2,1,107,28,107,31,107,33,106,33,105,33,105,37,103,38,102,38,102,41,102,43,101,46,101,47,101,48,100,48,100,52,100,53,100,56,100,58,100,62,100,63,101,66,102,68,103,68,103,71,105,72,107,73,108,73,110,73,111,76,112,76,113,76,116,77,117,77,117,78,118,78,120,78,122,78,123,78,127,78,128,78,130,78,131,78,132,78,133,78,135,78,137,78,138,77,141,77,141,76,142,73,143,73,145,73,146,73,147,72,148,71,151,68,152,68,152,67,153,67,155,63,156,63,157,62,157,58,157,57,157,56,157,53,157,51,157,48,157,47,157,43,156,43,156,42,155,38,155,36,153,33,152,32,152,28,151,28,150,28,150,27,147,27,147,26,146,23,145,23,143,23,142,23,140,23,138,23,137,23,136,23,135,23,133,23,132,23,130,23,128,23,127,23,125,23,123,23,122,23,120,23,118,23,117,23,;\",\"464,600,./magazine-covers_14_31_free.png:3,2,1,232,318,231,318,228,318,223,318,218,318,213,318,210,321,208,323,206,326,206,331,205,336,203,341,202,346,202,352,201,358,198,363,197,368,195,377,193,383,192,388,190,392,188,397,187,402,187,407,187,408,185,412,183,413,182,417,178,418,173,418,170,421,162,422,157,422,151,422,146,423,142,423,140,423,137,423,132,426,131,427,127,428,126,432,122,436,120,442,117,448,115,453,112,462,112,468,110,477,110,482,108,488,107,496,107,501,107,507,107,513,107,518,108,523,112,526,113,531,116,533,118,538,122,543,125,546,128,548,133,552,140,553,147,557,157,558,167,558,176,558,183,558,192,556,198,552,207,548,212,543,217,541,221,538,225,536,227,533,232,531,235,528,237,523,240,518,241,513,242,508,242,506,242,502,243,498,245,497,245,493,246,493,247,493,248,498,250,502,252,508,253,512,257,518,262,523,266,528,271,533,275,533,280,538,285,538,291,541,297,543,302,543,308,543,315,546,326,548,331,548,337,548,343,548,347,548,353,548,362,548,370,547,380,543,386,542,392,538,397,533,402,528,407,526,412,518,416,513,420,507,422,498,423,488,423,482,423,473,422,463,421,458,416,451,411,443,406,441,401,438,393,433,388,431,383,428,380,428,377,423,373,423,372,423,371,423,368,421,367,418,366,418,363,416,362,413,358,408,356,406,352,402,350,398,348,396,347,393,347,392,347,391,347,387,347,381,346,373,345,366,343,357,342,347,341,338,338,332,337,328,333,323,332,321,327,318,322,316,315,313,307,311,298,308,291,306,283,303,277,303,272,303,266,303,261,303,255,303,251,306,247,306,;\",\"377,600,./magazine-covers_14_32_free.png:3,2,1,97,251,97,252,97,253,97,257,98,261,101,268,102,278,102,288,103,301,103,313,103,328,102,338,102,347,101,351,101,353,100,357,100,358,100,361,100,363,97,366,97,368,96,371,95,373,96,373,102,373,113,372,128,372,146,372,163,372,178,372,193,371,205,371,217,371,230,371,238,371,250,368,261,368,271,368,280,368,287,367,293,367,297,366,300,366,300,363,300,358,300,347,301,328,301,317,302,306,302,296,302,288,302,282,302,277,302,273,302,272,302,268,302,267,302,263,302,258,302,253,303,253,305,251,306,248,;\"]],\"feedback\":\"SUBMITTING!\"}</FreeText></Answer><Answer><QuestionIdentifier>feedback</QuestionIdentifier><FreeText>SUBMITTING!</FreeText></Answer></QuestionFormAnswers>'}]\n",
      "{'AssignmentId': '3NPI0JQDAPM2BDH1I0AK5VHJNRFPTG', 'WorkerId': 'ACUP2HVXGZY46', 'HITId': '3WGCNLZJKFPPRC48L6UDABLI9M91D9', 'AssignmentStatus': 'Approved', 'AutoApprovalTime': datetime.datetime(2018, 11, 29, 22, 26, 11, tzinfo=tzlocal()), 'AcceptTime': datetime.datetime(2018, 11, 22, 22, 25, 33, tzinfo=tzlocal()), 'SubmitTime': datetime.datetime(2018, 11, 22, 22, 26, 11, tzinfo=tzlocal()), 'ApprovalTime': datetime.datetime(2018, 11, 27, 16, 11, 28, tzinfo=tzlocal()), 'Answer': '<?xml version=\"1.0\" encoding=\"ASCII\"?><QuestionFormAnswers xmlns=\"http://mechanicalturk.amazonaws.com/AWSMechanicalTurkDataSchemas/2005-10-01/QuestionFormAnswers.xsd\"><Answer><QuestionIdentifier>workerId</QuestionIdentifier><FreeText>ACUP2HVXGZY46</FreeText></Answer><Answer><QuestionIdentifier>results</QuestionIdentifier><FreeText>{\"inputs\":[],\"outputs\":[[\"240,600,./infographics_1_0_free.png:3,2,1,107,28,107,31,107,33,106,33,105,33,105,37,103,38,102,38,102,41,102,43,101,46,101,47,101,48,100,48,100,52,100,53,100,56,100,58,100,62,100,63,101,66,102,68,103,68,103,71,105,72,107,73,108,73,110,73,111,76,112,76,113,76,116,77,117,77,117,78,118,78,120,78,122,78,123,78,127,78,128,78,130,78,131,78,132,78,133,78,135,78,137,78,138,77,141,77,141,76,142,73,143,73,145,73,146,73,147,72,148,71,151,68,152,68,152,67,153,67,155,63,156,63,157,62,157,58,157,57,157,56,157,53,157,51,157,48,157,47,157,43,156,43,156,42,155,38,155,36,153,33,152,32,152,28,151,28,150,28,150,27,147,27,147,26,146,23,145,23,143,23,142,23,140,23,138,23,137,23,136,23,135,23,133,23,132,23,130,23,128,23,127,23,125,23,123,23,122,23,120,23,118,23,117,23,;\",\"464,600,./magazine-covers_14_31_free.png:3,2,1,232,318,231,318,228,318,223,318,218,318,213,318,210,321,208,323,206,326,206,331,205,336,203,341,202,346,202,352,201,358,198,363,197,368,195,377,193,383,192,388,190,392,188,397,187,402,187,407,187,408,185,412,183,413,182,417,178,418,173,418,170,421,162,422,157,422,151,422,146,423,142,423,140,423,137,423,132,426,131,427,127,428,126,432,122,436,120,442,117,448,115,453,112,462,112,468,110,477,110,482,108,488,107,496,107,501,107,507,107,513,107,518,108,523,112,526,113,531,116,533,118,538,122,543,125,546,128,548,133,552,140,553,147,557,157,558,167,558,176,558,183,558,192,556,198,552,207,548,212,543,217,541,221,538,225,536,227,533,232,531,235,528,237,523,240,518,241,513,242,508,242,506,242,502,243,498,245,497,245,493,246,493,247,493,248,498,250,502,252,508,253,512,257,518,262,523,266,528,271,533,275,533,280,538,285,538,291,541,297,543,302,543,308,543,315,546,326,548,331,548,337,548,343,548,347,548,353,548,362,548,370,547,380,543,386,542,392,538,397,533,402,528,407,526,412,518,416,513,420,507,422,498,423,488,423,482,423,473,422,463,421,458,416,451,411,443,406,441,401,438,393,433,388,431,383,428,380,428,377,423,373,423,372,423,371,423,368,421,367,418,366,418,363,416,362,413,358,408,356,406,352,402,350,398,348,396,347,393,347,392,347,391,347,387,347,381,346,373,345,366,343,357,342,347,341,338,338,332,337,328,333,323,332,321,327,318,322,316,315,313,307,311,298,308,291,306,283,303,277,303,272,303,266,303,261,303,255,303,251,306,247,306,;\",\"377,600,./magazine-covers_14_32_free.png:3,2,1,97,251,97,252,97,253,97,257,98,261,101,268,102,278,102,288,103,301,103,313,103,328,102,338,102,347,101,351,101,353,100,357,100,358,100,361,100,363,97,366,97,368,96,371,95,373,96,373,102,373,113,372,128,372,146,372,163,372,178,372,193,371,205,371,217,371,230,371,238,371,250,368,261,368,271,368,280,368,287,367,293,367,297,366,300,366,300,363,300,358,300,347,301,328,301,317,302,306,302,296,302,288,302,282,302,277,302,273,302,272,302,268,302,267,302,263,302,258,302,253,303,253,305,251,306,248,;\"]],\"feedback\":\"SUBMITTING!\"}</FreeText></Answer><Answer><QuestionIdentifier>feedback</QuestionIdentifier><FreeText>SUBMITTING!</FreeText></Answer></QuestionFormAnswers>'}\n",
      "3W1K7D6QSBYT7BRWFLCZ7FHUJG9ZBO\n",
      "[]\n",
      "32TZXEA1OL1CRGLFSVTK77RCW9G14W\n",
      "[]\n",
      "3WUVMVA7OBKOO1M497C3C4XO1YOZAT\n",
      "[{'AssignmentId': '37UQDCYH6YCSIZHQR9GI6REJKI97VR', 'WorkerId': 'ACUP2HVXGZY46', 'HITId': '3WUVMVA7OBKOO1M497C3C4XO1YOZAT', 'AssignmentStatus': 'Approved', 'AutoApprovalTime': datetime.datetime(2018, 12, 4, 14, 11, 47, tzinfo=tzlocal()), 'AcceptTime': datetime.datetime(2018, 11, 27, 14, 10, 57, tzinfo=tzlocal()), 'SubmitTime': datetime.datetime(2018, 11, 27, 14, 11, 47, tzinfo=tzlocal()), 'ApprovalTime': datetime.datetime(2018, 11, 27, 16, 11, 28, tzinfo=tzlocal()), 'Answer': '<?xml version=\"1.0\" encoding=\"ASCII\"?><QuestionFormAnswers xmlns=\"http://mechanicalturk.amazonaws.com/AWSMechanicalTurkDataSchemas/2005-10-01/QuestionFormAnswers.xsd\"><Answer><QuestionIdentifier>workerId</QuestionIdentifier><FreeText>ACUP2HVXGZY46</FreeText></Answer><Answer><QuestionIdentifier>results</QuestionIdentifier><FreeText>{\"inputs\":[],\"outputs\":[[\"240,600,./infographics_1_0_free.png:3,2,1,121,31,118,31,116,31,115,31,111,31,107,33,103,36,98,38,95,43,95,46,95,52,95,58,100,67,107,76,116,83,125,88,135,93,140,93,142,93,145,93,147,93,151,93,153,92,156,88,158,83,160,82,162,77,162,72,162,67,162,61,162,53,162,48,160,43,158,38,155,33,151,28,147,23,141,21,136,18,130,13,125,13,121,12,120,12,;\",\"464,600,./magazine-covers_14_31_free.png:3,2,1,40,83,42,91,45,98,47,108,48,121,50,132,50,143,50,153,50,163,48,173,47,182,47,188,47,191,47,193,50,196,56,198,60,198,83,206,103,208,132,213,160,217,183,218,203,218,222,218,243,218,261,216,283,216,305,213,327,213,348,213,367,213,386,212,402,208,415,208,423,207,428,207,430,206,431,203,432,203,433,203,435,202,437,198,440,197,441,193,442,192,443,188,445,183,445,178,445,173,445,167,446,158,447,153,448,143,450,133,450,123,450,113,448,107,446,96,445,88,442,81,440,73,436,68,432,63,427,58,420,56,410,53,397,53,382,51,363,51,343,48,318,48,288,48,260,48,236,48,215,48,195,48,182,48,177,48,;\",\"377,600,./magazine-covers_14_32_free.png:3,2,1,80,73,80,76,80,77,80,78,80,81,78,83,78,86,78,88,77,88,77,91,77,92,77,93,77,96,77,97,78,97,78,98,80,98,81,98,82,98,83,98,85,98,86,98,87,98,88,98,90,98,91,98,92,98,95,98,96,98,97,98,98,98,100,98,101,98,102,98,103,98,105,98,106,98,107,98,107,97,108,97,110,97,111,97,112,97,113,97,115,97,116,97,117,97,118,97,120,97,121,97,123,97,125,97,128,97,130,97,131,97,133,97,135,97,138,97,142,97,147,97,150,97,152,97,156,97,160,97,161,97,162,97,165,97,167,97,170,97,171,97,173,97,177,97,181,97,183,97,185,97,187,97,191,97,197,97,202,97,210,97,213,97,216,97,218,97,220,97,221,97,225,97,227,97,230,97,232,97,235,97,240,97,245,97,248,97,250,97,251,97,252,97,255,97,258,97,263,97,268,97,273,97,278,97,282,97,285,97,290,97,295,97,300,97,305,97,307,96,310,96,312,93,313,93,315,93,316,93,317,93,317,92,317,91,318,88,318,87,318,83,318,82,317,82,317,81,316,81,316,78,;3,2,1,97,247,96,247,95,248,95,251,93,253,92,256,92,258,91,261,90,262,90,263,90,267,90,268,90,271,90,272,90,273,90,277,90,278,90,281,90,282,90,283,90,286,90,287,90,288,90,291,90,293,91,293,91,296,91,298,91,301,91,302,91,303,91,307,91,308,91,312,91,313,92,313,92,316,92,317,92,318,92,321,92,322,92,323,92,326,92,327,92,328,92,331,92,332,92,333,92,336,92,338,92,341,92,342,92,343,92,347,92,348,92,352,92,353,92,356,92,357,92,358,92,361,92,362,92,363,92,366,92,367,92,368,92,371,92,372,92,373,92,376,93,376,95,376,96,376,96,377,97,377,98,377,100,377,101,377,102,377,103,377,105,377,106,377,108,377,110,377,112,377,115,377,116,377,120,377,121,377,123,377,126,377,128,377,130,377,131,377,133,377,135,377,137,377,140,377,142,377,145,377,146,377,148,377,150,377,152,377,155,377,158,377,161,377,165,377,170,377,175,377,178,377,182,377,185,377,187,377,190,377,192,377,195,377,197,377,200,377,202,377,203,377,205,377,207,377,210,377,211,377,213,377,215,377,216,377,217,377,220,377,223,377,226,377,228,377,231,376,235,376,236,376,240,376,241,376,243,376,245,376,246,376,248,376,250,376,252,376,255,376,260,376,261,376,265,376,266,376,270,376,271,376,273,376,275,376,276,376,278,376,281,376,283,376,285,376,288,376,290,373,291,373,292,373,293,373,295,373,296,373,297,373,298,373,300,373,301,373,302,373,303,373,303,372,305,371,305,368,305,367,305,366,305,363,305,361,305,358,305,356,305,353,305,352,305,348,305,347,305,346,305,343,305,342,305,341,305,338,305,337,305,336,305,333,305,331,305,328,305,326,305,323,305,321,305,318,306,317,306,316,306,313,306,312,306,311,307,308,307,306,307,303,308,303,308,301,308,298,308,296,308,293,310,293,310,291,310,288,310,287,310,286,310,283,310,282,310,281,310,278,310,277,310,273,310,272,310,268,308,266,307,263,307,262,306,261,306,258,306,257,306,256,305,253,305,252,305,251,305,248,303,248,303,247,303,246,303,243,;3,2,1,87,521,87,522,87,523,87,527,87,528,87,531,87,532,88,533,88,536,88,537,88,538,90,538,91,538,93,538,95,538,96,538,97,538,100,538,101,538,103,538,105,538,106,538,107,538,108,538,110,538,111,538,112,538,113,538,115,538,116,538,118,538,120,538,123,538,125,538,127,538,130,538,131,538,133,538,135,538,136,538,137,538,138,538,140,538,142,538,145,538,146,538,147,538,150,538,151,538,152,538,153,538,155,538,158,538,160,538,162,538,163,538,165,538,166,538,168,538,171,538,172,538,175,538,176,538,177,538,178,538,180,538,181,538,183,538,185,538,187,538,190,538,191,538,192,538,195,538,197,538,198,538,200,538,202,538,205,538,206,538,210,538,211,538,212,538,213,538,215,538,216,538,217,538,220,538,221,538,222,538,225,538,226,538,230,538,231,538,233,538,236,538,237,538,238,538,240,538,241,538,242,538,245,538,246,541,248,541,251,541,252,541,255,541,256,541,258,542,261,542,262,542,263,542,265,542,266,542,268,542,270,542,271,542,275,542,278,542,280,542,285,542,287,542,288,542,290,542,291,542,293,542,295,541,296,541,297,541,300,538,302,538,303,538,305,538,306,538,307,538,308,538,310,538,311,538,311,537,312,537,312,536,312,533,311,532,311,531,311,528,310,528,310,527,308,527,308,526,308,523,307,523,;\"]],\"feedback\":\"\"}</FreeText></Answer><Answer><QuestionIdentifier>feedback</QuestionIdentifier><FreeText/></Answer></QuestionFormAnswers>'}]\n",
      "{'AssignmentId': '37UQDCYH6YCSIZHQR9GI6REJKI97VR', 'WorkerId': 'ACUP2HVXGZY46', 'HITId': '3WUVMVA7OBKOO1M497C3C4XO1YOZAT', 'AssignmentStatus': 'Approved', 'AutoApprovalTime': datetime.datetime(2018, 12, 4, 14, 11, 47, tzinfo=tzlocal()), 'AcceptTime': datetime.datetime(2018, 11, 27, 14, 10, 57, tzinfo=tzlocal()), 'SubmitTime': datetime.datetime(2018, 11, 27, 14, 11, 47, tzinfo=tzlocal()), 'ApprovalTime': datetime.datetime(2018, 11, 27, 16, 11, 28, tzinfo=tzlocal()), 'Answer': '<?xml version=\"1.0\" encoding=\"ASCII\"?><QuestionFormAnswers xmlns=\"http://mechanicalturk.amazonaws.com/AWSMechanicalTurkDataSchemas/2005-10-01/QuestionFormAnswers.xsd\"><Answer><QuestionIdentifier>workerId</QuestionIdentifier><FreeText>ACUP2HVXGZY46</FreeText></Answer><Answer><QuestionIdentifier>results</QuestionIdentifier><FreeText>{\"inputs\":[],\"outputs\":[[\"240,600,./infographics_1_0_free.png:3,2,1,121,31,118,31,116,31,115,31,111,31,107,33,103,36,98,38,95,43,95,46,95,52,95,58,100,67,107,76,116,83,125,88,135,93,140,93,142,93,145,93,147,93,151,93,153,92,156,88,158,83,160,82,162,77,162,72,162,67,162,61,162,53,162,48,160,43,158,38,155,33,151,28,147,23,141,21,136,18,130,13,125,13,121,12,120,12,;\",\"464,600,./magazine-covers_14_31_free.png:3,2,1,40,83,42,91,45,98,47,108,48,121,50,132,50,143,50,153,50,163,48,173,47,182,47,188,47,191,47,193,50,196,56,198,60,198,83,206,103,208,132,213,160,217,183,218,203,218,222,218,243,218,261,216,283,216,305,213,327,213,348,213,367,213,386,212,402,208,415,208,423,207,428,207,430,206,431,203,432,203,433,203,435,202,437,198,440,197,441,193,442,192,443,188,445,183,445,178,445,173,445,167,446,158,447,153,448,143,450,133,450,123,450,113,448,107,446,96,445,88,442,81,440,73,436,68,432,63,427,58,420,56,410,53,397,53,382,51,363,51,343,48,318,48,288,48,260,48,236,48,215,48,195,48,182,48,177,48,;\",\"377,600,./magazine-covers_14_32_free.png:3,2,1,80,73,80,76,80,77,80,78,80,81,78,83,78,86,78,88,77,88,77,91,77,92,77,93,77,96,77,97,78,97,78,98,80,98,81,98,82,98,83,98,85,98,86,98,87,98,88,98,90,98,91,98,92,98,95,98,96,98,97,98,98,98,100,98,101,98,102,98,103,98,105,98,106,98,107,98,107,97,108,97,110,97,111,97,112,97,113,97,115,97,116,97,117,97,118,97,120,97,121,97,123,97,125,97,128,97,130,97,131,97,133,97,135,97,138,97,142,97,147,97,150,97,152,97,156,97,160,97,161,97,162,97,165,97,167,97,170,97,171,97,173,97,177,97,181,97,183,97,185,97,187,97,191,97,197,97,202,97,210,97,213,97,216,97,218,97,220,97,221,97,225,97,227,97,230,97,232,97,235,97,240,97,245,97,248,97,250,97,251,97,252,97,255,97,258,97,263,97,268,97,273,97,278,97,282,97,285,97,290,97,295,97,300,97,305,97,307,96,310,96,312,93,313,93,315,93,316,93,317,93,317,92,317,91,318,88,318,87,318,83,318,82,317,82,317,81,316,81,316,78,;3,2,1,97,247,96,247,95,248,95,251,93,253,92,256,92,258,91,261,90,262,90,263,90,267,90,268,90,271,90,272,90,273,90,277,90,278,90,281,90,282,90,283,90,286,90,287,90,288,90,291,90,293,91,293,91,296,91,298,91,301,91,302,91,303,91,307,91,308,91,312,91,313,92,313,92,316,92,317,92,318,92,321,92,322,92,323,92,326,92,327,92,328,92,331,92,332,92,333,92,336,92,338,92,341,92,342,92,343,92,347,92,348,92,352,92,353,92,356,92,357,92,358,92,361,92,362,92,363,92,366,92,367,92,368,92,371,92,372,92,373,92,376,93,376,95,376,96,376,96,377,97,377,98,377,100,377,101,377,102,377,103,377,105,377,106,377,108,377,110,377,112,377,115,377,116,377,120,377,121,377,123,377,126,377,128,377,130,377,131,377,133,377,135,377,137,377,140,377,142,377,145,377,146,377,148,377,150,377,152,377,155,377,158,377,161,377,165,377,170,377,175,377,178,377,182,377,185,377,187,377,190,377,192,377,195,377,197,377,200,377,202,377,203,377,205,377,207,377,210,377,211,377,213,377,215,377,216,377,217,377,220,377,223,377,226,377,228,377,231,376,235,376,236,376,240,376,241,376,243,376,245,376,246,376,248,376,250,376,252,376,255,376,260,376,261,376,265,376,266,376,270,376,271,376,273,376,275,376,276,376,278,376,281,376,283,376,285,376,288,376,290,373,291,373,292,373,293,373,295,373,296,373,297,373,298,373,300,373,301,373,302,373,303,373,303,372,305,371,305,368,305,367,305,366,305,363,305,361,305,358,305,356,305,353,305,352,305,348,305,347,305,346,305,343,305,342,305,341,305,338,305,337,305,336,305,333,305,331,305,328,305,326,305,323,305,321,305,318,306,317,306,316,306,313,306,312,306,311,307,308,307,306,307,303,308,303,308,301,308,298,308,296,308,293,310,293,310,291,310,288,310,287,310,286,310,283,310,282,310,281,310,278,310,277,310,273,310,272,310,268,308,266,307,263,307,262,306,261,306,258,306,257,306,256,305,253,305,252,305,251,305,248,303,248,303,247,303,246,303,243,;3,2,1,87,521,87,522,87,523,87,527,87,528,87,531,87,532,88,533,88,536,88,537,88,538,90,538,91,538,93,538,95,538,96,538,97,538,100,538,101,538,103,538,105,538,106,538,107,538,108,538,110,538,111,538,112,538,113,538,115,538,116,538,118,538,120,538,123,538,125,538,127,538,130,538,131,538,133,538,135,538,136,538,137,538,138,538,140,538,142,538,145,538,146,538,147,538,150,538,151,538,152,538,153,538,155,538,158,538,160,538,162,538,163,538,165,538,166,538,168,538,171,538,172,538,175,538,176,538,177,538,178,538,180,538,181,538,183,538,185,538,187,538,190,538,191,538,192,538,195,538,197,538,198,538,200,538,202,538,205,538,206,538,210,538,211,538,212,538,213,538,215,538,216,538,217,538,220,538,221,538,222,538,225,538,226,538,230,538,231,538,233,538,236,538,237,538,238,538,240,538,241,538,242,538,245,538,246,541,248,541,251,541,252,541,255,541,256,541,258,542,261,542,262,542,263,542,265,542,266,542,268,542,270,542,271,542,275,542,278,542,280,542,285,542,287,542,288,542,290,542,291,542,293,542,295,541,296,541,297,541,300,538,302,538,303,538,305,538,306,538,307,538,308,538,310,538,311,538,311,537,312,537,312,536,312,533,311,532,311,531,311,528,310,528,310,527,308,527,308,526,308,523,307,523,;\"]],\"feedback\":\"\"}</FreeText></Answer><Answer><QuestionIdentifier>feedback</QuestionIdentifier><FreeText/></Answer></QuestionFormAnswers>'}\n"
     ]
    },
    {
     "name": "stdout",
     "output_type": "stream",
     "text": [
      "31KSVEGZ349CTN3G0VEI8QSGK08WR8\n",
      "[{'AssignmentId': '32KTQ2V7REWD6VBASEDBXRMCOFL9MO', 'WorkerId': 'ACUP2HVXGZY46', 'HITId': '31KSVEGZ349CTN3G0VEI8QSGK08WR8', 'AssignmentStatus': 'Approved', 'AutoApprovalTime': datetime.datetime(2018, 12, 4, 14, 8, 27, tzinfo=tzlocal()), 'AcceptTime': datetime.datetime(2018, 11, 27, 14, 6, 23, tzinfo=tzlocal()), 'SubmitTime': datetime.datetime(2018, 11, 27, 14, 8, 27, tzinfo=tzlocal()), 'ApprovalTime': datetime.datetime(2018, 11, 27, 16, 11, 28, tzinfo=tzlocal()), 'Answer': '<?xml version=\"1.0\" encoding=\"ASCII\"?><QuestionFormAnswers xmlns=\"http://mechanicalturk.amazonaws.com/AWSMechanicalTurkDataSchemas/2005-10-01/QuestionFormAnswers.xsd\"><Answer><QuestionIdentifier>workerId</QuestionIdentifier><FreeText>ACUP2HVXGZY46</FreeText></Answer><Answer><QuestionIdentifier>results</QuestionIdentifier><FreeText>{\"inputs\":[],\"outputs\":[[\"240,600,./infographics_1_0_free.png:3,2,1,116,18,115,18,115,21,113,21,111,22,110,22,108,23,107,23,106,23,105,26,105,27,105,28,103,28,103,31,102,32,101,33,100,36,100,38,98,38,98,41,98,42,97,43,96,46,96,47,96,48,96,51,96,53,96,56,96,58,97,61,98,62,100,63,101,66,102,67,103,68,105,68,106,71,107,71,108,71,110,72,111,73,112,73,115,73,115,76,117,77,118,78,120,78,121,78,122,78,126,81,127,81,130,82,130,83,132,83,133,83,135,83,136,83,140,83,142,83,145,82,146,82,147,81,150,78,151,78,153,78,155,77,156,73,158,73,160,72,160,71,161,68,162,67,163,66,165,63,165,62,166,58,167,57,168,53,168,51,168,48,170,43,170,42,170,38,170,37,170,33,170,32,168,31,167,28,166,28,165,27,162,26,162,23,160,23,158,23,157,23,155,22,152,22,150,21,147,18,145,18,142,18,140,18,137,18,135,18,133,18,130,18,128,18,126,18,125,18,121,18,120,18,118,18,;3,2,1,32,83,32,86,32,87,32,88,32,91,32,93,32,96,32,97,32,98,32,101,32,102,32,103,33,103,35,103,37,103,40,103,42,103,45,103,46,103,48,103,50,102,52,102,52,101,55,101,56,101,60,101,65,101,67,101,71,101,75,98,77,98,80,98,81,98,82,98,85,98,87,98,92,98,96,98,101,98,105,98,108,98,110,98,111,98,112,98,115,98,117,98,120,101,123,101,127,102,130,102,131,102,133,102,136,102,138,102,142,102,145,102,148,102,150,102,153,102,156,102,160,102,162,102,163,102,165,102,166,102,168,102,170,102,172,102,173,102,175,102,178,102,182,102,185,102,185,103,187,103,188,103,190,103,192,103,195,103,200,103,201,103,202,103,203,103,205,103,206,103,207,103,208,103,210,103,211,103,212,103,215,103,216,103,217,103,218,103,220,103,220,102,220,101,220,98,220,97,220,96,220,93,220,92,220,91,220,88,220,87,220,86,220,83,220,82,220,81,;3,2,1,38,128,37,128,36,128,35,132,32,132,30,133,27,136,25,137,22,138,20,138,20,141,20,142,20,143,20,146,20,148,20,151,20,152,21,153,22,153,23,156,25,157,26,158,27,158,28,158,30,161,31,161,32,162,33,163,35,163,36,163,37,163,38,163,40,163,42,163,43,163,45,163,46,163,48,163,50,163,51,163,53,163,55,163,55,162,57,158,58,157,58,156,58,153,58,152,58,148,58,147,58,143,57,143,56,142,56,141,56,138,55,138,55,137,53,133,51,133,50,133,50,132,50,131,48,128,46,128,45,128,;3,2,1,33,177,32,177,32,178,30,178,27,181,27,182,26,182,26,183,25,183,25,186,25,188,25,191,23,192,23,193,23,196,23,197,23,198,23,202,25,203,26,207,26,208,27,208,28,208,30,208,31,208,32,208,33,208,33,211,35,211,36,211,36,212,38,212,40,212,41,213,43,213,45,213,46,213,47,213,48,213,50,213,51,213,52,213,53,212,55,211,55,208,57,207,58,206,58,203,60,201,60,198,60,197,60,193,60,192,60,191,60,188,58,187,56,187,55,186,55,183,52,183,51,183,50,183,48,182,46,182,45,182,45,181,45,178,42,178,41,178,;3,2,1,35,226,33,226,33,227,32,228,30,228,30,231,28,232,27,233,26,236,25,237,25,238,23,238,22,238,22,242,21,243,21,247,21,248,21,251,22,251,23,252,25,253,26,253,27,253,28,253,28,256,30,256,31,257,32,257,33,257,35,257,36,257,37,257,38,258,40,258,41,258,43,258,45,258,47,258,48,258,50,258,51,258,53,258,53,257,55,256,55,253,56,253,57,251,57,248,57,247,57,243,57,242,58,238,58,236,58,233,57,231,56,228,55,227,55,226,53,223,52,223,51,223,50,223,48,223,47,223,46,223,46,222,45,221,;3,2,1,36,273,35,273,33,273,32,276,31,277,30,278,28,281,27,282,27,283,27,286,26,287,26,288,25,291,25,292,25,293,25,296,25,297,25,298,26,301,26,302,26,303,27,303,28,303,30,303,31,303,33,306,35,306,36,306,37,306,38,306,40,306,40,307,41,307,43,307,45,307,46,307,48,307,50,307,51,306,53,303,55,303,55,302,55,298,56,293,56,288,56,287,56,283,56,282,55,281,55,278,53,278,53,277,52,276,52,273,51,273,50,273,;3,2,1,35,318,33,318,32,318,30,321,28,323,27,323,26,323,25,323,25,326,25,327,25,328,23,331,23,333,22,336,22,338,22,341,23,341,23,342,23,343,25,343,26,343,27,346,28,346,30,348,31,348,32,348,33,351,35,351,36,351,37,351,38,351,38,352,40,352,41,352,43,352,45,352,46,352,47,352,48,352,50,352,50,351,51,348,52,348,53,348,53,347,55,347,55,346,56,343,57,343,58,342,60,341,60,338,60,337,60,333,60,332,60,331,60,328,58,328,56,327,56,326,55,326,55,323,53,323,52,323,52,322,51,322,50,322,;3,2,1,35,366,35,367,35,368,33,368,31,368,30,368,30,371,30,372,28,372,28,373,27,373,27,377,26,378,26,381,26,382,26,383,26,386,26,387,26,388,26,391,27,391,27,392,28,392,30,392,30,393,31,393,33,393,33,396,35,396,35,397,36,397,37,397,38,397,38,398,40,398,41,398,42,398,43,398,45,398,46,398,47,398,48,398,50,398,50,397,52,397,53,396,53,393,55,393,55,391,55,388,55,386,55,383,56,382,56,378,56,377,56,376,56,373,56,371,55,371,55,368,53,368,;3,2,1,35,417,33,417,32,418,31,418,30,418,28,418,27,422,26,422,25,423,25,426,25,427,25,428,25,431,25,432,25,433,25,436,25,437,26,438,27,438,28,438,28,441,28,442,30,442,31,442,31,443,33,443,35,443,36,443,37,443,38,443,40,443,40,446,41,446,42,446,43,446,45,446,46,446,47,446,48,446,50,446,50,443,51,443,53,443,53,441,55,438,55,437,55,436,56,433,57,433,58,431,58,428,58,426,58,423,58,421,58,418,58,417,58,416,57,416,56,413,55,413,53,413,52,413,51,413,50,413,50,412,;3,2,1,33,458,32,458,32,461,30,462,27,463,25,466,25,468,23,471,22,472,22,473,22,476,22,478,22,481,22,483,22,486,22,487,22,488,23,488,23,491,23,492,25,493,26,493,27,493,28,496,30,496,31,496,33,496,35,496,36,496,37,496,38,496,40,496,41,496,42,496,43,496,45,496,46,496,47,496,48,496,50,496,50,493,51,493,53,493,53,492,55,488,55,487,55,483,55,482,55,481,55,478,55,477,55,473,55,472,55,468,55,467,55,466,55,463,55,462,55,461,55,458,53,458,52,458,51,458,50,458,;3,2,1,37,512,36,512,35,512,35,513,33,513,32,516,31,516,30,517,30,518,28,518,27,518,27,522,27,523,27,526,27,528,27,531,27,533,28,533,28,536,30,538,31,538,32,538,33,538,35,538,36,538,37,538,38,538,38,541,40,541,41,541,43,541,45,541,46,541,48,541,50,541,51,538,53,538,55,537,55,536,55,533,56,531,56,528,57,527,57,526,57,523,57,522,57,521,57,518,56,517,56,516,55,513,52,512,51,508,50,508,50,507,48,507,47,507,46,507,45,506,43,506,42,506,41,506,40,506,38,506,37,506,36,506,35,507,35,508,33,508,32,508,;3,2,1,37,556,35,556,33,556,32,556,31,556,30,557,28,557,27,558,25,558,25,561,25,562,25,563,23,563,23,567,22,568,22,571,22,572,22,573,22,576,22,577,22,578,23,578,23,581,25,581,25,582,26,583,27,583,28,583,30,583,31,583,33,583,35,583,36,586,37,586,38,587,40,587,42,587,43,587,45,587,46,587,48,587,50,587,51,587,53,586,53,583,56,583,57,581,58,578,58,576,60,573,60,572,60,571,60,568,58,568,56,566,55,563,55,562,53,561,52,561,51,558,50,558,48,558,47,558,46,558,45,558,;\",\"464,600,./magazine-covers_14_31_free.png:3,2,1,50,78,48,78,48,81,48,82,47,82,47,83,46,83,46,87,46,88,45,91,45,93,45,97,45,98,45,103,45,108,45,112,46,112,47,112,48,112,50,111,50,108,51,108,52,108,53,108,55,108,57,108,58,108,60,108,61,108,65,107,67,107,70,106,72,106,73,103,75,103,77,103,80,103,85,103,90,103,95,103,97,103,100,103,101,103,103,103,106,103,110,103,115,103,116,103,120,103,122,103,125,103,128,103,132,103,136,103,140,103,142,103,143,103,146,103,147,103,150,103,155,103,161,103,165,103,170,103,173,103,175,102,177,102,178,102,180,101,183,101,185,101,188,101,190,101,192,98,195,98,196,98,197,98,200,98,201,98,202,97,203,96,205,96,206,96,207,93,208,93,210,93,211,93,212,93,213,92,215,91,216,91,217,91,220,88,222,88,222,87,225,86,225,83,226,83,227,82,227,81,227,78,227,77,227,76,227,73,227,71,227,68,227,67,227,66,227,63,;3,2,1,76,103,75,106,75,108,73,108,73,112,71,113,70,113,70,117,68,118,67,121,65,123,65,126,65,127,65,128,65,131,63,133,62,138,60,138,58,143,57,143,56,146,55,148,53,151,51,153,50,153,47,158,46,158,45,162,45,163,43,163,43,168,43,172,42,173,42,177,42,178,42,182,42,183,43,187,43,188,45,188,45,191,45,192,46,193,47,193,48,193,50,193,50,196,51,196,52,196,52,197,53,197,55,197,56,197,57,197,60,197,61,197,62,197,63,197,65,197,68,197,71,197,75,197,80,197,83,196,87,196,90,196,93,193,96,193,100,193,101,193,105,193,110,193,115,193,120,193,123,192,126,192,127,192,128,192,133,191,137,191,141,191,143,191,145,191,146,191,150,191,153,191,158,188,163,188,166,188,170,188,172,188,175,188,180,188,185,187,190,186,195,186,202,186,207,183,215,183,218,183,220,183,222,183,227,183,232,183,237,183,243,183,247,183,250,182,253,181,255,181,256,181,257,181,258,181,260,178,261,178,265,178,266,178,267,178,270,177,271,176,272,176,273,176,275,176,276,176,277,176,280,173,281,173,283,173,285,173,286,173,287,173,288,173,290,173,291,173,293,173,295,173,295,176,295,177,295,178,295,181,295,183,295,186,295,187,295,188,295,191,295,192,296,192,298,192,300,192,301,192,302,192,303,192,305,192,306,192,307,192,307,191,310,191,311,191,313,191,315,191,316,191,318,188,320,188,322,188,323,188,325,188,326,188,327,188,328,188,330,188,333,188,335,188,336,188,338,188,340,188,343,188,345,187,347,187,350,187,352,187,353,186,355,186,357,186,358,186,360,186,362,183,365,183,366,183,367,183,370,183,371,183,372,183,373,182,376,182,378,181,381,181,383,181,385,181,387,178,388,178,390,178,392,178,395,178,397,178,398,178,400,178,401,178,403,177,405,177,406,177,407,177,410,176,411,176,412,176,415,176,416,176,417,176,418,176,420,176,420,173,421,173,422,173,423,173,425,173,426,173,427,173,430,173,431,173,432,173,433,173,435,173,436,173,437,173,438,173,440,173,440,172,440,171,440,168,440,167,440,166,440,163,440,161,440,158,440,156,440,153,441,153,441,152,441,151,441,148,440,148,438,148,437,148,436,148,435,148,433,148,432,148,431,148,430,147,430,146,430,143,430,142,430,138,430,133,430,131,431,128,431,127,432,123,433,123,433,121,435,118,435,117,435,113,436,113,436,111,438,108,438,107,440,103,440,98,441,93,441,92,441,88,442,88,442,86,443,83,443,81,443,78,443,76,445,73,445,72,445,71,445,68,445,67,445,66,445,63,443,63,442,63,441,63,440,63,437,63,436,63,432,63,427,61,422,58,415,58,411,58,408,58,405,58,403,58,402,58,400,58,398,58,397,58,395,58,393,58,390,58,388,58,387,58,385,58,385,61,383,62,381,63,380,63,378,66,377,67,376,67,375,68,373,68,372,68,371,68,370,68,368,71,366,71,363,72,358,72,355,72,351,73,350,73,347,73,345,73,341,73,337,76,335,76,330,77,327,77,325,77,323,78,320,78,316,78,313,78,310,78,307,78,302,78,298,78,295,78,292,78,290,78,286,78,280,78,275,78,271,78,267,78,265,78,263,78,262,78,261,78,260,78,257,78,255,81,252,81,250,81,246,81,245,81,242,81,240,82,238,82,237,82,235,82,233,82,232,82,231,83,230,83,228,83,227,83,226,83,225,83,223,83,220,83,;3,2,1,50,473,50,476,50,478,48,478,48,481,48,482,47,483,46,483,46,486,45,486,45,487,45,488,43,488,41,488,41,491,40,491,40,492,38,493,36,493,35,493,33,493,32,493,31,493,30,493,28,493,28,496,27,497,27,498,26,498,25,498,25,501,25,502,25,503,25,506,25,507,25,508,26,508,27,508,28,508,28,511,28,512,30,513,31,513,32,513,33,513,35,513,36,513,37,513,38,513,38,516,40,516,40,517,41,517,41,518,42,518,42,521,45,523,45,526,45,527,45,528,45,531,45,532,45,533,45,536,45,537,45,538,46,541,47,542,48,543,50,543,51,543,52,546,52,547,53,548,55,548,56,548,56,551,57,552,58,552,58,553,60,553,61,553,62,556,63,556,63,557,65,557,66,557,67,558,68,558,70,558,71,558,72,558,73,558,75,558,77,558,81,558,83,558,85,558,87,558,91,558,95,558,96,558,97,558,100,558,102,558,105,558,106,558,107,558,108,558,110,558,111,558,115,557,116,557,117,557,118,556,120,556,121,556,122,556,125,553,126,553,127,553,130,552,130,551,131,551,132,548,133,548,135,548,135,547,136,546,136,543,137,543,138,542,138,541,140,541,140,538,141,537,142,536,143,533,145,533,145,532,145,531,146,531,146,528,147,528,148,527,150,526,150,523,151,523,151,522,151,521,151,516,152,516,153,513,155,513,156,513,157,513,158,513,158,512,160,512,160,511,161,508,162,507,162,506,162,503,162,502,163,501,163,498,163,496,162,496,161,493,160,493,157,493,156,493,155,493,153,493,152,493,150,493,150,492,148,492,147,492,145,491,145,488,142,488,141,488,140,488,140,487,138,487,138,483,138,482,138,478,138,477,138,476,138,473,137,472,136,472,135,472,133,472,132,472,128,472,125,472,122,472,117,472,115,472,112,472,110,472,108,472,106,472,105,472,103,473,100,473,98,473,96,473,93,473,92,473,91,473,90,473,87,473,85,473,83,473,81,473,78,473,77,473,75,473,73,473,71,473,70,473,68,473,67,473,66,473,;3,2,1,196,473,195,476,195,478,195,482,195,483,195,487,195,488,195,491,195,492,195,493,196,493,197,496,198,496,200,496,201,496,202,497,203,497,205,497,206,497,207,497,208,497,210,498,211,498,212,498,215,498,216,498,217,498,218,498,220,498,221,498,222,498,223,498,223,501,223,502,223,503,223,507,223,508,223,511,223,512,223,513,222,513,221,513,220,513,218,513,216,513,215,513,213,513,212,513,211,513,210,513,210,516,208,516,206,517,205,517,203,517,202,517,201,517,200,518,198,518,197,518,196,518,195,518,195,521,193,521,193,522,192,522,191,522,190,523,190,527,190,528,191,528,192,528,193,528,195,528,196,528,197,531,198,531,200,531,202,531,202,532,205,532,207,532,208,532,210,532,212,532,213,532,215,532,215,533,216,533,217,533,218,533,218,536,218,537,220,537,220,538,220,541,220,542,220,543,221,543,222,543,222,546,222,547,222,548,222,551,222,552,222,553,223,553,225,553,226,553,227,553,228,553,230,553,231,553,232,553,233,553,235,553,236,553,237,553,240,553,242,553,243,553,245,553,247,553,250,553,253,553,256,553,260,552,262,552,265,552,266,552,268,551,270,551,271,548,273,548,275,548,276,548,277,548,278,547,278,543,278,542,278,541,278,538,278,537,278,536,278,533,280,533,281,532,282,532,283,531,285,531,286,528,287,528,288,528,290,528,291,528,293,528,295,528,296,528,298,528,300,528,301,528,302,528,303,528,305,528,305,527,305,526,305,523,305,522,305,521,305,518,303,518,302,518,301,518,300,518,298,518,297,518,295,518,292,518,290,518,288,518,287,518,285,518,282,518,280,518,278,518,277,518,276,518,275,518,273,518,272,518,271,518,270,518,268,518,267,517,267,516,267,513,266,513,266,512,266,511,266,508,267,507,268,506,270,506,270,503,271,503,272,503,273,501,275,498,276,498,277,498,278,497,280,496,281,496,283,496,285,496,287,496,288,493,290,493,291,493,292,493,293,493,295,493,296,493,297,493,298,492,300,491,301,488,302,487,303,486,303,483,303,481,303,478,303,476,303,473,302,473,301,473,300,473,298,473,295,473,293,473,291,473,288,473,285,472,282,472,277,472,273,472,270,471,;3,2,1,338,476,338,477,338,478,338,483,337,486,336,488,336,491,336,493,335,496,335,498,335,501,335,502,335,503,333,503,333,506,333,507,332,508,332,511,332,512,332,513,332,517,332,518,332,522,332,523,332,526,331,527,331,528,331,531,331,532,332,532,332,533,333,533,335,533,336,533,338,533,340,533,341,533,342,533,343,533,345,533,346,533,347,533,348,533,350,533,351,533,353,533,355,533,356,533,358,533,358,536,358,537,358,538,358,541,358,542,358,543,360,543,360,546,360,547,360,548,361,551,361,552,362,552,362,553,362,556,362,557,363,558,365,558,366,558,367,558,370,558,372,558,373,558,375,558,377,558,380,558,382,558,386,558,390,558,391,558,392,558,392,557,395,557,400,557,402,556,403,556,405,556,407,553,410,553,411,553,412,553,413,553,415,553,416,553,417,553,418,553,420,553,420,552,420,551,421,548,421,547,422,543,422,541,422,538,422,537,422,536,422,533,422,532,423,532,425,532,426,531,427,531,430,531,431,531,433,528,435,528,437,528,438,528,440,528,441,528,442,528,445,528,446,528,447,528,447,526,447,523,447,521,447,518,447,516,447,513,447,511,447,508,447,506,447,503,447,501,447,498,447,496,447,493,447,491,447,488,447,486,447,483,447,482,447,481,447,478,447,477,447,476,446,476,;\",\"377,600,./magazine-covers_14_32_free.png:3,2,1,80,78,80,81,80,83,80,86,80,88,80,91,78,91,78,92,80,92,81,92,82,93,83,93,85,93,86,93,87,93,88,93,90,93,91,93,92,93,93,93,95,93,96,93,97,93,100,93,101,93,105,93,106,93,110,93,115,93,118,93,121,93,125,93,128,93,131,93,132,93,135,93,138,93,142,93,146,93,150,93,155,93,161,93,165,93,168,93,170,93,172,93,175,93,178,93,180,93,182,93,183,93,185,93,188,93,192,93,195,93,197,93,198,93,200,93,202,93,205,93,210,93,212,93,213,93,215,93,216,93,217,93,221,93,225,93,228,93,231,93,233,93,235,93,236,93,237,93,240,93,243,93,246,93,250,93,251,93,252,93,253,93,255,93,258,93,260,93,263,93,265,93,267,93,270,93,271,93,272,93,273,93,275,93,277,93,280,93,281,93,282,93,283,93,285,93,286,93,287,93,290,93,291,93,293,92,296,92,298,92,301,92,303,92,305,92,306,92,307,92,308,92,310,92,311,92,312,92,313,92,315,92,316,92,317,92,318,92,318,91,318,88,318,87,320,87,320,86,320,83,320,82,320,81,;3,2,1,97,248,97,251,97,253,97,256,97,258,97,262,97,263,97,268,96,273,96,276,95,278,95,281,95,283,95,288,95,291,95,293,93,296,93,298,92,301,92,303,92,306,92,308,92,311,92,313,92,318,92,321,92,323,92,328,92,333,92,337,92,338,92,342,92,343,92,346,93,348,93,352,95,353,95,357,95,358,95,361,95,362,95,363,95,366,95,367,96,367,96,368,97,368,98,368,100,368,100,371,101,371,102,371,103,371,105,371,106,371,107,371,108,371,110,371,111,371,115,371,118,371,122,371,126,371,130,368,131,368,135,368,140,368,143,368,146,368,150,368,152,368,153,368,155,368,157,368,160,368,161,368,162,368,165,368,166,368,167,368,170,368,172,368,175,368,176,368,178,368,180,368,182,368,185,368,187,368,188,368,190,368,192,368,195,368,197,368,198,368,200,368,202,368,205,368,207,368,210,368,212,368,215,368,216,368,217,368,220,368,222,368,226,368,230,368,235,368,237,368,240,368,241,368,243,368,245,368,247,368,251,368,255,368,257,368,260,368,263,368,266,368,268,368,270,368,271,368,275,368,276,368,280,368,281,368,282,368,283,371,285,371,286,371,287,371,288,371,290,371,291,371,293,371,295,371,297,371,298,371,298,368,300,368,300,366,300,363,300,361,301,358,301,357,301,353,301,352,301,348,301,347,301,343,301,342,301,341,301,338,301,337,301,333,301,331,301,328,302,327,302,326,303,323,303,321,305,318,305,316,305,312,305,308,306,303,306,302,307,298,307,297,308,293,308,288,308,287,308,283,308,281,308,278,308,276,308,273,308,272,308,268,308,266,308,263,308,261,308,258,308,257,308,253,308,252,308,251,308,248,307,247,307,246,307,243,306,243,305,243,305,246,305,247,303,248,;3,2,1,90,521,90,522,90,523,90,526,90,527,90,528,90,531,88,531,88,533,87,533,87,536,87,537,87,538,87,541,88,541,88,542,90,542,90,543,91,543,93,543,95,543,97,543,100,543,101,543,102,543,103,543,105,543,106,543,107,543,110,543,113,543,118,543,123,543,130,543,135,543,141,543,145,543,150,542,155,542,158,542,163,541,166,541,170,541,172,541,177,541,180,541,182,541,185,541,187,541,190,541,193,541,196,541,200,541,205,541,207,541,210,541,211,541,212,541,215,541,217,541,220,541,222,541,225,541,226,541,228,541,230,541,232,541,235,541,240,541,241,541,243,541,245,541,246,541,250,541,251,541,253,541,255,541,256,541,260,538,261,538,263,538,265,538,268,538,270,538,271,538,273,538,275,538,277,538,280,538,283,538,285,538,286,538,287,538,290,538,291,538,293,538,295,538,296,538,298,538,300,538,301,538,303,538,305,537,306,537,307,537,308,537,310,537,310,536,311,536,311,528,311,527,311,526,310,526,310,523,;\"]],\"feedback\":\"\"}</FreeText></Answer><Answer><QuestionIdentifier>feedback</QuestionIdentifier><FreeText/></Answer></QuestionFormAnswers>'}]\n",
      "{'AssignmentId': '32KTQ2V7REWD6VBASEDBXRMCOFL9MO', 'WorkerId': 'ACUP2HVXGZY46', 'HITId': '31KSVEGZ349CTN3G0VEI8QSGK08WR8', 'AssignmentStatus': 'Approved', 'AutoApprovalTime': datetime.datetime(2018, 12, 4, 14, 8, 27, tzinfo=tzlocal()), 'AcceptTime': datetime.datetime(2018, 11, 27, 14, 6, 23, tzinfo=tzlocal()), 'SubmitTime': datetime.datetime(2018, 11, 27, 14, 8, 27, tzinfo=tzlocal()), 'ApprovalTime': datetime.datetime(2018, 11, 27, 16, 11, 28, tzinfo=tzlocal()), 'Answer': '<?xml version=\"1.0\" encoding=\"ASCII\"?><QuestionFormAnswers xmlns=\"http://mechanicalturk.amazonaws.com/AWSMechanicalTurkDataSchemas/2005-10-01/QuestionFormAnswers.xsd\"><Answer><QuestionIdentifier>workerId</QuestionIdentifier><FreeText>ACUP2HVXGZY46</FreeText></Answer><Answer><QuestionIdentifier>results</QuestionIdentifier><FreeText>{\"inputs\":[],\"outputs\":[[\"240,600,./infographics_1_0_free.png:3,2,1,116,18,115,18,115,21,113,21,111,22,110,22,108,23,107,23,106,23,105,26,105,27,105,28,103,28,103,31,102,32,101,33,100,36,100,38,98,38,98,41,98,42,97,43,96,46,96,47,96,48,96,51,96,53,96,56,96,58,97,61,98,62,100,63,101,66,102,67,103,68,105,68,106,71,107,71,108,71,110,72,111,73,112,73,115,73,115,76,117,77,118,78,120,78,121,78,122,78,126,81,127,81,130,82,130,83,132,83,133,83,135,83,136,83,140,83,142,83,145,82,146,82,147,81,150,78,151,78,153,78,155,77,156,73,158,73,160,72,160,71,161,68,162,67,163,66,165,63,165,62,166,58,167,57,168,53,168,51,168,48,170,43,170,42,170,38,170,37,170,33,170,32,168,31,167,28,166,28,165,27,162,26,162,23,160,23,158,23,157,23,155,22,152,22,150,21,147,18,145,18,142,18,140,18,137,18,135,18,133,18,130,18,128,18,126,18,125,18,121,18,120,18,118,18,;3,2,1,32,83,32,86,32,87,32,88,32,91,32,93,32,96,32,97,32,98,32,101,32,102,32,103,33,103,35,103,37,103,40,103,42,103,45,103,46,103,48,103,50,102,52,102,52,101,55,101,56,101,60,101,65,101,67,101,71,101,75,98,77,98,80,98,81,98,82,98,85,98,87,98,92,98,96,98,101,98,105,98,108,98,110,98,111,98,112,98,115,98,117,98,120,101,123,101,127,102,130,102,131,102,133,102,136,102,138,102,142,102,145,102,148,102,150,102,153,102,156,102,160,102,162,102,163,102,165,102,166,102,168,102,170,102,172,102,173,102,175,102,178,102,182,102,185,102,185,103,187,103,188,103,190,103,192,103,195,103,200,103,201,103,202,103,203,103,205,103,206,103,207,103,208,103,210,103,211,103,212,103,215,103,216,103,217,103,218,103,220,103,220,102,220,101,220,98,220,97,220,96,220,93,220,92,220,91,220,88,220,87,220,86,220,83,220,82,220,81,;3,2,1,38,128,37,128,36,128,35,132,32,132,30,133,27,136,25,137,22,138,20,138,20,141,20,142,20,143,20,146,20,148,20,151,20,152,21,153,22,153,23,156,25,157,26,158,27,158,28,158,30,161,31,161,32,162,33,163,35,163,36,163,37,163,38,163,40,163,42,163,43,163,45,163,46,163,48,163,50,163,51,163,53,163,55,163,55,162,57,158,58,157,58,156,58,153,58,152,58,148,58,147,58,143,57,143,56,142,56,141,56,138,55,138,55,137,53,133,51,133,50,133,50,132,50,131,48,128,46,128,45,128,;3,2,1,33,177,32,177,32,178,30,178,27,181,27,182,26,182,26,183,25,183,25,186,25,188,25,191,23,192,23,193,23,196,23,197,23,198,23,202,25,203,26,207,26,208,27,208,28,208,30,208,31,208,32,208,33,208,33,211,35,211,36,211,36,212,38,212,40,212,41,213,43,213,45,213,46,213,47,213,48,213,50,213,51,213,52,213,53,212,55,211,55,208,57,207,58,206,58,203,60,201,60,198,60,197,60,193,60,192,60,191,60,188,58,187,56,187,55,186,55,183,52,183,51,183,50,183,48,182,46,182,45,182,45,181,45,178,42,178,41,178,;3,2,1,35,226,33,226,33,227,32,228,30,228,30,231,28,232,27,233,26,236,25,237,25,238,23,238,22,238,22,242,21,243,21,247,21,248,21,251,22,251,23,252,25,253,26,253,27,253,28,253,28,256,30,256,31,257,32,257,33,257,35,257,36,257,37,257,38,258,40,258,41,258,43,258,45,258,47,258,48,258,50,258,51,258,53,258,53,257,55,256,55,253,56,253,57,251,57,248,57,247,57,243,57,242,58,238,58,236,58,233,57,231,56,228,55,227,55,226,53,223,52,223,51,223,50,223,48,223,47,223,46,223,46,222,45,221,;3,2,1,36,273,35,273,33,273,32,276,31,277,30,278,28,281,27,282,27,283,27,286,26,287,26,288,25,291,25,292,25,293,25,296,25,297,25,298,26,301,26,302,26,303,27,303,28,303,30,303,31,303,33,306,35,306,36,306,37,306,38,306,40,306,40,307,41,307,43,307,45,307,46,307,48,307,50,307,51,306,53,303,55,303,55,302,55,298,56,293,56,288,56,287,56,283,56,282,55,281,55,278,53,278,53,277,52,276,52,273,51,273,50,273,;3,2,1,35,318,33,318,32,318,30,321,28,323,27,323,26,323,25,323,25,326,25,327,25,328,23,331,23,333,22,336,22,338,22,341,23,341,23,342,23,343,25,343,26,343,27,346,28,346,30,348,31,348,32,348,33,351,35,351,36,351,37,351,38,351,38,352,40,352,41,352,43,352,45,352,46,352,47,352,48,352,50,352,50,351,51,348,52,348,53,348,53,347,55,347,55,346,56,343,57,343,58,342,60,341,60,338,60,337,60,333,60,332,60,331,60,328,58,328,56,327,56,326,55,326,55,323,53,323,52,323,52,322,51,322,50,322,;3,2,1,35,366,35,367,35,368,33,368,31,368,30,368,30,371,30,372,28,372,28,373,27,373,27,377,26,378,26,381,26,382,26,383,26,386,26,387,26,388,26,391,27,391,27,392,28,392,30,392,30,393,31,393,33,393,33,396,35,396,35,397,36,397,37,397,38,397,38,398,40,398,41,398,42,398,43,398,45,398,46,398,47,398,48,398,50,398,50,397,52,397,53,396,53,393,55,393,55,391,55,388,55,386,55,383,56,382,56,378,56,377,56,376,56,373,56,371,55,371,55,368,53,368,;3,2,1,35,417,33,417,32,418,31,418,30,418,28,418,27,422,26,422,25,423,25,426,25,427,25,428,25,431,25,432,25,433,25,436,25,437,26,438,27,438,28,438,28,441,28,442,30,442,31,442,31,443,33,443,35,443,36,443,37,443,38,443,40,443,40,446,41,446,42,446,43,446,45,446,46,446,47,446,48,446,50,446,50,443,51,443,53,443,53,441,55,438,55,437,55,436,56,433,57,433,58,431,58,428,58,426,58,423,58,421,58,418,58,417,58,416,57,416,56,413,55,413,53,413,52,413,51,413,50,413,50,412,;3,2,1,33,458,32,458,32,461,30,462,27,463,25,466,25,468,23,471,22,472,22,473,22,476,22,478,22,481,22,483,22,486,22,487,22,488,23,488,23,491,23,492,25,493,26,493,27,493,28,496,30,496,31,496,33,496,35,496,36,496,37,496,38,496,40,496,41,496,42,496,43,496,45,496,46,496,47,496,48,496,50,496,50,493,51,493,53,493,53,492,55,488,55,487,55,483,55,482,55,481,55,478,55,477,55,473,55,472,55,468,55,467,55,466,55,463,55,462,55,461,55,458,53,458,52,458,51,458,50,458,;3,2,1,37,512,36,512,35,512,35,513,33,513,32,516,31,516,30,517,30,518,28,518,27,518,27,522,27,523,27,526,27,528,27,531,27,533,28,533,28,536,30,538,31,538,32,538,33,538,35,538,36,538,37,538,38,538,38,541,40,541,41,541,43,541,45,541,46,541,48,541,50,541,51,538,53,538,55,537,55,536,55,533,56,531,56,528,57,527,57,526,57,523,57,522,57,521,57,518,56,517,56,516,55,513,52,512,51,508,50,508,50,507,48,507,47,507,46,507,45,506,43,506,42,506,41,506,40,506,38,506,37,506,36,506,35,507,35,508,33,508,32,508,;3,2,1,37,556,35,556,33,556,32,556,31,556,30,557,28,557,27,558,25,558,25,561,25,562,25,563,23,563,23,567,22,568,22,571,22,572,22,573,22,576,22,577,22,578,23,578,23,581,25,581,25,582,26,583,27,583,28,583,30,583,31,583,33,583,35,583,36,586,37,586,38,587,40,587,42,587,43,587,45,587,46,587,48,587,50,587,51,587,53,586,53,583,56,583,57,581,58,578,58,576,60,573,60,572,60,571,60,568,58,568,56,566,55,563,55,562,53,561,52,561,51,558,50,558,48,558,47,558,46,558,45,558,;\",\"464,600,./magazine-covers_14_31_free.png:3,2,1,50,78,48,78,48,81,48,82,47,82,47,83,46,83,46,87,46,88,45,91,45,93,45,97,45,98,45,103,45,108,45,112,46,112,47,112,48,112,50,111,50,108,51,108,52,108,53,108,55,108,57,108,58,108,60,108,61,108,65,107,67,107,70,106,72,106,73,103,75,103,77,103,80,103,85,103,90,103,95,103,97,103,100,103,101,103,103,103,106,103,110,103,115,103,116,103,120,103,122,103,125,103,128,103,132,103,136,103,140,103,142,103,143,103,146,103,147,103,150,103,155,103,161,103,165,103,170,103,173,103,175,102,177,102,178,102,180,101,183,101,185,101,188,101,190,101,192,98,195,98,196,98,197,98,200,98,201,98,202,97,203,96,205,96,206,96,207,93,208,93,210,93,211,93,212,93,213,92,215,91,216,91,217,91,220,88,222,88,222,87,225,86,225,83,226,83,227,82,227,81,227,78,227,77,227,76,227,73,227,71,227,68,227,67,227,66,227,63,;3,2,1,76,103,75,106,75,108,73,108,73,112,71,113,70,113,70,117,68,118,67,121,65,123,65,126,65,127,65,128,65,131,63,133,62,138,60,138,58,143,57,143,56,146,55,148,53,151,51,153,50,153,47,158,46,158,45,162,45,163,43,163,43,168,43,172,42,173,42,177,42,178,42,182,42,183,43,187,43,188,45,188,45,191,45,192,46,193,47,193,48,193,50,193,50,196,51,196,52,196,52,197,53,197,55,197,56,197,57,197,60,197,61,197,62,197,63,197,65,197,68,197,71,197,75,197,80,197,83,196,87,196,90,196,93,193,96,193,100,193,101,193,105,193,110,193,115,193,120,193,123,192,126,192,127,192,128,192,133,191,137,191,141,191,143,191,145,191,146,191,150,191,153,191,158,188,163,188,166,188,170,188,172,188,175,188,180,188,185,187,190,186,195,186,202,186,207,183,215,183,218,183,220,183,222,183,227,183,232,183,237,183,243,183,247,183,250,182,253,181,255,181,256,181,257,181,258,181,260,178,261,178,265,178,266,178,267,178,270,177,271,176,272,176,273,176,275,176,276,176,277,176,280,173,281,173,283,173,285,173,286,173,287,173,288,173,290,173,291,173,293,173,295,173,295,176,295,177,295,178,295,181,295,183,295,186,295,187,295,188,295,191,295,192,296,192,298,192,300,192,301,192,302,192,303,192,305,192,306,192,307,192,307,191,310,191,311,191,313,191,315,191,316,191,318,188,320,188,322,188,323,188,325,188,326,188,327,188,328,188,330,188,333,188,335,188,336,188,338,188,340,188,343,188,345,187,347,187,350,187,352,187,353,186,355,186,357,186,358,186,360,186,362,183,365,183,366,183,367,183,370,183,371,183,372,183,373,182,376,182,378,181,381,181,383,181,385,181,387,178,388,178,390,178,392,178,395,178,397,178,398,178,400,178,401,178,403,177,405,177,406,177,407,177,410,176,411,176,412,176,415,176,416,176,417,176,418,176,420,176,420,173,421,173,422,173,423,173,425,173,426,173,427,173,430,173,431,173,432,173,433,173,435,173,436,173,437,173,438,173,440,173,440,172,440,171,440,168,440,167,440,166,440,163,440,161,440,158,440,156,440,153,441,153,441,152,441,151,441,148,440,148,438,148,437,148,436,148,435,148,433,148,432,148,431,148,430,147,430,146,430,143,430,142,430,138,430,133,430,131,431,128,431,127,432,123,433,123,433,121,435,118,435,117,435,113,436,113,436,111,438,108,438,107,440,103,440,98,441,93,441,92,441,88,442,88,442,86,443,83,443,81,443,78,443,76,445,73,445,72,445,71,445,68,445,67,445,66,445,63,443,63,442,63,441,63,440,63,437,63,436,63,432,63,427,61,422,58,415,58,411,58,408,58,405,58,403,58,402,58,400,58,398,58,397,58,395,58,393,58,390,58,388,58,387,58,385,58,385,61,383,62,381,63,380,63,378,66,377,67,376,67,375,68,373,68,372,68,371,68,370,68,368,71,366,71,363,72,358,72,355,72,351,73,350,73,347,73,345,73,341,73,337,76,335,76,330,77,327,77,325,77,323,78,320,78,316,78,313,78,310,78,307,78,302,78,298,78,295,78,292,78,290,78,286,78,280,78,275,78,271,78,267,78,265,78,263,78,262,78,261,78,260,78,257,78,255,81,252,81,250,81,246,81,245,81,242,81,240,82,238,82,237,82,235,82,233,82,232,82,231,83,230,83,228,83,227,83,226,83,225,83,223,83,220,83,;3,2,1,50,473,50,476,50,478,48,478,48,481,48,482,47,483,46,483,46,486,45,486,45,487,45,488,43,488,41,488,41,491,40,491,40,492,38,493,36,493,35,493,33,493,32,493,31,493,30,493,28,493,28,496,27,497,27,498,26,498,25,498,25,501,25,502,25,503,25,506,25,507,25,508,26,508,27,508,28,508,28,511,28,512,30,513,31,513,32,513,33,513,35,513,36,513,37,513,38,513,38,516,40,516,40,517,41,517,41,518,42,518,42,521,45,523,45,526,45,527,45,528,45,531,45,532,45,533,45,536,45,537,45,538,46,541,47,542,48,543,50,543,51,543,52,546,52,547,53,548,55,548,56,548,56,551,57,552,58,552,58,553,60,553,61,553,62,556,63,556,63,557,65,557,66,557,67,558,68,558,70,558,71,558,72,558,73,558,75,558,77,558,81,558,83,558,85,558,87,558,91,558,95,558,96,558,97,558,100,558,102,558,105,558,106,558,107,558,108,558,110,558,111,558,115,557,116,557,117,557,118,556,120,556,121,556,122,556,125,553,126,553,127,553,130,552,130,551,131,551,132,548,133,548,135,548,135,547,136,546,136,543,137,543,138,542,138,541,140,541,140,538,141,537,142,536,143,533,145,533,145,532,145,531,146,531,146,528,147,528,148,527,150,526,150,523,151,523,151,522,151,521,151,516,152,516,153,513,155,513,156,513,157,513,158,513,158,512,160,512,160,511,161,508,162,507,162,506,162,503,162,502,163,501,163,498,163,496,162,496,161,493,160,493,157,493,156,493,155,493,153,493,152,493,150,493,150,492,148,492,147,492,145,491,145,488,142,488,141,488,140,488,140,487,138,487,138,483,138,482,138,478,138,477,138,476,138,473,137,472,136,472,135,472,133,472,132,472,128,472,125,472,122,472,117,472,115,472,112,472,110,472,108,472,106,472,105,472,103,473,100,473,98,473,96,473,93,473,92,473,91,473,90,473,87,473,85,473,83,473,81,473,78,473,77,473,75,473,73,473,71,473,70,473,68,473,67,473,66,473,;3,2,1,196,473,195,476,195,478,195,482,195,483,195,487,195,488,195,491,195,492,195,493,196,493,197,496,198,496,200,496,201,496,202,497,203,497,205,497,206,497,207,497,208,497,210,498,211,498,212,498,215,498,216,498,217,498,218,498,220,498,221,498,222,498,223,498,223,501,223,502,223,503,223,507,223,508,223,511,223,512,223,513,222,513,221,513,220,513,218,513,216,513,215,513,213,513,212,513,211,513,210,513,210,516,208,516,206,517,205,517,203,517,202,517,201,517,200,518,198,518,197,518,196,518,195,518,195,521,193,521,193,522,192,522,191,522,190,523,190,527,190,528,191,528,192,528,193,528,195,528,196,528,197,531,198,531,200,531,202,531,202,532,205,532,207,532,208,532,210,532,212,532,213,532,215,532,215,533,216,533,217,533,218,533,218,536,218,537,220,537,220,538,220,541,220,542,220,543,221,543,222,543,222,546,222,547,222,548,222,551,222,552,222,553,223,553,225,553,226,553,227,553,228,553,230,553,231,553,232,553,233,553,235,553,236,553,237,553,240,553,242,553,243,553,245,553,247,553,250,553,253,553,256,553,260,552,262,552,265,552,266,552,268,551,270,551,271,548,273,548,275,548,276,548,277,548,278,547,278,543,278,542,278,541,278,538,278,537,278,536,278,533,280,533,281,532,282,532,283,531,285,531,286,528,287,528,288,528,290,528,291,528,293,528,295,528,296,528,298,528,300,528,301,528,302,528,303,528,305,528,305,527,305,526,305,523,305,522,305,521,305,518,303,518,302,518,301,518,300,518,298,518,297,518,295,518,292,518,290,518,288,518,287,518,285,518,282,518,280,518,278,518,277,518,276,518,275,518,273,518,272,518,271,518,270,518,268,518,267,517,267,516,267,513,266,513,266,512,266,511,266,508,267,507,268,506,270,506,270,503,271,503,272,503,273,501,275,498,276,498,277,498,278,497,280,496,281,496,283,496,285,496,287,496,288,493,290,493,291,493,292,493,293,493,295,493,296,493,297,493,298,492,300,491,301,488,302,487,303,486,303,483,303,481,303,478,303,476,303,473,302,473,301,473,300,473,298,473,295,473,293,473,291,473,288,473,285,472,282,472,277,472,273,472,270,471,;3,2,1,338,476,338,477,338,478,338,483,337,486,336,488,336,491,336,493,335,496,335,498,335,501,335,502,335,503,333,503,333,506,333,507,332,508,332,511,332,512,332,513,332,517,332,518,332,522,332,523,332,526,331,527,331,528,331,531,331,532,332,532,332,533,333,533,335,533,336,533,338,533,340,533,341,533,342,533,343,533,345,533,346,533,347,533,348,533,350,533,351,533,353,533,355,533,356,533,358,533,358,536,358,537,358,538,358,541,358,542,358,543,360,543,360,546,360,547,360,548,361,551,361,552,362,552,362,553,362,556,362,557,363,558,365,558,366,558,367,558,370,558,372,558,373,558,375,558,377,558,380,558,382,558,386,558,390,558,391,558,392,558,392,557,395,557,400,557,402,556,403,556,405,556,407,553,410,553,411,553,412,553,413,553,415,553,416,553,417,553,418,553,420,553,420,552,420,551,421,548,421,547,422,543,422,541,422,538,422,537,422,536,422,533,422,532,423,532,425,532,426,531,427,531,430,531,431,531,433,528,435,528,437,528,438,528,440,528,441,528,442,528,445,528,446,528,447,528,447,526,447,523,447,521,447,518,447,516,447,513,447,511,447,508,447,506,447,503,447,501,447,498,447,496,447,493,447,491,447,488,447,486,447,483,447,482,447,481,447,478,447,477,447,476,446,476,;\",\"377,600,./magazine-covers_14_32_free.png:3,2,1,80,78,80,81,80,83,80,86,80,88,80,91,78,91,78,92,80,92,81,92,82,93,83,93,85,93,86,93,87,93,88,93,90,93,91,93,92,93,93,93,95,93,96,93,97,93,100,93,101,93,105,93,106,93,110,93,115,93,118,93,121,93,125,93,128,93,131,93,132,93,135,93,138,93,142,93,146,93,150,93,155,93,161,93,165,93,168,93,170,93,172,93,175,93,178,93,180,93,182,93,183,93,185,93,188,93,192,93,195,93,197,93,198,93,200,93,202,93,205,93,210,93,212,93,213,93,215,93,216,93,217,93,221,93,225,93,228,93,231,93,233,93,235,93,236,93,237,93,240,93,243,93,246,93,250,93,251,93,252,93,253,93,255,93,258,93,260,93,263,93,265,93,267,93,270,93,271,93,272,93,273,93,275,93,277,93,280,93,281,93,282,93,283,93,285,93,286,93,287,93,290,93,291,93,293,92,296,92,298,92,301,92,303,92,305,92,306,92,307,92,308,92,310,92,311,92,312,92,313,92,315,92,316,92,317,92,318,92,318,91,318,88,318,87,320,87,320,86,320,83,320,82,320,81,;3,2,1,97,248,97,251,97,253,97,256,97,258,97,262,97,263,97,268,96,273,96,276,95,278,95,281,95,283,95,288,95,291,95,293,93,296,93,298,92,301,92,303,92,306,92,308,92,311,92,313,92,318,92,321,92,323,92,328,92,333,92,337,92,338,92,342,92,343,92,346,93,348,93,352,95,353,95,357,95,358,95,361,95,362,95,363,95,366,95,367,96,367,96,368,97,368,98,368,100,368,100,371,101,371,102,371,103,371,105,371,106,371,107,371,108,371,110,371,111,371,115,371,118,371,122,371,126,371,130,368,131,368,135,368,140,368,143,368,146,368,150,368,152,368,153,368,155,368,157,368,160,368,161,368,162,368,165,368,166,368,167,368,170,368,172,368,175,368,176,368,178,368,180,368,182,368,185,368,187,368,188,368,190,368,192,368,195,368,197,368,198,368,200,368,202,368,205,368,207,368,210,368,212,368,215,368,216,368,217,368,220,368,222,368,226,368,230,368,235,368,237,368,240,368,241,368,243,368,245,368,247,368,251,368,255,368,257,368,260,368,263,368,266,368,268,368,270,368,271,368,275,368,276,368,280,368,281,368,282,368,283,371,285,371,286,371,287,371,288,371,290,371,291,371,293,371,295,371,297,371,298,371,298,368,300,368,300,366,300,363,300,361,301,358,301,357,301,353,301,352,301,348,301,347,301,343,301,342,301,341,301,338,301,337,301,333,301,331,301,328,302,327,302,326,303,323,303,321,305,318,305,316,305,312,305,308,306,303,306,302,307,298,307,297,308,293,308,288,308,287,308,283,308,281,308,278,308,276,308,273,308,272,308,268,308,266,308,263,308,261,308,258,308,257,308,253,308,252,308,251,308,248,307,247,307,246,307,243,306,243,305,243,305,246,305,247,303,248,;3,2,1,90,521,90,522,90,523,90,526,90,527,90,528,90,531,88,531,88,533,87,533,87,536,87,537,87,538,87,541,88,541,88,542,90,542,90,543,91,543,93,543,95,543,97,543,100,543,101,543,102,543,103,543,105,543,106,543,107,543,110,543,113,543,118,543,123,543,130,543,135,543,141,543,145,543,150,542,155,542,158,542,163,541,166,541,170,541,172,541,177,541,180,541,182,541,185,541,187,541,190,541,193,541,196,541,200,541,205,541,207,541,210,541,211,541,212,541,215,541,217,541,220,541,222,541,225,541,226,541,228,541,230,541,232,541,235,541,240,541,241,541,243,541,245,541,246,541,250,541,251,541,253,541,255,541,256,541,260,538,261,538,263,538,265,538,268,538,270,538,271,538,273,538,275,538,277,538,280,538,283,538,285,538,286,538,287,538,290,538,291,538,293,538,295,538,296,538,298,538,300,538,301,538,303,538,305,537,306,537,307,537,308,537,310,537,310,536,311,536,311,528,311,527,311,526,310,526,310,523,;\"]],\"feedback\":\"\"}</FreeText></Answer><Answer><QuestionIdentifier>feedback</QuestionIdentifier><FreeText/></Answer></QuestionFormAnswers>'}\n",
      "3IZVJEBJ6A1N1ZA1JUVRWZV25FYZ63\n",
      "[]\n",
      "3WRKFXQBOBO3PTVXP92XFVC58COYI4\n",
      "[{'AssignmentId': '3KGTPGBS6Y2LJJVKG7PIEEVSVUTU2M', 'WorkerId': 'ACUP2HVXGZY46', 'HITId': '3WRKFXQBOBO3PTVXP92XFVC58COYI4', 'AssignmentStatus': 'Approved', 'AutoApprovalTime': datetime.datetime(2018, 11, 29, 18, 37, 45, tzinfo=tzlocal()), 'AcceptTime': datetime.datetime(2018, 11, 22, 18, 37, 13, tzinfo=tzlocal()), 'SubmitTime': datetime.datetime(2018, 11, 22, 18, 37, 45, tzinfo=tzlocal()), 'ApprovalTime': datetime.datetime(2018, 11, 27, 16, 11, 29, tzinfo=tzlocal()), 'Answer': '<?xml version=\"1.0\" encoding=\"ASCII\"?><QuestionFormAnswers xmlns=\"http://mechanicalturk.amazonaws.com/AWSMechanicalTurkDataSchemas/2005-10-01/QuestionFormAnswers.xsd\"><Answer><QuestionIdentifier>workerId</QuestionIdentifier><FreeText>ACUP2HVXGZY46</FreeText></Answer><Answer><QuestionIdentifier>results</QuestionIdentifier><FreeText>{\"inputs\":{\"1\":[\"get_flash_player.gif\",\"demo.gif\"],\"2\":[\"get_flash_player.gif\",\"get_flash_player.gif\"]},\"outputs\":[[\"240,600,./infographics_1_0_free.png:3,2,1,121,22,118,23,115,26,112,28,108,33,106,38,103,43,101,48,100,53,100,58,100,62,100,67,101,72,106,77,111,81,117,83,123,83,128,86,133,87,137,87,141,87,145,87,146,86,153,77,156,73,157,68,157,63,158,58,158,53,158,47,158,42,158,36,158,32,156,28,155,26,152,23,151,23,148,22,146,21,143,18,141,18,140,18,137,18,136,18,;\",\"464,600,./magazine-covers_14_31_free.png:3,2,1,50,78,50,80,51,83,51,93,51,108,51,125,51,141,51,158,52,171,53,180,55,188,55,195,55,200,56,203,56,205,57,205,66,203,82,203,111,201,146,198,186,198,232,195,278,191,321,188,356,186,383,186,398,186,406,186,410,185,410,183,411,183,412,183,415,181,416,181,416,180,417,180,418,180,421,178,423,176,427,176,431,176,436,176,438,176,441,176,443,176,445,176,446,176,447,176,448,176,451,176,452,176,452,175,452,173,452,166,452,153,452,138,452,118,451,101,451,86,448,76,448,66,446,61,446,56,446,51,446,46,446,45,;\",\"377,600,./magazine-covers_14_32_free.png:3,2,1,82,93,83,93,86,93,91,91,96,91,105,91,115,91,131,91,151,93,176,96,203,98,227,101,246,103,262,103,273,103,281,103,286,103,292,103,298,103,305,103,312,103,322,101,330,101,336,101,340,101,340,100,338,98,337,98,336,96,332,93,330,91,326,88,323,85,321,81,318,80,318,78,317,78,316,78,316,76,315,76,313,76,313,75,313,73,;\"]],\"feedback\":\"\"}</FreeText></Answer><Answer><QuestionIdentifier>feedback</QuestionIdentifier><FreeText/></Answer></QuestionFormAnswers>'}]\n",
      "{'AssignmentId': '3KGTPGBS6Y2LJJVKG7PIEEVSVUTU2M', 'WorkerId': 'ACUP2HVXGZY46', 'HITId': '3WRKFXQBOBO3PTVXP92XFVC58COYI4', 'AssignmentStatus': 'Approved', 'AutoApprovalTime': datetime.datetime(2018, 11, 29, 18, 37, 45, tzinfo=tzlocal()), 'AcceptTime': datetime.datetime(2018, 11, 22, 18, 37, 13, tzinfo=tzlocal()), 'SubmitTime': datetime.datetime(2018, 11, 22, 18, 37, 45, tzinfo=tzlocal()), 'ApprovalTime': datetime.datetime(2018, 11, 27, 16, 11, 29, tzinfo=tzlocal()), 'Answer': '<?xml version=\"1.0\" encoding=\"ASCII\"?><QuestionFormAnswers xmlns=\"http://mechanicalturk.amazonaws.com/AWSMechanicalTurkDataSchemas/2005-10-01/QuestionFormAnswers.xsd\"><Answer><QuestionIdentifier>workerId</QuestionIdentifier><FreeText>ACUP2HVXGZY46</FreeText></Answer><Answer><QuestionIdentifier>results</QuestionIdentifier><FreeText>{\"inputs\":{\"1\":[\"get_flash_player.gif\",\"demo.gif\"],\"2\":[\"get_flash_player.gif\",\"get_flash_player.gif\"]},\"outputs\":[[\"240,600,./infographics_1_0_free.png:3,2,1,121,22,118,23,115,26,112,28,108,33,106,38,103,43,101,48,100,53,100,58,100,62,100,67,101,72,106,77,111,81,117,83,123,83,128,86,133,87,137,87,141,87,145,87,146,86,153,77,156,73,157,68,157,63,158,58,158,53,158,47,158,42,158,36,158,32,156,28,155,26,152,23,151,23,148,22,146,21,143,18,141,18,140,18,137,18,136,18,;\",\"464,600,./magazine-covers_14_31_free.png:3,2,1,50,78,50,80,51,83,51,93,51,108,51,125,51,141,51,158,52,171,53,180,55,188,55,195,55,200,56,203,56,205,57,205,66,203,82,203,111,201,146,198,186,198,232,195,278,191,321,188,356,186,383,186,398,186,406,186,410,185,410,183,411,183,412,183,415,181,416,181,416,180,417,180,418,180,421,178,423,176,427,176,431,176,436,176,438,176,441,176,443,176,445,176,446,176,447,176,448,176,451,176,452,176,452,175,452,173,452,166,452,153,452,138,452,118,451,101,451,86,448,76,448,66,446,61,446,56,446,51,446,46,446,45,;\",\"377,600,./magazine-covers_14_32_free.png:3,2,1,82,93,83,93,86,93,91,91,96,91,105,91,115,91,131,91,151,93,176,96,203,98,227,101,246,103,262,103,273,103,281,103,286,103,292,103,298,103,305,103,312,103,322,101,330,101,336,101,340,101,340,100,338,98,337,98,336,96,332,93,330,91,326,88,323,85,321,81,318,80,318,78,317,78,316,78,316,76,315,76,313,76,313,75,313,73,;\"]],\"feedback\":\"\"}</FreeText></Answer><Answer><QuestionIdentifier>feedback</QuestionIdentifier><FreeText/></Answer></QuestionFormAnswers>'}\n"
     ]
    },
    {
     "name": "stdout",
     "output_type": "stream",
     "text": [
      "3KG2UQJ0MJ5MUSF2VFYV7H5KV21NQ6\n",
      "[{'AssignmentId': '31IBVUNM9TG5XSWW9SEUUJR0I68FVJ', 'WorkerId': 'ACUP2HVXGZY46', 'HITId': '3KG2UQJ0MJ5MUSF2VFYV7H5KV21NQ6', 'AssignmentStatus': 'Approved', 'AutoApprovalTime': datetime.datetime(2018, 11, 29, 21, 53, 28, tzinfo=tzlocal()), 'AcceptTime': datetime.datetime(2018, 11, 22, 21, 50, 12, tzinfo=tzlocal()), 'SubmitTime': datetime.datetime(2018, 11, 22, 21, 53, 28, tzinfo=tzlocal()), 'ApprovalTime': datetime.datetime(2018, 11, 27, 16, 11, 29, tzinfo=tzlocal()), 'Answer': '<?xml version=\"1.0\" encoding=\"ASCII\"?><QuestionFormAnswers xmlns=\"http://mechanicalturk.amazonaws.com/AWSMechanicalTurkDataSchemas/2005-10-01/QuestionFormAnswers.xsd\"><Answer><QuestionIdentifier>workerId</QuestionIdentifier><FreeText>ACUP2HVXGZY46</FreeText></Answer><Answer><QuestionIdentifier>results</QuestionIdentifier><FreeText>{\"inputs\":{\"1\":[\"get_flash_player.gif\",\"demo.gif\"],\"2\":[\"get_flash_player.gif\",\"get_flash_player.gif\"]},\"outputs\":[[\"240,600,./infographics_1_0_free.png:3,2,1,123,21,122,21,121,21,120,23,118,23,117,23,116,26,115,26,112,28,111,28,111,30,111,31,110,31,108,31,107,33,106,36,106,38,105,38,103,41,102,41,102,43,101,46,101,48,101,50,101,51,101,53,101,55,101,56,101,58,102,60,103,61,105,63,106,63,106,65,107,66,108,68,110,68,111,68,111,70,113,70,115,70,116,71,117,71,118,71,120,71,121,73,122,73,123,73,125,73,126,73,127,73,128,73,130,73,131,73,132,73,133,73,136,73,137,73,138,73,140,73,141,73,142,73,143,73,146,73,146,71,147,71,148,70,150,68,151,66,151,65,152,63,153,61,155,60,156,58,156,56,156,53,157,51,157,50,158,48,158,46,158,45,158,43,158,41,158,40,158,38,158,36,157,35,156,33,156,31,155,31,153,31,153,30,151,30,151,28,150,28,148,26,147,26,146,26,145,26,143,26,142,25,141,25,140,23,138,23,137,23,136,23,135,23,133,23,132,23,132,21,131,21,130,21,;3,2,1,36,83,37,83,40,83,41,83,42,83,45,83,46,83,47,83,50,83,51,83,52,83,53,83,55,83,56,83,57,83,60,83,61,83,62,83,63,83,65,83,66,83,67,83,68,83,70,83,72,83,75,83,77,83,82,83,86,83,88,83,90,83,91,83,92,83,96,83,103,83,115,83,126,83,138,83,147,83,153,83,156,83,157,83,158,83,160,83,165,83,172,81,180,81,187,81,195,81,201,81,203,81,206,81,208,80,211,80,215,80,222,80,231,80,237,80,243,80,251,80,253,80,252,80,251,81,250,81,246,81,245,83,241,83,238,83,236,85,235,85,231,85,230,85,227,86,226,86,225,86,223,88,222,88,221,88,221,90,221,91,220,91,220,93,220,95,218,95,218,96,217,96,217,98,217,100,217,101,218,101,220,101,221,101,222,101,221,101,221,103,220,103,217,103,215,103,212,103,210,103,207,103,205,103,201,103,196,103,190,105,181,105,175,105,167,106,166,106,161,106,158,106,156,106,148,106,141,106,132,105,123,105,117,105,111,103,106,103,103,103,101,103,100,103,96,103,93,103,90,103,86,103,85,103,81,103,80,103,78,103,76,103,73,101,70,101,66,101,61,101,58,101,55,100,53,100,51,100,50,100,48,100,47,100,47,98,46,98,43,98,42,98,40,98,38,98,37,98,36,98,35,98,33,98,33,96,32,96,32,95,32,93,31,91,31,90,31,88,31,86,;3,2,1,38,130,37,130,36,130,36,131,35,131,33,133,31,133,30,133,28,135,26,135,25,136,23,136,21,138,20,138,18,140,16,140,15,141,12,143,11,145,8,146,7,148,7,150,7,151,7,153,7,155,10,156,11,158,12,160,15,161,17,161,20,163,21,163,22,165,25,165,26,166,27,166,30,166,31,166,32,166,33,166,35,166,36,168,40,168,41,168,46,168,48,168,51,168,55,168,56,168,58,168,61,168,65,168,66,166,68,166,70,165,71,163,71,161,71,158,71,156,67,153,66,151,63,148,61,145,57,143,56,138,52,136,50,133,48,133,47,133,47,131,46,131,45,131,42,131,41,131,40,131,38,133,;3,2,1,36,178,36,176,35,176,33,176,32,178,31,178,28,180,26,181,25,183,23,185,21,185,21,186,20,186,18,188,18,190,17,191,16,193,16,195,16,196,16,198,16,200,16,201,17,203,18,203,20,203,20,205,21,206,22,206,23,206,25,208,26,208,26,210,27,210,28,210,30,211,31,211,32,211,33,211,35,211,36,211,37,211,40,213,41,213,45,213,46,213,47,213,50,213,51,213,53,213,55,213,56,211,58,208,61,206,61,203,62,200,63,198,65,193,65,191,65,188,65,186,65,183,62,183,61,181,60,181,57,180,56,178,53,178,51,176,50,176,47,176,46,176,45,176,42,176,41,176,38,176,37,176,36,176,36,178,;3,2,1,32,228,31,228,28,230,28,231,26,231,26,233,25,235,25,236,23,236,22,238,21,238,21,240,21,241,21,243,21,245,21,246,21,248,21,250,21,251,22,251,22,253,23,253,25,253,25,256,26,256,27,256,28,258,30,258,31,258,32,260,33,261,35,261,36,261,37,261,38,261,40,261,41,261,45,261,46,260,47,258,50,258,51,256,52,256,53,255,55,253,56,251,57,250,58,248,60,246,60,245,60,243,61,241,61,240,61,236,61,235,61,233,60,231,57,231,56,230,53,228,52,226,51,226,48,226,47,225,46,225,45,225,43,225,42,225,41,225,40,225,38,225,36,226,;3,2,1,41,320,41,318,41,316,41,315,;3,2,1,42,268,41,268,40,270,37,271,36,271,33,273,31,273,30,273,27,275,27,276,26,278,25,281,23,283,23,286,23,288,23,291,23,293,23,295,23,296,23,298,23,300,23,301,23,303,25,305,25,306,26,306,27,306,28,306,30,308,31,308,32,308,33,308,35,308,36,308,37,310,38,310,40,310,41,310,42,311,43,311,45,311,46,311,47,311,50,311,51,311,52,311,53,311,55,311,56,310,57,308,58,306,60,306,61,305,61,303,61,301,62,300,63,298,63,296,63,295,63,293,63,291,63,290,63,288,63,286,63,285,63,283,62,281,62,280,61,278,60,276,58,276,57,275,56,275,53,273,51,273,50,273,47,273,46,273,45,271,43,271,;3,2,1,41,320,40,320,38,320,37,320,36,320,32,320,31,321,28,321,27,321,26,323,25,323,23,325,23,326,22,328,22,330,21,331,21,333,21,335,21,336,21,338,21,341,22,341,22,343,23,343,25,343,26,345,26,346,28,346,30,346,31,348,33,348,35,348,36,350,37,351,38,351,40,351,41,351,42,351,43,351,45,351,46,351,47,353,50,353,51,353,53,353,55,351,56,351,57,350,58,348,60,346,60,345,61,343,61,341,61,338,61,336,61,333,60,333,60,331,60,330,58,330,57,328,57,326,56,326,55,325,52,325,51,325,50,323,47,323,46,323,;3,2,1,36,368,33,368,32,368,31,371,28,373,26,373,23,377,21,378,21,381,21,383,22,387,25,388,26,391,28,393,31,393,32,393,35,396,36,396,37,397,38,397,40,398,41,398,42,398,45,398,46,398,50,398,51,398,52,398,53,397,55,396,56,393,56,392,56,391,57,388,58,387,58,383,58,382,58,378,58,377,58,373,57,372,56,368,55,368,52,368,51,368,48,368,47,368,46,367,43,367,42,367,;3,2,1,33,413,32,413,31,417,28,418,26,423,26,426,23,428,23,432,22,433,22,437,22,438,21,438,21,442,21,443,21,446,21,448,22,448,25,448,26,448,27,451,30,452,31,452,32,452,35,452,36,452,38,452,40,452,42,452,45,452,46,451,50,448,51,448,53,448,56,448,57,447,60,446,61,443,63,441,65,438,66,437,66,433,66,431,66,427,65,423,62,421,61,418,61,417,58,416,57,416,56,413,52,413,51,413,47,413,46,413,43,413,42,413,41,413,;3,2,1,31,453,31,456,31,458,31,461,30,463,28,463,27,467,26,468,26,472,26,473,25,473,25,476,23,477,23,478,23,481,23,482,23,483,25,487,26,488,27,488,28,488,30,491,31,492,32,492,33,492,35,492,36,492,37,492,40,492,41,492,43,492,45,492,46,492,48,492,50,491,51,488,53,488,55,487,56,486,56,483,57,481,58,478,58,476,58,473,58,471,57,467,57,463,56,463,55,461,52,461,51,461,50,461,48,461,47,461,46,458,45,458,43,458,;3,2,1,36,511,35,511,33,511,33,512,32,512,31,513,30,513,28,517,26,518,26,522,23,523,23,526,22,528,22,531,22,532,25,533,26,533,27,536,30,536,31,537,32,537,32,538,35,538,36,538,37,538,38,538,40,538,41,538,42,538,45,538,46,538,47,537,50,537,51,537,52,533,53,533,55,533,56,533,56,532,57,531,57,528,57,527,57,523,57,521,56,518,55,513,53,513,52,512,52,511,51,508,50,508,47,508,46,508,45,508,43,508,42,508,;3,2,1,36,552,35,552,33,552,33,553,32,553,31,557,30,558,28,561,27,563,26,563,26,566,23,568,22,571,22,572,22,573,22,576,23,576,25,578,26,578,27,581,30,582,31,583,32,583,33,586,35,586,36,587,37,588,38,588,40,588,41,588,42,588,43,588,45,588,46,588,47,588,50,588,51,588,52,588,55,588,56,588,57,587,60,583,60,578,60,577,61,573,61,572,61,568,61,566,60,563,58,563,57,563,57,562,56,562,56,561,53,558,52,558,51,558,50,557,47,557,46,553,45,553,43,553,;\",\"464,600,./magazine-covers_14_31_free.png:3,2,1,48,83,48,86,48,87,48,88,48,91,48,93,48,97,47,98,47,101,46,101,46,102,46,103,47,106,47,107,48,107,50,107,51,107,52,107,52,108,53,108,55,108,56,108,57,108,58,108,60,108,61,108,62,108,63,108,65,108,66,108,67,108,68,108,70,108,68,108,68,112,66,112,66,113,65,113,65,116,63,116,63,117,63,118,62,118,61,118,61,121,61,122,60,123,58,126,58,127,58,128,57,128,57,132,57,133,56,133,56,136,56,137,56,138,56,141,56,142,55,143,53,143,53,146,53,148,52,151,51,153,51,156,51,158,50,161,50,162,48,163,48,166,48,167,48,168,48,171,48,173,47,176,47,177,47,178,47,181,47,182,47,183,47,186,47,187,47,188,47,191,47,192,48,192,48,193,50,193,51,193,51,196,52,196,53,196,53,197,55,198,56,198,57,198,58,198,60,198,61,198,62,198,63,198,65,198,66,198,67,198,68,198,70,198,70,197,71,197,72,197,72,196,73,193,75,193,76,192,76,191,76,188,77,188,77,187,77,186,78,183,80,183,80,182,80,181,80,178,80,177,80,176,80,173,80,172,80,171,80,168,81,168,82,168,83,168,85,168,86,168,87,168,88,168,90,168,91,168,93,168,95,168,96,168,96,167,97,167,100,167,101,166,101,163,102,163,103,163,105,163,106,163,107,163,108,162,110,162,111,162,111,161,111,158,112,158,113,158,115,158,115,157,116,157,116,158,116,161,116,162,116,163,116,166,116,168,116,171,116,172,116,173,116,176,116,178,115,178,115,181,115,182,115,183,115,186,116,186,117,186,118,186,120,186,121,186,123,186,126,186,127,186,130,186,131,186,132,186,133,186,135,186,136,186,138,186,140,183,141,183,143,183,145,183,146,183,148,182,150,182,151,182,152,181,153,181,153,178,155,178,156,178,156,177,157,177,157,173,158,173,158,172,162,172,166,171,170,168,173,168,175,167,176,167,177,167,178,168,178,171,180,171,181,171,181,172,181,173,185,173,186,173,187,176,188,176,191,176,191,177,192,177,195,177,196,177,197,177,198,177,201,177,202,176,205,173,206,173,207,172,208,172,210,171,211,168,212,168,213,168,215,167,216,167,218,167,225,166,230,163,233,163,236,163,235,163,233,163,232,163,231,166,230,166,228,166,228,167,227,167,227,168,226,168,225,171,225,172,223,173,223,176,223,177,225,177,226,177,227,178,228,178,231,178,232,178,233,178,235,178,236,178,236,177,237,177,238,177,240,177,240,176,241,173,242,173,242,172,243,172,245,171,245,168,246,168,246,167,246,166,246,163,247,162,247,161,247,158,248,158,250,158,251,158,251,157,252,157,253,157,255,157,256,157,256,158,257,158,258,158,260,161,260,162,261,163,262,163,263,163,265,163,266,163,267,166,270,166,271,166,272,166,273,166,275,166,276,166,277,166,278,166,280,166,281,166,282,166,283,166,285,166,286,166,287,166,288,166,290,166,291,166,292,166,293,166,296,166,297,166,298,166,301,163,303,163,306,163,307,163,308,163,310,163,311,163,312,163,313,163,315,163,316,163,318,163,322,163,326,163,328,163,328,162,330,162,331,162,333,162,336,162,338,162,340,162,341,162,343,162,346,162,351,162,353,162,357,162,361,162,362,162,365,162,366,162,367,162,371,161,372,158,375,158,376,158,377,158,378,158,380,158,381,158,383,158,385,158,386,158,387,158,388,158,390,158,391,158,392,158,393,158,397,158,402,158,408,158,412,158,416,157,418,157,420,157,421,157,425,156,426,156,428,153,430,153,431,153,432,153,435,153,436,153,436,152,437,151,438,148,440,148,441,147,441,146,441,143,441,142,441,141,441,138,441,137,441,133,441,132,440,128,440,127,438,123,438,121,438,118,438,116,438,113,438,108,438,103,438,101,438,96,440,93,440,88,440,87,440,83,441,81,441,78,441,76,441,73,441,71,441,68,441,66,441,63,441,61,440,58,438,58,437,57,437,56,436,56,435,56,432,56,430,56,426,56,423,56,421,56,418,56,417,56,416,56,416,57,413,57,411,58,408,58,405,58,401,58,396,58,392,58,388,58,386,58,383,58,382,61,378,61,376,62,371,63,366,63,363,63,360,63,356,63,355,63,351,66,350,66,346,67,345,68,342,68,341,68,340,68,337,68,336,68,336,71,335,72,333,73,332,73,331,77,331,78,330,81,328,82,328,83,327,83,326,83,326,86,326,87,325,87,322,87,321,87,318,87,316,86,315,83,313,83,312,81,312,78,312,77,312,76,312,73,311,73,310,73,308,73,307,73,306,73,305,73,302,73,301,77,298,78,296,83,295,83,295,87,295,88,293,88,292,88,292,91,292,92,291,93,290,96,287,97,286,98,285,101,281,102,280,103,278,103,277,103,276,103,275,103,273,101,272,98,272,96,272,93,271,92,271,91,271,88,270,87,268,86,267,83,266,82,265,81,262,81,261,81,261,78,260,78,258,78,257,78,256,78,255,78,253,78,252,78,251,78,248,78,246,78,241,78,238,81,236,82,235,83,232,83,231,87,231,88,230,88,228,92,228,93,227,93,226,96,226,97,225,97,223,97,222,97,220,97,218,96,216,96,216,93,215,93,215,92,215,91,216,88,217,88,221,87,223,86,226,83,228,83,231,83,232,83,232,82,232,81,232,78,232,76,232,73,232,72,231,68,230,66,228,63,227,62,227,61,226,61,225,61,223,61,222,61,221,61,218,61,213,61,211,61,207,61,206,61,203,61,201,61,197,62,195,62,191,62,186,63,182,63,180,63,177,63,176,63,175,63,171,63,168,63,163,63,158,66,155,66,151,67,150,67,148,67,147,68,146,68,143,68,141,68,137,68,136,68,135,68,133,68,132,68,130,68,126,68,121,68,116,68,110,68,106,68,101,68,97,68,93,68,90,68,86,68,80,71,76,72,71,72,68,72,66,72,62,72,58,73,56,73,53,73,51,73,48,73,48,76,48,77,48,78,50,81,51,82,52,82,52,83,52,86,51,87,50,88,48,88,47,88,46,91,46,92,46,93,46,96,46,97,46,98,46,101,46,102,46,103,47,106,47,107,48,108,50,108,51,108,52,108,55,108,56,108,58,108,60,108,61,108,;3,2,1,290,163,290,166,290,168,288,168,288,173,288,177,288,178,288,182,287,183,287,186,287,187,287,188,288,188,288,191,290,191,290,192,291,192,292,193,293,193,295,193,296,193,298,193,300,196,301,196,302,197,305,197,306,197,307,197,308,197,310,197,311,197,315,197,317,196,318,193,321,193,323,192,326,191,327,188,328,188,331,188,332,188,335,188,336,188,338,188,341,188,343,188,346,188,350,188,352,188,355,188,356,188,358,188,361,187,363,187,366,186,370,186,372,186,375,186,377,186,380,183,381,183,385,183,386,183,390,183,391,183,395,183,397,183,401,183,402,183,406,183,407,183,410,183,411,183,416,183,418,183,422,183,426,183,426,182,428,182,431,181,433,181,435,181,436,181,438,181,441,178,442,178,443,178,445,178,446,178,447,178,448,177,448,176,450,173,450,172,450,171,450,168,450,166,450,163,450,161,450,158,450,157,450,156,450,153,448,152,448,151,447,151,446,151,446,148,445,148,443,148,442,148,441,151,;3,2,1,48,473,47,473,47,476,46,478,46,481,46,483,46,487,46,488,46,491,46,492,46,493,45,493,43,493,42,493,41,493,38,496,36,498,33,498,32,498,31,498,31,501,30,501,30,502,28,502,28,503,27,503,27,506,27,507,26,507,26,508,26,511,26,512,26,513,27,513,28,513,31,516,32,516,33,517,36,517,37,517,38,517,40,517,41,517,42,517,43,516,45,516,46,516,46,513,47,513,48,513,48,516,48,517,48,518,48,522,48,523,48,526,48,527,48,528,48,531,48,532,48,533,50,533,50,536,51,537,51,538,52,538,52,541,53,542,55,543,56,543,57,543,58,543,60,543,60,546,61,546,61,547,62,547,63,547,65,547,66,547,66,548,67,548,68,548,70,548,71,548,72,548,73,548,75,548,76,548,77,548,78,548,81,551,83,551,85,551,86,552,87,552,88,552,90,552,91,552,92,552,93,552,95,552,96,552,97,552,100,552,101,552,102,552,105,552,106,552,107,552,110,552,111,552,115,551,117,548,121,548,123,548,126,548,128,547,131,543,132,538,133,538,135,536,136,533,138,532,138,531,138,528,141,528,142,526,143,523,146,523,146,521,148,518,151,517,151,516,151,513,152,513,153,513,153,512,155,511,156,508,156,507,157,506,157,503,158,503,158,502,158,501,158,498,158,496,158,493,158,492,158,491,156,488,155,488,153,488,152,488,151,488,150,488,148,488,146,487,146,486,143,483,142,483,141,481,140,478,140,477,138,476,138,473,137,473,137,472,136,472,132,472,130,471,123,471,118,471,115,468,111,468,107,468,106,468,105,468,102,468,101,468,97,468,96,468,93,468,91,468,86,468,82,471,78,471,76,471,73,471,71,471,70,471,68,471,66,471,63,471,61,471,60,471,58,471,57,471,56,472,53,472,52,472,;3,2,1,203,473,202,473,201,473,201,476,200,476,198,478,197,478,196,478,196,481,195,483,195,486,193,488,193,491,193,492,193,493,195,496,196,496,197,496,198,496,198,497,200,497,201,497,202,497,203,497,206,497,206,498,207,498,208,498,210,498,211,498,212,498,215,498,216,498,218,501,221,501,223,501,223,502,223,503,223,506,223,507,222,508,221,508,221,511,221,513,221,516,221,517,220,518,218,518,217,518,216,518,212,518,210,518,207,518,206,518,205,521,203,521,201,522,200,523,197,523,196,523,195,523,193,523,192,523,191,526,191,527,190,528,190,531,190,532,191,533,193,536,195,538,196,538,197,538,198,542,201,542,201,543,203,543,205,543,205,546,206,546,206,547,207,547,208,547,210,547,211,547,212,548,213,548,215,548,216,551,217,552,218,553,220,553,221,556,221,557,222,558,223,558,225,558,226,561,227,562,231,562,235,563,237,563,241,563,243,563,246,563,247,563,248,563,251,563,253,563,256,563,257,563,260,563,261,563,262,563,263,563,266,563,266,562,267,561,267,558,268,558,270,558,271,557,271,556,272,556,272,553,273,553,275,553,276,553,276,551,277,551,278,548,280,548,281,546,282,543,283,541,285,541,285,538,285,536,285,533,285,532,285,531,286,528,287,528,288,527,290,527,290,526,291,526,292,526,293,526,295,523,296,523,297,523,298,523,300,523,301,523,301,522,302,521,302,518,302,516,302,513,301,513,298,513,297,513,295,513,291,512,288,512,286,512,285,512,283,512,282,512,281,511,278,508,276,508,276,507,273,506,273,503,271,503,271,502,271,501,271,498,273,498,276,497,280,497,282,496,285,496,286,496,287,493,290,493,291,493,292,493,293,493,295,493,296,493,297,493,298,492,300,488,300,487,300,483,300,482,300,478,300,477,298,473,297,472,296,471,293,468,291,468,290,468,286,468,282,468,278,468,275,468,271,468,266,468,262,468,258,468,253,468,248,468,243,468,240,468,235,468,231,468,228,468,227,468,;3,2,1,338,472,338,473,337,478,337,482,336,483,336,488,336,492,336,493,336,497,336,498,336,503,336,506,336,508,336,511,336,513,336,516,336,517,336,518,336,521,336,522,336,523,337,526,340,526,340,528,341,528,341,531,342,531,343,532,343,533,345,533,346,533,346,536,347,537,347,538,348,538,350,538,351,538,352,538,353,538,353,541,355,541,356,542,356,543,357,543,358,546,358,547,358,548,360,548,361,551,361,552,361,553,361,556,362,556,363,556,363,557,366,557,366,558,367,558,368,558,370,561,371,561,373,561,376,562,377,562,381,562,383,563,386,563,388,563,390,563,391,563,392,563,393,563,396,563,396,562,397,562,398,562,398,561,400,558,401,558,402,558,403,558,405,558,406,557,407,557,408,557,410,557,411,556,411,553,412,553,413,553,415,553,416,553,417,553,418,553,420,553,421,552,422,552,422,551,423,548,425,548,426,546,426,543,427,542,428,538,430,537,430,536,430,533,431,533,431,532,433,532,436,528,441,528,446,528,450,528,451,528,452,528,452,527,452,526,453,523,453,522,453,518,453,517,453,513,453,512,453,511,453,508,453,507,453,506,453,503,453,501,453,498,452,493,452,492,451,488,451,486,451,483,450,482,448,481,448,478,447,478,446,478,445,478,443,478,442,478,441,478,440,477,438,477,437,477,436,477,436,476,436,473,437,473,438,473,;\",\"377,600,./magazine-covers_14_32_free.png:3,2,1,78,73,80,73,81,73,82,73,83,73,83,76,82,76,81,77,81,78,80,78,77,81,77,82,76,83,76,86,76,87,76,88,76,91,76,92,76,93,76,96,77,97,78,98,80,98,81,98,82,101,83,101,85,101,86,101,87,101,88,102,91,102,92,102,93,103,95,103,96,103,97,103,100,103,101,103,102,103,105,103,107,103,111,103,112,103,116,103,118,103,121,103,122,103,123,103,125,103,126,103,130,103,132,103,135,103,136,103,137,103,141,103,142,103,143,103,146,103,147,103,150,103,151,103,153,103,156,103,158,103,160,106,162,106,165,106,166,106,167,106,171,106,173,106,176,106,180,106,182,106,186,106,190,107,191,107,192,108,193,108,195,108,196,108,197,108,201,108,205,108,206,108,210,108,211,108,213,108,216,108,217,108,220,108,221,108,225,108,227,108,231,108,233,108,238,108,241,108,246,108,248,108,251,108,252,107,253,107,256,107,260,107,263,107,268,107,275,107,278,107,282,107,286,107,287,107,291,107,292,107,295,107,296,107,297,107,298,107,298,106,301,106,302,103,303,103,306,103,306,102,307,102,308,102,310,102,311,101,311,98,312,98,313,98,315,98,316,98,317,98,318,98,320,97,321,96,321,93,322,93,323,93,325,92,325,91,325,88,325,87,325,86,325,83,325,82,325,81,325,78,325,77,323,77,323,76,323,73,;3,2,1,100,247,100,248,100,251,98,252,98,253,97,253,96,257,96,258,95,258,93,258,93,261,93,262,92,263,91,263,91,267,91,268,90,268,90,271,90,272,90,273,90,276,90,277,90,278,90,281,88,282,88,283,87,283,87,286,87,287,87,288,86,288,86,291,86,292,86,293,86,297,86,298,85,298,85,301,85,302,85,303,85,306,85,308,85,311,85,312,85,313,85,316,85,318,83,318,83,321,83,323,82,326,81,328,81,331,81,333,81,336,81,338,80,338,80,341,80,343,80,346,80,348,80,351,80,353,80,356,80,357,80,358,80,361,80,362,80,363,81,363,81,366,81,367,82,368,83,368,85,368,86,368,86,371,86,372,88,373,90,373,91,373,92,373,93,373,95,373,96,373,97,373,98,373,101,373,103,373,107,373,111,373,112,373,116,373,117,373,118,373,121,373,123,373,126,373,130,373,132,373,136,373,137,373,140,373,141,373,145,373,147,373,151,373,152,373,156,373,158,373,160,373,161,373,163,373,166,373,167,373,170,373,173,373,176,373,180,373,182,373,185,373,186,373,188,373,190,372,192,372,196,372,197,371,200,371,201,371,202,371,205,371,206,371,206,368,207,368,208,368,211,368,212,368,215,368,216,368,218,368,220,368,221,368,222,368,226,368,228,368,231,368,232,368,233,368,235,368,236,368,238,368,241,368,243,368,246,368,247,368,250,368,252,368,256,368,258,368,261,368,265,368,266,368,267,368,268,368,270,368,271,368,273,368,276,368,277,368,278,368,281,368,282,368,285,368,286,368,287,368,290,368,291,368,292,368,293,368,295,368,296,368,297,368,298,367,300,366,301,363,302,362,302,361,303,358,303,357,305,356,305,353,305,352,305,348,305,347,305,346,305,343,305,341,305,338,305,337,305,336,305,333,305,332,305,331,305,328,305,327,305,323,305,322,305,318,305,317,305,316,305,313,305,312,306,311,306,308,306,307,306,303,306,301,307,298,307,296,307,293,308,288,308,283,308,278,308,276,308,273,308,272,308,268,308,266,308,263,308,262,308,261,308,258,308,256,308,253,307,253,307,252,306,251,306,248,306,247,306,246,;3,2,1,93,513,92,516,91,518,88,518,86,521,85,522,82,523,81,523,81,526,81,527,81,528,81,531,80,532,80,533,80,536,80,537,80,538,81,538,82,538,82,541,83,541,85,541,86,541,87,541,88,541,90,541,91,541,92,542,93,542,96,542,98,542,100,542,101,542,102,542,105,542,106,542,107,542,110,542,111,542,113,542,116,541,118,541,121,541,121,538,122,538,123,538,125,538,126,538,128,538,131,538,133,538,135,538,136,538,138,538,140,538,141,538,142,538,143,538,146,538,147,538,148,538,151,538,152,538,156,538,157,538,160,538,161,538,163,538,166,538,167,538,168,538,171,538,176,538,177,538,178,538,181,538,182,538,183,538,185,538,186,538,188,538,191,538,193,538,196,538,198,538,202,538,205,538,207,538,210,538,212,538,216,538,218,538,221,538,223,538,225,538,226,538,228,538,231,538,232,538,233,538,236,538,237,538,240,538,241,538,243,538,246,538,247,538,251,538,252,538,256,538,258,538,261,538,262,538,265,538,267,538,271,538,273,538,276,538,277,538,278,538,280,538,281,538,282,538,283,538,285,538,286,538,288,538,290,538,291,538,292,538,295,538,296,538,297,538,298,538,300,538,301,538,302,538,303,538,305,538,306,538,307,538,308,538,310,538,311,538,312,538,312,537,312,536,312,533,313,533,313,532,313,531,313,528,313,527,313,526,313,523,313,522,313,521,313,518,;\"]],\"feedback\":\"nono\"}</FreeText></Answer><Answer><QuestionIdentifier>feedback</QuestionIdentifier><FreeText>nono</FreeText></Answer></QuestionFormAnswers>'}]\n",
      "{'AssignmentId': '31IBVUNM9TG5XSWW9SEUUJR0I68FVJ', 'WorkerId': 'ACUP2HVXGZY46', 'HITId': '3KG2UQJ0MJ5MUSF2VFYV7H5KV21NQ6', 'AssignmentStatus': 'Approved', 'AutoApprovalTime': datetime.datetime(2018, 11, 29, 21, 53, 28, tzinfo=tzlocal()), 'AcceptTime': datetime.datetime(2018, 11, 22, 21, 50, 12, tzinfo=tzlocal()), 'SubmitTime': datetime.datetime(2018, 11, 22, 21, 53, 28, tzinfo=tzlocal()), 'ApprovalTime': datetime.datetime(2018, 11, 27, 16, 11, 29, tzinfo=tzlocal()), 'Answer': '<?xml version=\"1.0\" encoding=\"ASCII\"?><QuestionFormAnswers xmlns=\"http://mechanicalturk.amazonaws.com/AWSMechanicalTurkDataSchemas/2005-10-01/QuestionFormAnswers.xsd\"><Answer><QuestionIdentifier>workerId</QuestionIdentifier><FreeText>ACUP2HVXGZY46</FreeText></Answer><Answer><QuestionIdentifier>results</QuestionIdentifier><FreeText>{\"inputs\":{\"1\":[\"get_flash_player.gif\",\"demo.gif\"],\"2\":[\"get_flash_player.gif\",\"get_flash_player.gif\"]},\"outputs\":[[\"240,600,./infographics_1_0_free.png:3,2,1,123,21,122,21,121,21,120,23,118,23,117,23,116,26,115,26,112,28,111,28,111,30,111,31,110,31,108,31,107,33,106,36,106,38,105,38,103,41,102,41,102,43,101,46,101,48,101,50,101,51,101,53,101,55,101,56,101,58,102,60,103,61,105,63,106,63,106,65,107,66,108,68,110,68,111,68,111,70,113,70,115,70,116,71,117,71,118,71,120,71,121,73,122,73,123,73,125,73,126,73,127,73,128,73,130,73,131,73,132,73,133,73,136,73,137,73,138,73,140,73,141,73,142,73,143,73,146,73,146,71,147,71,148,70,150,68,151,66,151,65,152,63,153,61,155,60,156,58,156,56,156,53,157,51,157,50,158,48,158,46,158,45,158,43,158,41,158,40,158,38,158,36,157,35,156,33,156,31,155,31,153,31,153,30,151,30,151,28,150,28,148,26,147,26,146,26,145,26,143,26,142,25,141,25,140,23,138,23,137,23,136,23,135,23,133,23,132,23,132,21,131,21,130,21,;3,2,1,36,83,37,83,40,83,41,83,42,83,45,83,46,83,47,83,50,83,51,83,52,83,53,83,55,83,56,83,57,83,60,83,61,83,62,83,63,83,65,83,66,83,67,83,68,83,70,83,72,83,75,83,77,83,82,83,86,83,88,83,90,83,91,83,92,83,96,83,103,83,115,83,126,83,138,83,147,83,153,83,156,83,157,83,158,83,160,83,165,83,172,81,180,81,187,81,195,81,201,81,203,81,206,81,208,80,211,80,215,80,222,80,231,80,237,80,243,80,251,80,253,80,252,80,251,81,250,81,246,81,245,83,241,83,238,83,236,85,235,85,231,85,230,85,227,86,226,86,225,86,223,88,222,88,221,88,221,90,221,91,220,91,220,93,220,95,218,95,218,96,217,96,217,98,217,100,217,101,218,101,220,101,221,101,222,101,221,101,221,103,220,103,217,103,215,103,212,103,210,103,207,103,205,103,201,103,196,103,190,105,181,105,175,105,167,106,166,106,161,106,158,106,156,106,148,106,141,106,132,105,123,105,117,105,111,103,106,103,103,103,101,103,100,103,96,103,93,103,90,103,86,103,85,103,81,103,80,103,78,103,76,103,73,101,70,101,66,101,61,101,58,101,55,100,53,100,51,100,50,100,48,100,47,100,47,98,46,98,43,98,42,98,40,98,38,98,37,98,36,98,35,98,33,98,33,96,32,96,32,95,32,93,31,91,31,90,31,88,31,86,;3,2,1,38,130,37,130,36,130,36,131,35,131,33,133,31,133,30,133,28,135,26,135,25,136,23,136,21,138,20,138,18,140,16,140,15,141,12,143,11,145,8,146,7,148,7,150,7,151,7,153,7,155,10,156,11,158,12,160,15,161,17,161,20,163,21,163,22,165,25,165,26,166,27,166,30,166,31,166,32,166,33,166,35,166,36,168,40,168,41,168,46,168,48,168,51,168,55,168,56,168,58,168,61,168,65,168,66,166,68,166,70,165,71,163,71,161,71,158,71,156,67,153,66,151,63,148,61,145,57,143,56,138,52,136,50,133,48,133,47,133,47,131,46,131,45,131,42,131,41,131,40,131,38,133,;3,2,1,36,178,36,176,35,176,33,176,32,178,31,178,28,180,26,181,25,183,23,185,21,185,21,186,20,186,18,188,18,190,17,191,16,193,16,195,16,196,16,198,16,200,16,201,17,203,18,203,20,203,20,205,21,206,22,206,23,206,25,208,26,208,26,210,27,210,28,210,30,211,31,211,32,211,33,211,35,211,36,211,37,211,40,213,41,213,45,213,46,213,47,213,50,213,51,213,53,213,55,213,56,211,58,208,61,206,61,203,62,200,63,198,65,193,65,191,65,188,65,186,65,183,62,183,61,181,60,181,57,180,56,178,53,178,51,176,50,176,47,176,46,176,45,176,42,176,41,176,38,176,37,176,36,176,36,178,;3,2,1,32,228,31,228,28,230,28,231,26,231,26,233,25,235,25,236,23,236,22,238,21,238,21,240,21,241,21,243,21,245,21,246,21,248,21,250,21,251,22,251,22,253,23,253,25,253,25,256,26,256,27,256,28,258,30,258,31,258,32,260,33,261,35,261,36,261,37,261,38,261,40,261,41,261,45,261,46,260,47,258,50,258,51,256,52,256,53,255,55,253,56,251,57,250,58,248,60,246,60,245,60,243,61,241,61,240,61,236,61,235,61,233,60,231,57,231,56,230,53,228,52,226,51,226,48,226,47,225,46,225,45,225,43,225,42,225,41,225,40,225,38,225,36,226,;3,2,1,41,320,41,318,41,316,41,315,;3,2,1,42,268,41,268,40,270,37,271,36,271,33,273,31,273,30,273,27,275,27,276,26,278,25,281,23,283,23,286,23,288,23,291,23,293,23,295,23,296,23,298,23,300,23,301,23,303,25,305,25,306,26,306,27,306,28,306,30,308,31,308,32,308,33,308,35,308,36,308,37,310,38,310,40,310,41,310,42,311,43,311,45,311,46,311,47,311,50,311,51,311,52,311,53,311,55,311,56,310,57,308,58,306,60,306,61,305,61,303,61,301,62,300,63,298,63,296,63,295,63,293,63,291,63,290,63,288,63,286,63,285,63,283,62,281,62,280,61,278,60,276,58,276,57,275,56,275,53,273,51,273,50,273,47,273,46,273,45,271,43,271,;3,2,1,41,320,40,320,38,320,37,320,36,320,32,320,31,321,28,321,27,321,26,323,25,323,23,325,23,326,22,328,22,330,21,331,21,333,21,335,21,336,21,338,21,341,22,341,22,343,23,343,25,343,26,345,26,346,28,346,30,346,31,348,33,348,35,348,36,350,37,351,38,351,40,351,41,351,42,351,43,351,45,351,46,351,47,353,50,353,51,353,53,353,55,351,56,351,57,350,58,348,60,346,60,345,61,343,61,341,61,338,61,336,61,333,60,333,60,331,60,330,58,330,57,328,57,326,56,326,55,325,52,325,51,325,50,323,47,323,46,323,;3,2,1,36,368,33,368,32,368,31,371,28,373,26,373,23,377,21,378,21,381,21,383,22,387,25,388,26,391,28,393,31,393,32,393,35,396,36,396,37,397,38,397,40,398,41,398,42,398,45,398,46,398,50,398,51,398,52,398,53,397,55,396,56,393,56,392,56,391,57,388,58,387,58,383,58,382,58,378,58,377,58,373,57,372,56,368,55,368,52,368,51,368,48,368,47,368,46,367,43,367,42,367,;3,2,1,33,413,32,413,31,417,28,418,26,423,26,426,23,428,23,432,22,433,22,437,22,438,21,438,21,442,21,443,21,446,21,448,22,448,25,448,26,448,27,451,30,452,31,452,32,452,35,452,36,452,38,452,40,452,42,452,45,452,46,451,50,448,51,448,53,448,56,448,57,447,60,446,61,443,63,441,65,438,66,437,66,433,66,431,66,427,65,423,62,421,61,418,61,417,58,416,57,416,56,413,52,413,51,413,47,413,46,413,43,413,42,413,41,413,;3,2,1,31,453,31,456,31,458,31,461,30,463,28,463,27,467,26,468,26,472,26,473,25,473,25,476,23,477,23,478,23,481,23,482,23,483,25,487,26,488,27,488,28,488,30,491,31,492,32,492,33,492,35,492,36,492,37,492,40,492,41,492,43,492,45,492,46,492,48,492,50,491,51,488,53,488,55,487,56,486,56,483,57,481,58,478,58,476,58,473,58,471,57,467,57,463,56,463,55,461,52,461,51,461,50,461,48,461,47,461,46,458,45,458,43,458,;3,2,1,36,511,35,511,33,511,33,512,32,512,31,513,30,513,28,517,26,518,26,522,23,523,23,526,22,528,22,531,22,532,25,533,26,533,27,536,30,536,31,537,32,537,32,538,35,538,36,538,37,538,38,538,40,538,41,538,42,538,45,538,46,538,47,537,50,537,51,537,52,533,53,533,55,533,56,533,56,532,57,531,57,528,57,527,57,523,57,521,56,518,55,513,53,513,52,512,52,511,51,508,50,508,47,508,46,508,45,508,43,508,42,508,;3,2,1,36,552,35,552,33,552,33,553,32,553,31,557,30,558,28,561,27,563,26,563,26,566,23,568,22,571,22,572,22,573,22,576,23,576,25,578,26,578,27,581,30,582,31,583,32,583,33,586,35,586,36,587,37,588,38,588,40,588,41,588,42,588,43,588,45,588,46,588,47,588,50,588,51,588,52,588,55,588,56,588,57,587,60,583,60,578,60,577,61,573,61,572,61,568,61,566,60,563,58,563,57,563,57,562,56,562,56,561,53,558,52,558,51,558,50,557,47,557,46,553,45,553,43,553,;\",\"464,600,./magazine-covers_14_31_free.png:3,2,1,48,83,48,86,48,87,48,88,48,91,48,93,48,97,47,98,47,101,46,101,46,102,46,103,47,106,47,107,48,107,50,107,51,107,52,107,52,108,53,108,55,108,56,108,57,108,58,108,60,108,61,108,62,108,63,108,65,108,66,108,67,108,68,108,70,108,68,108,68,112,66,112,66,113,65,113,65,116,63,116,63,117,63,118,62,118,61,118,61,121,61,122,60,123,58,126,58,127,58,128,57,128,57,132,57,133,56,133,56,136,56,137,56,138,56,141,56,142,55,143,53,143,53,146,53,148,52,151,51,153,51,156,51,158,50,161,50,162,48,163,48,166,48,167,48,168,48,171,48,173,47,176,47,177,47,178,47,181,47,182,47,183,47,186,47,187,47,188,47,191,47,192,48,192,48,193,50,193,51,193,51,196,52,196,53,196,53,197,55,198,56,198,57,198,58,198,60,198,61,198,62,198,63,198,65,198,66,198,67,198,68,198,70,198,70,197,71,197,72,197,72,196,73,193,75,193,76,192,76,191,76,188,77,188,77,187,77,186,78,183,80,183,80,182,80,181,80,178,80,177,80,176,80,173,80,172,80,171,80,168,81,168,82,168,83,168,85,168,86,168,87,168,88,168,90,168,91,168,93,168,95,168,96,168,96,167,97,167,100,167,101,166,101,163,102,163,103,163,105,163,106,163,107,163,108,162,110,162,111,162,111,161,111,158,112,158,113,158,115,158,115,157,116,157,116,158,116,161,116,162,116,163,116,166,116,168,116,171,116,172,116,173,116,176,116,178,115,178,115,181,115,182,115,183,115,186,116,186,117,186,118,186,120,186,121,186,123,186,126,186,127,186,130,186,131,186,132,186,133,186,135,186,136,186,138,186,140,183,141,183,143,183,145,183,146,183,148,182,150,182,151,182,152,181,153,181,153,178,155,178,156,178,156,177,157,177,157,173,158,173,158,172,162,172,166,171,170,168,173,168,175,167,176,167,177,167,178,168,178,171,180,171,181,171,181,172,181,173,185,173,186,173,187,176,188,176,191,176,191,177,192,177,195,177,196,177,197,177,198,177,201,177,202,176,205,173,206,173,207,172,208,172,210,171,211,168,212,168,213,168,215,167,216,167,218,167,225,166,230,163,233,163,236,163,235,163,233,163,232,163,231,166,230,166,228,166,228,167,227,167,227,168,226,168,225,171,225,172,223,173,223,176,223,177,225,177,226,177,227,178,228,178,231,178,232,178,233,178,235,178,236,178,236,177,237,177,238,177,240,177,240,176,241,173,242,173,242,172,243,172,245,171,245,168,246,168,246,167,246,166,246,163,247,162,247,161,247,158,248,158,250,158,251,158,251,157,252,157,253,157,255,157,256,157,256,158,257,158,258,158,260,161,260,162,261,163,262,163,263,163,265,163,266,163,267,166,270,166,271,166,272,166,273,166,275,166,276,166,277,166,278,166,280,166,281,166,282,166,283,166,285,166,286,166,287,166,288,166,290,166,291,166,292,166,293,166,296,166,297,166,298,166,301,163,303,163,306,163,307,163,308,163,310,163,311,163,312,163,313,163,315,163,316,163,318,163,322,163,326,163,328,163,328,162,330,162,331,162,333,162,336,162,338,162,340,162,341,162,343,162,346,162,351,162,353,162,357,162,361,162,362,162,365,162,366,162,367,162,371,161,372,158,375,158,376,158,377,158,378,158,380,158,381,158,383,158,385,158,386,158,387,158,388,158,390,158,391,158,392,158,393,158,397,158,402,158,408,158,412,158,416,157,418,157,420,157,421,157,425,156,426,156,428,153,430,153,431,153,432,153,435,153,436,153,436,152,437,151,438,148,440,148,441,147,441,146,441,143,441,142,441,141,441,138,441,137,441,133,441,132,440,128,440,127,438,123,438,121,438,118,438,116,438,113,438,108,438,103,438,101,438,96,440,93,440,88,440,87,440,83,441,81,441,78,441,76,441,73,441,71,441,68,441,66,441,63,441,61,440,58,438,58,437,57,437,56,436,56,435,56,432,56,430,56,426,56,423,56,421,56,418,56,417,56,416,56,416,57,413,57,411,58,408,58,405,58,401,58,396,58,392,58,388,58,386,58,383,58,382,61,378,61,376,62,371,63,366,63,363,63,360,63,356,63,355,63,351,66,350,66,346,67,345,68,342,68,341,68,340,68,337,68,336,68,336,71,335,72,333,73,332,73,331,77,331,78,330,81,328,82,328,83,327,83,326,83,326,86,326,87,325,87,322,87,321,87,318,87,316,86,315,83,313,83,312,81,312,78,312,77,312,76,312,73,311,73,310,73,308,73,307,73,306,73,305,73,302,73,301,77,298,78,296,83,295,83,295,87,295,88,293,88,292,88,292,91,292,92,291,93,290,96,287,97,286,98,285,101,281,102,280,103,278,103,277,103,276,103,275,103,273,101,272,98,272,96,272,93,271,92,271,91,271,88,270,87,268,86,267,83,266,82,265,81,262,81,261,81,261,78,260,78,258,78,257,78,256,78,255,78,253,78,252,78,251,78,248,78,246,78,241,78,238,81,236,82,235,83,232,83,231,87,231,88,230,88,228,92,228,93,227,93,226,96,226,97,225,97,223,97,222,97,220,97,218,96,216,96,216,93,215,93,215,92,215,91,216,88,217,88,221,87,223,86,226,83,228,83,231,83,232,83,232,82,232,81,232,78,232,76,232,73,232,72,231,68,230,66,228,63,227,62,227,61,226,61,225,61,223,61,222,61,221,61,218,61,213,61,211,61,207,61,206,61,203,61,201,61,197,62,195,62,191,62,186,63,182,63,180,63,177,63,176,63,175,63,171,63,168,63,163,63,158,66,155,66,151,67,150,67,148,67,147,68,146,68,143,68,141,68,137,68,136,68,135,68,133,68,132,68,130,68,126,68,121,68,116,68,110,68,106,68,101,68,97,68,93,68,90,68,86,68,80,71,76,72,71,72,68,72,66,72,62,72,58,73,56,73,53,73,51,73,48,73,48,76,48,77,48,78,50,81,51,82,52,82,52,83,52,86,51,87,50,88,48,88,47,88,46,91,46,92,46,93,46,96,46,97,46,98,46,101,46,102,46,103,47,106,47,107,48,108,50,108,51,108,52,108,55,108,56,108,58,108,60,108,61,108,;3,2,1,290,163,290,166,290,168,288,168,288,173,288,177,288,178,288,182,287,183,287,186,287,187,287,188,288,188,288,191,290,191,290,192,291,192,292,193,293,193,295,193,296,193,298,193,300,196,301,196,302,197,305,197,306,197,307,197,308,197,310,197,311,197,315,197,317,196,318,193,321,193,323,192,326,191,327,188,328,188,331,188,332,188,335,188,336,188,338,188,341,188,343,188,346,188,350,188,352,188,355,188,356,188,358,188,361,187,363,187,366,186,370,186,372,186,375,186,377,186,380,183,381,183,385,183,386,183,390,183,391,183,395,183,397,183,401,183,402,183,406,183,407,183,410,183,411,183,416,183,418,183,422,183,426,183,426,182,428,182,431,181,433,181,435,181,436,181,438,181,441,178,442,178,443,178,445,178,446,178,447,178,448,177,448,176,450,173,450,172,450,171,450,168,450,166,450,163,450,161,450,158,450,157,450,156,450,153,448,152,448,151,447,151,446,151,446,148,445,148,443,148,442,148,441,151,;3,2,1,48,473,47,473,47,476,46,478,46,481,46,483,46,487,46,488,46,491,46,492,46,493,45,493,43,493,42,493,41,493,38,496,36,498,33,498,32,498,31,498,31,501,30,501,30,502,28,502,28,503,27,503,27,506,27,507,26,507,26,508,26,511,26,512,26,513,27,513,28,513,31,516,32,516,33,517,36,517,37,517,38,517,40,517,41,517,42,517,43,516,45,516,46,516,46,513,47,513,48,513,48,516,48,517,48,518,48,522,48,523,48,526,48,527,48,528,48,531,48,532,48,533,50,533,50,536,51,537,51,538,52,538,52,541,53,542,55,543,56,543,57,543,58,543,60,543,60,546,61,546,61,547,62,547,63,547,65,547,66,547,66,548,67,548,68,548,70,548,71,548,72,548,73,548,75,548,76,548,77,548,78,548,81,551,83,551,85,551,86,552,87,552,88,552,90,552,91,552,92,552,93,552,95,552,96,552,97,552,100,552,101,552,102,552,105,552,106,552,107,552,110,552,111,552,115,551,117,548,121,548,123,548,126,548,128,547,131,543,132,538,133,538,135,536,136,533,138,532,138,531,138,528,141,528,142,526,143,523,146,523,146,521,148,518,151,517,151,516,151,513,152,513,153,513,153,512,155,511,156,508,156,507,157,506,157,503,158,503,158,502,158,501,158,498,158,496,158,493,158,492,158,491,156,488,155,488,153,488,152,488,151,488,150,488,148,488,146,487,146,486,143,483,142,483,141,481,140,478,140,477,138,476,138,473,137,473,137,472,136,472,132,472,130,471,123,471,118,471,115,468,111,468,107,468,106,468,105,468,102,468,101,468,97,468,96,468,93,468,91,468,86,468,82,471,78,471,76,471,73,471,71,471,70,471,68,471,66,471,63,471,61,471,60,471,58,471,57,471,56,472,53,472,52,472,;3,2,1,203,473,202,473,201,473,201,476,200,476,198,478,197,478,196,478,196,481,195,483,195,486,193,488,193,491,193,492,193,493,195,496,196,496,197,496,198,496,198,497,200,497,201,497,202,497,203,497,206,497,206,498,207,498,208,498,210,498,211,498,212,498,215,498,216,498,218,501,221,501,223,501,223,502,223,503,223,506,223,507,222,508,221,508,221,511,221,513,221,516,221,517,220,518,218,518,217,518,216,518,212,518,210,518,207,518,206,518,205,521,203,521,201,522,200,523,197,523,196,523,195,523,193,523,192,523,191,526,191,527,190,528,190,531,190,532,191,533,193,536,195,538,196,538,197,538,198,542,201,542,201,543,203,543,205,543,205,546,206,546,206,547,207,547,208,547,210,547,211,547,212,548,213,548,215,548,216,551,217,552,218,553,220,553,221,556,221,557,222,558,223,558,225,558,226,561,227,562,231,562,235,563,237,563,241,563,243,563,246,563,247,563,248,563,251,563,253,563,256,563,257,563,260,563,261,563,262,563,263,563,266,563,266,562,267,561,267,558,268,558,270,558,271,557,271,556,272,556,272,553,273,553,275,553,276,553,276,551,277,551,278,548,280,548,281,546,282,543,283,541,285,541,285,538,285,536,285,533,285,532,285,531,286,528,287,528,288,527,290,527,290,526,291,526,292,526,293,526,295,523,296,523,297,523,298,523,300,523,301,523,301,522,302,521,302,518,302,516,302,513,301,513,298,513,297,513,295,513,291,512,288,512,286,512,285,512,283,512,282,512,281,511,278,508,276,508,276,507,273,506,273,503,271,503,271,502,271,501,271,498,273,498,276,497,280,497,282,496,285,496,286,496,287,493,290,493,291,493,292,493,293,493,295,493,296,493,297,493,298,492,300,488,300,487,300,483,300,482,300,478,300,477,298,473,297,472,296,471,293,468,291,468,290,468,286,468,282,468,278,468,275,468,271,468,266,468,262,468,258,468,253,468,248,468,243,468,240,468,235,468,231,468,228,468,227,468,;3,2,1,338,472,338,473,337,478,337,482,336,483,336,488,336,492,336,493,336,497,336,498,336,503,336,506,336,508,336,511,336,513,336,516,336,517,336,518,336,521,336,522,336,523,337,526,340,526,340,528,341,528,341,531,342,531,343,532,343,533,345,533,346,533,346,536,347,537,347,538,348,538,350,538,351,538,352,538,353,538,353,541,355,541,356,542,356,543,357,543,358,546,358,547,358,548,360,548,361,551,361,552,361,553,361,556,362,556,363,556,363,557,366,557,366,558,367,558,368,558,370,561,371,561,373,561,376,562,377,562,381,562,383,563,386,563,388,563,390,563,391,563,392,563,393,563,396,563,396,562,397,562,398,562,398,561,400,558,401,558,402,558,403,558,405,558,406,557,407,557,408,557,410,557,411,556,411,553,412,553,413,553,415,553,416,553,417,553,418,553,420,553,421,552,422,552,422,551,423,548,425,548,426,546,426,543,427,542,428,538,430,537,430,536,430,533,431,533,431,532,433,532,436,528,441,528,446,528,450,528,451,528,452,528,452,527,452,526,453,523,453,522,453,518,453,517,453,513,453,512,453,511,453,508,453,507,453,506,453,503,453,501,453,498,452,493,452,492,451,488,451,486,451,483,450,482,448,481,448,478,447,478,446,478,445,478,443,478,442,478,441,478,440,477,438,477,437,477,436,477,436,476,436,473,437,473,438,473,;\",\"377,600,./magazine-covers_14_32_free.png:3,2,1,78,73,80,73,81,73,82,73,83,73,83,76,82,76,81,77,81,78,80,78,77,81,77,82,76,83,76,86,76,87,76,88,76,91,76,92,76,93,76,96,77,97,78,98,80,98,81,98,82,101,83,101,85,101,86,101,87,101,88,102,91,102,92,102,93,103,95,103,96,103,97,103,100,103,101,103,102,103,105,103,107,103,111,103,112,103,116,103,118,103,121,103,122,103,123,103,125,103,126,103,130,103,132,103,135,103,136,103,137,103,141,103,142,103,143,103,146,103,147,103,150,103,151,103,153,103,156,103,158,103,160,106,162,106,165,106,166,106,167,106,171,106,173,106,176,106,180,106,182,106,186,106,190,107,191,107,192,108,193,108,195,108,196,108,197,108,201,108,205,108,206,108,210,108,211,108,213,108,216,108,217,108,220,108,221,108,225,108,227,108,231,108,233,108,238,108,241,108,246,108,248,108,251,108,252,107,253,107,256,107,260,107,263,107,268,107,275,107,278,107,282,107,286,107,287,107,291,107,292,107,295,107,296,107,297,107,298,107,298,106,301,106,302,103,303,103,306,103,306,102,307,102,308,102,310,102,311,101,311,98,312,98,313,98,315,98,316,98,317,98,318,98,320,97,321,96,321,93,322,93,323,93,325,92,325,91,325,88,325,87,325,86,325,83,325,82,325,81,325,78,325,77,323,77,323,76,323,73,;3,2,1,100,247,100,248,100,251,98,252,98,253,97,253,96,257,96,258,95,258,93,258,93,261,93,262,92,263,91,263,91,267,91,268,90,268,90,271,90,272,90,273,90,276,90,277,90,278,90,281,88,282,88,283,87,283,87,286,87,287,87,288,86,288,86,291,86,292,86,293,86,297,86,298,85,298,85,301,85,302,85,303,85,306,85,308,85,311,85,312,85,313,85,316,85,318,83,318,83,321,83,323,82,326,81,328,81,331,81,333,81,336,81,338,80,338,80,341,80,343,80,346,80,348,80,351,80,353,80,356,80,357,80,358,80,361,80,362,80,363,81,363,81,366,81,367,82,368,83,368,85,368,86,368,86,371,86,372,88,373,90,373,91,373,92,373,93,373,95,373,96,373,97,373,98,373,101,373,103,373,107,373,111,373,112,373,116,373,117,373,118,373,121,373,123,373,126,373,130,373,132,373,136,373,137,373,140,373,141,373,145,373,147,373,151,373,152,373,156,373,158,373,160,373,161,373,163,373,166,373,167,373,170,373,173,373,176,373,180,373,182,373,185,373,186,373,188,373,190,372,192,372,196,372,197,371,200,371,201,371,202,371,205,371,206,371,206,368,207,368,208,368,211,368,212,368,215,368,216,368,218,368,220,368,221,368,222,368,226,368,228,368,231,368,232,368,233,368,235,368,236,368,238,368,241,368,243,368,246,368,247,368,250,368,252,368,256,368,258,368,261,368,265,368,266,368,267,368,268,368,270,368,271,368,273,368,276,368,277,368,278,368,281,368,282,368,285,368,286,368,287,368,290,368,291,368,292,368,293,368,295,368,296,368,297,368,298,367,300,366,301,363,302,362,302,361,303,358,303,357,305,356,305,353,305,352,305,348,305,347,305,346,305,343,305,341,305,338,305,337,305,336,305,333,305,332,305,331,305,328,305,327,305,323,305,322,305,318,305,317,305,316,305,313,305,312,306,311,306,308,306,307,306,303,306,301,307,298,307,296,307,293,308,288,308,283,308,278,308,276,308,273,308,272,308,268,308,266,308,263,308,262,308,261,308,258,308,256,308,253,307,253,307,252,306,251,306,248,306,247,306,246,;3,2,1,93,513,92,516,91,518,88,518,86,521,85,522,82,523,81,523,81,526,81,527,81,528,81,531,80,532,80,533,80,536,80,537,80,538,81,538,82,538,82,541,83,541,85,541,86,541,87,541,88,541,90,541,91,541,92,542,93,542,96,542,98,542,100,542,101,542,102,542,105,542,106,542,107,542,110,542,111,542,113,542,116,541,118,541,121,541,121,538,122,538,123,538,125,538,126,538,128,538,131,538,133,538,135,538,136,538,138,538,140,538,141,538,142,538,143,538,146,538,147,538,148,538,151,538,152,538,156,538,157,538,160,538,161,538,163,538,166,538,167,538,168,538,171,538,176,538,177,538,178,538,181,538,182,538,183,538,185,538,186,538,188,538,191,538,193,538,196,538,198,538,202,538,205,538,207,538,210,538,212,538,216,538,218,538,221,538,223,538,225,538,226,538,228,538,231,538,232,538,233,538,236,538,237,538,240,538,241,538,243,538,246,538,247,538,251,538,252,538,256,538,258,538,261,538,262,538,265,538,267,538,271,538,273,538,276,538,277,538,278,538,280,538,281,538,282,538,283,538,285,538,286,538,288,538,290,538,291,538,292,538,295,538,296,538,297,538,298,538,300,538,301,538,302,538,303,538,305,538,306,538,307,538,308,538,310,538,311,538,312,538,312,537,312,536,312,533,313,533,313,532,313,531,313,528,313,527,313,526,313,523,313,522,313,521,313,518,;\"]],\"feedback\":\"nono\"}</FreeText></Answer><Answer><QuestionIdentifier>feedback</QuestionIdentifier><FreeText>nono</FreeText></Answer></QuestionFormAnswers>'}\n",
      "3MVY4USGB646T7JOQ3A8X9O4RRSSIK\n",
      "[]\n"
     ]
    },
    {
     "data": {
      "text/plain": [
       "5"
      ]
     },
     "execution_count": 41,
     "metadata": {},
     "output_type": "execute_result"
    }
   ],
   "source": [
    "responses = get_assignment_content(hits, download_path='responses.json', should_print=False)\n",
    "len(responses)"
   ]
  },
  {
   "cell_type": "code",
   "execution_count": null,
   "metadata": {},
   "outputs": [],
   "source": []
  }
 ],
 "metadata": {
  "kernelspec": {
   "display_name": "Python 3",
   "language": "python",
   "name": "python3"
  },
  "language_info": {
   "codemirror_mode": {
    "name": "ipython",
    "version": 3
   },
   "file_extension": ".py",
   "mimetype": "text/x-python",
   "name": "python",
   "nbconvert_exporter": "python",
   "pygments_lexer": "ipython3",
   "version": "3.6.6"
  }
 },
 "nbformat": 4,
 "nbformat_minor": 2
}
